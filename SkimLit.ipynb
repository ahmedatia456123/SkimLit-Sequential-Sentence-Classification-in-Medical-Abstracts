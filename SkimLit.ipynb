{
  "cells": [
    {
      "cell_type": "markdown",
      "metadata": {
        "id": "9OAyfFgzyhtX"
      },
      "source": [
        "# Building an NLP Model for Medical Abstracts\n",
        "\n",
        "The purpose of this notebook is to build an NLP model to make reading medical abstracts easier.\n",
        "\n",
        "## Reference Paper\n",
        "We are replicating the approach from the following paper, which is also the source of the dataset used in this notebook:  \n",
        "[https://arxiv.org/abs/1710.06071](https://arxiv.org/abs/1710.06071)\n",
        "\n",
        "## Model Architecture\n",
        "The model architecture that achieves the best results, as described in the reference paper, can be found here:  \n",
        "[https://arxiv.org/abs/1612.05251](https://arxiv.org/abs/1612.05251)\n"
      ]
    },
    {
      "cell_type": "markdown",
      "metadata": {
        "id": "0t0hRcMGytrt"
      },
      "source": [
        "## Confirm access to a GPU"
      ]
    },
    {
      "cell_type": "code",
      "execution_count": 1,
      "metadata": {
        "colab": {
          "base_uri": "https://localhost:8080/"
        },
        "id": "S95EttjnyZVO",
        "outputId": "5413b82c-1837-49dd-e473-ef5977c3b034"
      },
      "outputs": [
        {
          "output_type": "stream",
          "name": "stdout",
          "text": [
            "/bin/bash: line 1: nvidia-smi: command not found\n"
          ]
        }
      ],
      "source": [
        "!nvidia-smi"
      ]
    },
    {
      "cell_type": "markdown",
      "metadata": {
        "id": "wqwT1lQuzAh9"
      },
      "source": [
        "## Get the Data\n",
        "Since we will replicate the paper above (PubMud 200k RCT) lets download the dataset [https://github.com/Franck-Dernoncourt/pubmed-rct.git](https://github.com/Franck-Dernoncourt/pubmed-rct.git)"
      ]
    },
    {
      "cell_type": "code",
      "execution_count": 2,
      "metadata": {
        "colab": {
          "base_uri": "https://localhost:8080/"
        },
        "id": "a3K5GeXAy5vI",
        "outputId": "897998d5-739e-4667-cc20-af8777703e0a"
      },
      "outputs": [
        {
          "output_type": "stream",
          "name": "stdout",
          "text": [
            "fatal: destination path 'pubmed-rct' already exists and is not an empty directory.\n",
            "PubMed_200k_RCT\t\t\t\t       PubMed_20k_RCT_numbers_replaced_with_at_sign\n",
            "PubMed_200k_RCT_numbers_replaced_with_at_sign  README.md\n",
            "PubMed_20k_RCT\n"
          ]
        }
      ],
      "source": [
        "!git clone https://github.com/Franck-Dernoncourt/pubmed-rct.git\n",
        "!ls pubmed-rct"
      ]
    },
    {
      "cell_type": "code",
      "execution_count": 3,
      "metadata": {
        "colab": {
          "base_uri": "https://localhost:8080/"
        },
        "id": "2ata7zPPztSe",
        "outputId": "d9eeedf5-8b90-4187-9539-8fa2d1e0fa84"
      },
      "outputs": [
        {
          "output_type": "stream",
          "name": "stdout",
          "text": [
            "dev.txt  test.txt  train.txt\n"
          ]
        }
      ],
      "source": [
        "# Check what files are in PubMed_20k\n",
        "!ls pubmed-rct/PubMed_20k_RCT_numbers_replaced_with_at_sign"
      ]
    },
    {
      "cell_type": "code",
      "execution_count": 4,
      "metadata": {
        "id": "KbejQ5fK0YOR"
      },
      "outputs": [],
      "source": [
        "# Start our experement using the 20k dataset with numbers replaced by '@' sign\n",
        "data_dir = 'pubmed-rct/PubMed_20k_RCT_numbers_replaced_with_at_sign/'"
      ]
    },
    {
      "cell_type": "code",
      "execution_count": 5,
      "metadata": {
        "colab": {
          "base_uri": "https://localhost:8080/"
        },
        "id": "aXR_K6t01MWH",
        "outputId": "d1e50dec-df31-45a2-c051-452479ad61c1"
      },
      "outputs": [
        {
          "output_type": "stream",
          "name": "stdout",
          "text": [
            "pubmed-rct/PubMed_20k_RCT_numbers_replaced_with_at_sign//test.txt\n",
            "pubmed-rct/PubMed_20k_RCT_numbers_replaced_with_at_sign//dev.txt\n",
            "pubmed-rct/PubMed_20k_RCT_numbers_replaced_with_at_sign//train.txt\n"
          ]
        }
      ],
      "source": [
        "# Check all file names in the target directory\n",
        "import os\n",
        "for filenames in os.listdir(data_dir):\n",
        "  print(data_dir+'/'+filenames)"
      ]
    },
    {
      "cell_type": "markdown",
      "metadata": {
        "id": "RaEsmxL52DeE"
      },
      "source": [
        "## data preprocessing\n",
        "Now we've got some text data, it's time to become one with the data and one of the best ways to become one with the data is to Visualize"
      ]
    },
    {
      "cell_type": "code",
      "execution_count": 6,
      "metadata": {
        "id": "H3_VSBQI1RVP"
      },
      "outputs": [],
      "source": [
        "# Create a function that reads the lines of a document and returns them as a list\n",
        "def read_lines(filename):\n",
        "    \"\"\"\n",
        "    Reads a file and returns its lines as a list.\n",
        "\n",
        "    Parameters:\n",
        "        filename (str): The path to the file to be read.\n",
        "\n",
        "    Returns:\n",
        "        list: A list containing each line of the file as a string.\n",
        "    \"\"\"\n",
        "    lines = []  # Initialize an empty list to store the lines\n",
        "    with open(filename, 'r') as f:  # Open the file in read mode\n",
        "        for line in f:  # Iterate over each line in the file\n",
        "            lines.append(line)  # Append the line to the list\n",
        "    return lines  # Return the list of lines\n"
      ]
    },
    {
      "cell_type": "code",
      "execution_count": 7,
      "metadata": {
        "colab": {
          "base_uri": "https://localhost:8080/"
        },
        "id": "Lgdm8pnl2k4l",
        "outputId": "17a67bc7-7449-4354-b9bb-8e116979b787"
      },
      "outputs": [
        {
          "output_type": "execute_result",
          "data": {
            "text/plain": [
              "['###24293578\\n',\n",
              " 'OBJECTIVE\\tTo investigate the efficacy of @ weeks of daily low-dose oral prednisolone in improving pain , mobility , and systemic low-grade inflammation in the short term and whether the effect would be sustained at @ weeks in older adults with moderate to severe knee osteoarthritis ( OA ) .\\n',\n",
              " 'METHODS\\tA total of @ patients with primary knee OA were randomized @:@ ; @ received @ mg/day of prednisolone and @ received placebo for @ weeks .\\n',\n",
              " 'METHODS\\tOutcome measures included pain reduction and improvement in function scores and systemic inflammation markers .\\n',\n",
              " 'METHODS\\tPain was assessed using the visual analog pain scale ( @-@ mm ) .\\n',\n",
              " 'METHODS\\tSecondary outcome measures included the Western Ontario and McMaster Universities Osteoarthritis Index scores , patient global assessment ( PGA ) of the severity of knee OA , and @-min walk distance ( @MWD ) .\\n',\n",
              " 'METHODS\\tSerum levels of interleukin @ ( IL-@ ) , IL-@ , tumor necrosis factor ( TNF ) - , and high-sensitivity C-reactive protein ( hsCRP ) were measured .\\n',\n",
              " 'RESULTS\\tThere was a clinically relevant reduction in the intervention group compared to the placebo group for knee pain , physical function , PGA , and @MWD at @ weeks .\\n',\n",
              " 'RESULTS\\tThe mean difference between treatment arms ( @ % CI ) was @ ( @-@ @ ) , p < @ ; @ ( @-@ @ ) , p < @ ; @ ( @-@ @ ) , p < @ ; and @ ( @-@ @ ) , p < @ , respectively .\\n',\n",
              " 'RESULTS\\tFurther , there was a clinically relevant reduction in the serum levels of IL-@ , IL-@ , TNF - , and hsCRP at @ weeks in the intervention group when compared to the placebo group .\\n',\n",
              " 'RESULTS\\tThese differences remained significant at @ weeks .\\n',\n",
              " 'RESULTS\\tThe Outcome Measures in Rheumatology Clinical Trials-Osteoarthritis Research Society International responder rate was @ % in the intervention group and @ % in the placebo group ( p < @ ) .\\n',\n",
              " 'CONCLUSIONS\\tLow-dose oral prednisolone had both a short-term and a longer sustained effect resulting in less knee pain , better physical function , and attenuation of systemic inflammation in older patients with knee OA ( ClinicalTrials.gov identifier NCT@ ) .\\n',\n",
              " '\\n',\n",
              " '###24854809\\n',\n",
              " 'BACKGROUND\\tEmotional eating is associated with overeating and the development of obesity .\\n',\n",
              " 'BACKGROUND\\tYet , empirical evidence for individual ( trait ) differences in emotional eating and cognitive mechanisms that contribute to eating during sad mood remain equivocal .\\n',\n",
              " 'OBJECTIVE\\tThe aim of this study was to test if attention bias for food moderates the effect of self-reported emotional eating during sad mood ( vs neutral mood ) on actual food intake .\\n',\n",
              " 'OBJECTIVE\\tIt was expected that emotional eating is predictive of elevated attention for food and higher food intake after an experimentally induced sad mood and that attentional maintenance on food predicts food intake during a sad versus a neutral mood .\\n',\n",
              " 'METHODS\\tParticipants ( N = @ ) were randomly assigned to one of the two experimental mood induction conditions ( sad/neutral ) .\\n']"
            ]
          },
          "metadata": {},
          "execution_count": 7
        }
      ],
      "source": [
        "# lets read the training lines\n",
        "train_lines = read_lines(data_dir+'/train.txt')\n",
        "train_lines[0:20]"
      ]
    },
    {
      "cell_type": "code",
      "execution_count": 8,
      "metadata": {
        "colab": {
          "base_uri": "https://localhost:8080/"
        },
        "id": "6R1aRQ4x2sw3",
        "outputId": "aef7abb1-031d-4cb2-9059-c91da12a868c"
      },
      "outputs": [
        {
          "output_type": "execute_result",
          "data": {
            "text/plain": [
              "210040"
            ]
          },
          "metadata": {},
          "execution_count": 8
        }
      ],
      "source": [
        "len(train_lines)"
      ]
    },
    {
      "cell_type": "markdown",
      "metadata": {
        "id": "ebPTaZBK3az5"
      },
      "source": [
        "# Lets think about how we want our data to look\n",
        "How I think our data would be represented\n",
        "```\n",
        "[{'line_number':0,\n",
        "  'target': 'BACKGROUND',\n",
        "  'text': 'Emotional eating is associated with overeating and the development of obesity ./n',\n",
        "  'total_line':11},\n",
        "  ....]\n",
        "```"
      ]
    },
    {
      "cell_type": "code",
      "execution_count": 9,
      "metadata": {
        "id": "iXkSN0wA3LVB"
      },
      "outputs": [],
      "source": [
        "# Lets write a function wich turns each of our datasets into the above formate so we continue to prepare the data\n",
        "def preprocess_text_with_line_numbers(filename):\n",
        "  \"\"\"Returns a list of dictionaries of abstract line data.\n",
        "\n",
        "  Takes in filename, reads its contents and sorts through each line,\n",
        "  extracting things like the target label, the text of the sentence,\n",
        "  how many sentences are in the current abstract and what sentence number\n",
        "  the target line is.\n",
        "\n",
        "  Args:\n",
        "      filename: a string of the target text file to read and extract line data\n",
        "      from.\n",
        "\n",
        "  Returns:\n",
        "      A list of dictionaries each containing a line from an abstract,\n",
        "      the lines label, the lines position in the abstract and the total number\n",
        "      of lines in the abstract where the line is from. For example:\n",
        "\n",
        "      [{\"target\": 'CONCLUSION',\n",
        "        \"text\": The study couldn't have gone better, turns out people are kinder than you think\",\n",
        "        \"line_number\": 8,\n",
        "        \"total_lines\": 8}]\n",
        "  \"\"\"\n",
        "  input_lines = read_lines(filename) # get all lines from filename\n",
        "  abstract_lines = \"\" # create an empty abstract\n",
        "  abstract_samples = [] # create an empty list of abstracts\n",
        "\n",
        "  # Loop through each line in target file\n",
        "  for line in input_lines:\n",
        "    if line.startswith(\"###\"): # check to see if line is an ID line\n",
        "      abstract_id = line\n",
        "      abstract_lines = \"\" # reset abstract string\n",
        "    elif line.isspace(): # check to see if line is a new line\n",
        "      abstract_line_split = abstract_lines.splitlines() # split abstract into separate lines\n",
        "\n",
        "      # Iterate through each line in abstract and count them at the same time\n",
        "      for abstract_line_number, abstract_line in enumerate(abstract_line_split):\n",
        "        line_data = {} # create empty dict to store data from line\n",
        "        target_text_split = abstract_line.split(\"\\t\") # split target label from text\n",
        "        line_data[\"target\"] = target_text_split[0] # get target label\n",
        "        line_data[\"text\"] = target_text_split[1].lower() # get target text and lower it\n",
        "        line_data[\"line_number\"] = abstract_line_number # what number line does the line appear in the abstract?\n",
        "        line_data[\"total_lines\"] = len(abstract_line_split) - 1 # how many total lines are in the abstract? (start from 0)\n",
        "        abstract_samples.append(line_data) # add line data to abstract samples list\n",
        "\n",
        "    else: # if the above conditions aren't fulfilled, the line contains a labelled sentence\n",
        "      abstract_lines += line\n",
        "\n",
        "  return abstract_samples\n"
      ]
    },
    {
      "cell_type": "code",
      "execution_count": 10,
      "metadata": {
        "colab": {
          "base_uri": "https://localhost:8080/"
        },
        "id": "IfhZMsN1Wf-B",
        "outputId": "4fa84d8f-7f86-43cc-ef53-518ee57547de"
      },
      "outputs": [
        {
          "output_type": "stream",
          "name": "stdout",
          "text": [
            "CPU times: user 913 ms, sys: 181 ms, total: 1.09 s\n",
            "Wall time: 1.82 s\n"
          ]
        },
        {
          "output_type": "execute_result",
          "data": {
            "text/plain": [
              "(180040, 30212, 30135)"
            ]
          },
          "metadata": {},
          "execution_count": 10
        }
      ],
      "source": [
        "# Get data from file and preprocess it\n",
        "%%time\n",
        "train_samples = preprocess_text_with_line_numbers(data_dir + \"train.txt\")\n",
        "val_samples = preprocess_text_with_line_numbers(data_dir + \"dev.txt\") # dev is another name for validation set\n",
        "test_samples = preprocess_text_with_line_numbers(data_dir + \"test.txt\")\n",
        "len(train_samples), len(val_samples), len(test_samples)"
      ]
    },
    {
      "cell_type": "code",
      "execution_count": 11,
      "metadata": {
        "colab": {
          "base_uri": "https://localhost:8080/"
        },
        "id": "5zhHyXTOWgmX",
        "outputId": "09234ecd-58be-4cd0-c35c-fd83b773084a"
      },
      "outputs": [
        {
          "output_type": "execute_result",
          "data": {
            "text/plain": [
              "[{'target': 'OBJECTIVE',\n",
              "  'text': 'to investigate the efficacy of @ weeks of daily low-dose oral prednisolone in improving pain , mobility , and systemic low-grade inflammation in the short term and whether the effect would be sustained at @ weeks in older adults with moderate to severe knee osteoarthritis ( oa ) .',\n",
              "  'line_number': 0,\n",
              "  'total_lines': 11},\n",
              " {'target': 'METHODS',\n",
              "  'text': 'a total of @ patients with primary knee oa were randomized @:@ ; @ received @ mg/day of prednisolone and @ received placebo for @ weeks .',\n",
              "  'line_number': 1,\n",
              "  'total_lines': 11},\n",
              " {'target': 'METHODS',\n",
              "  'text': 'outcome measures included pain reduction and improvement in function scores and systemic inflammation markers .',\n",
              "  'line_number': 2,\n",
              "  'total_lines': 11},\n",
              " {'target': 'METHODS',\n",
              "  'text': 'pain was assessed using the visual analog pain scale ( @-@ mm ) .',\n",
              "  'line_number': 3,\n",
              "  'total_lines': 11},\n",
              " {'target': 'METHODS',\n",
              "  'text': 'secondary outcome measures included the western ontario and mcmaster universities osteoarthritis index scores , patient global assessment ( pga ) of the severity of knee oa , and @-min walk distance ( @mwd ) .',\n",
              "  'line_number': 4,\n",
              "  'total_lines': 11},\n",
              " {'target': 'METHODS',\n",
              "  'text': 'serum levels of interleukin @ ( il-@ ) , il-@ , tumor necrosis factor ( tnf ) - , and high-sensitivity c-reactive protein ( hscrp ) were measured .',\n",
              "  'line_number': 5,\n",
              "  'total_lines': 11},\n",
              " {'target': 'RESULTS',\n",
              "  'text': 'there was a clinically relevant reduction in the intervention group compared to the placebo group for knee pain , physical function , pga , and @mwd at @ weeks .',\n",
              "  'line_number': 6,\n",
              "  'total_lines': 11},\n",
              " {'target': 'RESULTS',\n",
              "  'text': 'the mean difference between treatment arms ( @ % ci ) was @ ( @-@ @ ) , p < @ ; @ ( @-@ @ ) , p < @ ; @ ( @-@ @ ) , p < @ ; and @ ( @-@ @ ) , p < @ , respectively .',\n",
              "  'line_number': 7,\n",
              "  'total_lines': 11},\n",
              " {'target': 'RESULTS',\n",
              "  'text': 'further , there was a clinically relevant reduction in the serum levels of il-@ , il-@ , tnf - , and hscrp at @ weeks in the intervention group when compared to the placebo group .',\n",
              "  'line_number': 8,\n",
              "  'total_lines': 11},\n",
              " {'target': 'RESULTS',\n",
              "  'text': 'these differences remained significant at @ weeks .',\n",
              "  'line_number': 9,\n",
              "  'total_lines': 11}]"
            ]
          },
          "metadata": {},
          "execution_count": 11
        }
      ],
      "source": [
        "train_samples[:10]"
      ]
    },
    {
      "cell_type": "code",
      "execution_count": 12,
      "metadata": {
        "colab": {
          "base_uri": "https://localhost:8080/",
          "height": 206
        },
        "id": "viXmmBNiXH-C",
        "outputId": "62d56894-0092-4cf9-abcf-6c882277a014"
      },
      "outputs": [
        {
          "output_type": "execute_result",
          "data": {
            "text/plain": [
              "      target                                               text  line_number  \\\n",
              "0  OBJECTIVE  to investigate the efficacy of @ weeks of dail...            0   \n",
              "1    METHODS  a total of @ patients with primary knee oa wer...            1   \n",
              "2    METHODS  outcome measures included pain reduction and i...            2   \n",
              "3    METHODS  pain was assessed using the visual analog pain...            3   \n",
              "4    METHODS  secondary outcome measures included the wester...            4   \n",
              "\n",
              "   total_lines  \n",
              "0           11  \n",
              "1           11  \n",
              "2           11  \n",
              "3           11  \n",
              "4           11  "
            ],
            "text/html": [
              "\n",
              "  <div id=\"df-b45dc2cc-7865-4bce-8598-025bc2200799\" class=\"colab-df-container\">\n",
              "    <div>\n",
              "<style scoped>\n",
              "    .dataframe tbody tr th:only-of-type {\n",
              "        vertical-align: middle;\n",
              "    }\n",
              "\n",
              "    .dataframe tbody tr th {\n",
              "        vertical-align: top;\n",
              "    }\n",
              "\n",
              "    .dataframe thead th {\n",
              "        text-align: right;\n",
              "    }\n",
              "</style>\n",
              "<table border=\"1\" class=\"dataframe\">\n",
              "  <thead>\n",
              "    <tr style=\"text-align: right;\">\n",
              "      <th></th>\n",
              "      <th>target</th>\n",
              "      <th>text</th>\n",
              "      <th>line_number</th>\n",
              "      <th>total_lines</th>\n",
              "    </tr>\n",
              "  </thead>\n",
              "  <tbody>\n",
              "    <tr>\n",
              "      <th>0</th>\n",
              "      <td>OBJECTIVE</td>\n",
              "      <td>to investigate the efficacy of @ weeks of dail...</td>\n",
              "      <td>0</td>\n",
              "      <td>11</td>\n",
              "    </tr>\n",
              "    <tr>\n",
              "      <th>1</th>\n",
              "      <td>METHODS</td>\n",
              "      <td>a total of @ patients with primary knee oa wer...</td>\n",
              "      <td>1</td>\n",
              "      <td>11</td>\n",
              "    </tr>\n",
              "    <tr>\n",
              "      <th>2</th>\n",
              "      <td>METHODS</td>\n",
              "      <td>outcome measures included pain reduction and i...</td>\n",
              "      <td>2</td>\n",
              "      <td>11</td>\n",
              "    </tr>\n",
              "    <tr>\n",
              "      <th>3</th>\n",
              "      <td>METHODS</td>\n",
              "      <td>pain was assessed using the visual analog pain...</td>\n",
              "      <td>3</td>\n",
              "      <td>11</td>\n",
              "    </tr>\n",
              "    <tr>\n",
              "      <th>4</th>\n",
              "      <td>METHODS</td>\n",
              "      <td>secondary outcome measures included the wester...</td>\n",
              "      <td>4</td>\n",
              "      <td>11</td>\n",
              "    </tr>\n",
              "  </tbody>\n",
              "</table>\n",
              "</div>\n",
              "    <div class=\"colab-df-buttons\">\n",
              "\n",
              "  <div class=\"colab-df-container\">\n",
              "    <button class=\"colab-df-convert\" onclick=\"convertToInteractive('df-b45dc2cc-7865-4bce-8598-025bc2200799')\"\n",
              "            title=\"Convert this dataframe to an interactive table.\"\n",
              "            style=\"display:none;\">\n",
              "\n",
              "  <svg xmlns=\"http://www.w3.org/2000/svg\" height=\"24px\" viewBox=\"0 -960 960 960\">\n",
              "    <path d=\"M120-120v-720h720v720H120Zm60-500h600v-160H180v160Zm220 220h160v-160H400v160Zm0 220h160v-160H400v160ZM180-400h160v-160H180v160Zm440 0h160v-160H620v160ZM180-180h160v-160H180v160Zm440 0h160v-160H620v160Z\"/>\n",
              "  </svg>\n",
              "    </button>\n",
              "\n",
              "  <style>\n",
              "    .colab-df-container {\n",
              "      display:flex;\n",
              "      gap: 12px;\n",
              "    }\n",
              "\n",
              "    .colab-df-convert {\n",
              "      background-color: #E8F0FE;\n",
              "      border: none;\n",
              "      border-radius: 50%;\n",
              "      cursor: pointer;\n",
              "      display: none;\n",
              "      fill: #1967D2;\n",
              "      height: 32px;\n",
              "      padding: 0 0 0 0;\n",
              "      width: 32px;\n",
              "    }\n",
              "\n",
              "    .colab-df-convert:hover {\n",
              "      background-color: #E2EBFA;\n",
              "      box-shadow: 0px 1px 2px rgba(60, 64, 67, 0.3), 0px 1px 3px 1px rgba(60, 64, 67, 0.15);\n",
              "      fill: #174EA6;\n",
              "    }\n",
              "\n",
              "    .colab-df-buttons div {\n",
              "      margin-bottom: 4px;\n",
              "    }\n",
              "\n",
              "    [theme=dark] .colab-df-convert {\n",
              "      background-color: #3B4455;\n",
              "      fill: #D2E3FC;\n",
              "    }\n",
              "\n",
              "    [theme=dark] .colab-df-convert:hover {\n",
              "      background-color: #434B5C;\n",
              "      box-shadow: 0px 1px 3px 1px rgba(0, 0, 0, 0.15);\n",
              "      filter: drop-shadow(0px 1px 2px rgba(0, 0, 0, 0.3));\n",
              "      fill: #FFFFFF;\n",
              "    }\n",
              "  </style>\n",
              "\n",
              "    <script>\n",
              "      const buttonEl =\n",
              "        document.querySelector('#df-b45dc2cc-7865-4bce-8598-025bc2200799 button.colab-df-convert');\n",
              "      buttonEl.style.display =\n",
              "        google.colab.kernel.accessAllowed ? 'block' : 'none';\n",
              "\n",
              "      async function convertToInteractive(key) {\n",
              "        const element = document.querySelector('#df-b45dc2cc-7865-4bce-8598-025bc2200799');\n",
              "        const dataTable =\n",
              "          await google.colab.kernel.invokeFunction('convertToInteractive',\n",
              "                                                    [key], {});\n",
              "        if (!dataTable) return;\n",
              "\n",
              "        const docLinkHtml = 'Like what you see? Visit the ' +\n",
              "          '<a target=\"_blank\" href=https://colab.research.google.com/notebooks/data_table.ipynb>data table notebook</a>'\n",
              "          + ' to learn more about interactive tables.';\n",
              "        element.innerHTML = '';\n",
              "        dataTable['output_type'] = 'display_data';\n",
              "        await google.colab.output.renderOutput(dataTable, element);\n",
              "        const docLink = document.createElement('div');\n",
              "        docLink.innerHTML = docLinkHtml;\n",
              "        element.appendChild(docLink);\n",
              "      }\n",
              "    </script>\n",
              "  </div>\n",
              "\n",
              "\n",
              "<div id=\"df-6be12ff8-10c4-4570-8dde-7cc4dc4f391f\">\n",
              "  <button class=\"colab-df-quickchart\" onclick=\"quickchart('df-6be12ff8-10c4-4570-8dde-7cc4dc4f391f')\"\n",
              "            title=\"Suggest charts\"\n",
              "            style=\"display:none;\">\n",
              "\n",
              "<svg xmlns=\"http://www.w3.org/2000/svg\" height=\"24px\"viewBox=\"0 0 24 24\"\n",
              "     width=\"24px\">\n",
              "    <g>\n",
              "        <path d=\"M19 3H5c-1.1 0-2 .9-2 2v14c0 1.1.9 2 2 2h14c1.1 0 2-.9 2-2V5c0-1.1-.9-2-2-2zM9 17H7v-7h2v7zm4 0h-2V7h2v10zm4 0h-2v-4h2v4z\"/>\n",
              "    </g>\n",
              "</svg>\n",
              "  </button>\n",
              "\n",
              "<style>\n",
              "  .colab-df-quickchart {\n",
              "      --bg-color: #E8F0FE;\n",
              "      --fill-color: #1967D2;\n",
              "      --hover-bg-color: #E2EBFA;\n",
              "      --hover-fill-color: #174EA6;\n",
              "      --disabled-fill-color: #AAA;\n",
              "      --disabled-bg-color: #DDD;\n",
              "  }\n",
              "\n",
              "  [theme=dark] .colab-df-quickchart {\n",
              "      --bg-color: #3B4455;\n",
              "      --fill-color: #D2E3FC;\n",
              "      --hover-bg-color: #434B5C;\n",
              "      --hover-fill-color: #FFFFFF;\n",
              "      --disabled-bg-color: #3B4455;\n",
              "      --disabled-fill-color: #666;\n",
              "  }\n",
              "\n",
              "  .colab-df-quickchart {\n",
              "    background-color: var(--bg-color);\n",
              "    border: none;\n",
              "    border-radius: 50%;\n",
              "    cursor: pointer;\n",
              "    display: none;\n",
              "    fill: var(--fill-color);\n",
              "    height: 32px;\n",
              "    padding: 0;\n",
              "    width: 32px;\n",
              "  }\n",
              "\n",
              "  .colab-df-quickchart:hover {\n",
              "    background-color: var(--hover-bg-color);\n",
              "    box-shadow: 0 1px 2px rgba(60, 64, 67, 0.3), 0 1px 3px 1px rgba(60, 64, 67, 0.15);\n",
              "    fill: var(--button-hover-fill-color);\n",
              "  }\n",
              "\n",
              "  .colab-df-quickchart-complete:disabled,\n",
              "  .colab-df-quickchart-complete:disabled:hover {\n",
              "    background-color: var(--disabled-bg-color);\n",
              "    fill: var(--disabled-fill-color);\n",
              "    box-shadow: none;\n",
              "  }\n",
              "\n",
              "  .colab-df-spinner {\n",
              "    border: 2px solid var(--fill-color);\n",
              "    border-color: transparent;\n",
              "    border-bottom-color: var(--fill-color);\n",
              "    animation:\n",
              "      spin 1s steps(1) infinite;\n",
              "  }\n",
              "\n",
              "  @keyframes spin {\n",
              "    0% {\n",
              "      border-color: transparent;\n",
              "      border-bottom-color: var(--fill-color);\n",
              "      border-left-color: var(--fill-color);\n",
              "    }\n",
              "    20% {\n",
              "      border-color: transparent;\n",
              "      border-left-color: var(--fill-color);\n",
              "      border-top-color: var(--fill-color);\n",
              "    }\n",
              "    30% {\n",
              "      border-color: transparent;\n",
              "      border-left-color: var(--fill-color);\n",
              "      border-top-color: var(--fill-color);\n",
              "      border-right-color: var(--fill-color);\n",
              "    }\n",
              "    40% {\n",
              "      border-color: transparent;\n",
              "      border-right-color: var(--fill-color);\n",
              "      border-top-color: var(--fill-color);\n",
              "    }\n",
              "    60% {\n",
              "      border-color: transparent;\n",
              "      border-right-color: var(--fill-color);\n",
              "    }\n",
              "    80% {\n",
              "      border-color: transparent;\n",
              "      border-right-color: var(--fill-color);\n",
              "      border-bottom-color: var(--fill-color);\n",
              "    }\n",
              "    90% {\n",
              "      border-color: transparent;\n",
              "      border-bottom-color: var(--fill-color);\n",
              "    }\n",
              "  }\n",
              "</style>\n",
              "\n",
              "  <script>\n",
              "    async function quickchart(key) {\n",
              "      const quickchartButtonEl =\n",
              "        document.querySelector('#' + key + ' button');\n",
              "      quickchartButtonEl.disabled = true;  // To prevent multiple clicks.\n",
              "      quickchartButtonEl.classList.add('colab-df-spinner');\n",
              "      try {\n",
              "        const charts = await google.colab.kernel.invokeFunction(\n",
              "            'suggestCharts', [key], {});\n",
              "      } catch (error) {\n",
              "        console.error('Error during call to suggestCharts:', error);\n",
              "      }\n",
              "      quickchartButtonEl.classList.remove('colab-df-spinner');\n",
              "      quickchartButtonEl.classList.add('colab-df-quickchart-complete');\n",
              "    }\n",
              "    (() => {\n",
              "      let quickchartButtonEl =\n",
              "        document.querySelector('#df-6be12ff8-10c4-4570-8dde-7cc4dc4f391f button');\n",
              "      quickchartButtonEl.style.display =\n",
              "        google.colab.kernel.accessAllowed ? 'block' : 'none';\n",
              "    })();\n",
              "  </script>\n",
              "</div>\n",
              "\n",
              "    </div>\n",
              "  </div>\n"
            ],
            "application/vnd.google.colaboratory.intrinsic+json": {
              "type": "dataframe",
              "variable_name": "train_df"
            }
          },
          "metadata": {},
          "execution_count": 12
        }
      ],
      "source": [
        "import pandas as pd\n",
        "train_df = pd.DataFrame(train_samples)\n",
        "val_df = pd.DataFrame(val_samples)\n",
        "test_df = pd.DataFrame(test_samples)\n",
        "train_df.head()"
      ]
    },
    {
      "cell_type": "code",
      "execution_count": 13,
      "metadata": {
        "colab": {
          "base_uri": "https://localhost:8080/",
          "height": 272
        },
        "id": "yhOmShNVXtRr",
        "outputId": "b17025cf-00e9-4dd8-e295-a23c24cf0501"
      },
      "outputs": [
        {
          "output_type": "execute_result",
          "data": {
            "text/plain": [
              "target\n",
              "METHODS        59353\n",
              "RESULTS        57953\n",
              "CONCLUSIONS    27168\n",
              "BACKGROUND     21727\n",
              "OBJECTIVE      13839\n",
              "Name: count, dtype: int64"
            ],
            "text/html": [
              "<div>\n",
              "<style scoped>\n",
              "    .dataframe tbody tr th:only-of-type {\n",
              "        vertical-align: middle;\n",
              "    }\n",
              "\n",
              "    .dataframe tbody tr th {\n",
              "        vertical-align: top;\n",
              "    }\n",
              "\n",
              "    .dataframe thead th {\n",
              "        text-align: right;\n",
              "    }\n",
              "</style>\n",
              "<table border=\"1\" class=\"dataframe\">\n",
              "  <thead>\n",
              "    <tr style=\"text-align: right;\">\n",
              "      <th></th>\n",
              "      <th>count</th>\n",
              "    </tr>\n",
              "    <tr>\n",
              "      <th>target</th>\n",
              "      <th></th>\n",
              "    </tr>\n",
              "  </thead>\n",
              "  <tbody>\n",
              "    <tr>\n",
              "      <th>METHODS</th>\n",
              "      <td>59353</td>\n",
              "    </tr>\n",
              "    <tr>\n",
              "      <th>RESULTS</th>\n",
              "      <td>57953</td>\n",
              "    </tr>\n",
              "    <tr>\n",
              "      <th>CONCLUSIONS</th>\n",
              "      <td>27168</td>\n",
              "    </tr>\n",
              "    <tr>\n",
              "      <th>BACKGROUND</th>\n",
              "      <td>21727</td>\n",
              "    </tr>\n",
              "    <tr>\n",
              "      <th>OBJECTIVE</th>\n",
              "      <td>13839</td>\n",
              "    </tr>\n",
              "  </tbody>\n",
              "</table>\n",
              "</div><br><label><b>dtype:</b> int64</label>"
            ]
          },
          "metadata": {},
          "execution_count": 13
        }
      ],
      "source": [
        "# Distribution of labels\n",
        "train_df.target.value_counts()"
      ]
    },
    {
      "cell_type": "code",
      "execution_count": 14,
      "metadata": {
        "colab": {
          "base_uri": "https://localhost:8080/",
          "height": 448
        },
        "id": "xAc3eUwuYBnS",
        "outputId": "721ab3fc-6f56-4819-cf26-0aa1a6c2009c"
      },
      "outputs": [
        {
          "output_type": "execute_result",
          "data": {
            "text/plain": [
              "<Axes: ylabel='Frequency'>"
            ]
          },
          "metadata": {},
          "execution_count": 14
        },
        {
          "output_type": "display_data",
          "data": {
            "text/plain": [
              "<Figure size 640x480 with 1 Axes>"
            ],
            "image/png": "[encoded data removed]"
          },
          "metadata": {}
        }
      ],
      "source": [
        "# Lets check the length of differant lines\n",
        "train_df.total_lines.plot(kind='hist')"
      ]
    },
    {
      "cell_type": "markdown",
      "metadata": {
        "id": "jOg_HcnkYh3g"
      },
      "source": [
        "### Get list of Sentances"
      ]
    },
    {
      "cell_type": "code",
      "execution_count": 15,
      "metadata": {
        "colab": {
          "base_uri": "https://localhost:8080/"
        },
        "id": "pgydkOi5YSwp",
        "outputId": "11e41874-2775-44ed-f130-bc4db19c1823"
      },
      "outputs": [
        {
          "output_type": "execute_result",
          "data": {
            "text/plain": [
              "(180040, 30212, 30135)"
            ]
          },
          "metadata": {},
          "execution_count": 15
        }
      ],
      "source": [
        "# Convert abstract text line into list\n",
        "train_sentences = train_df.text.to_list()\n",
        "val_sentences = val_df.text.to_list()\n",
        "test_sentences = test_df.text.to_list()\n",
        "len(train_sentences), len(val_sentences), len(test_sentences)"
      ]
    },
    {
      "cell_type": "markdown",
      "metadata": {
        "id": "_sjiLnZuhmLd"
      },
      "source": [
        "# Make numeric labels\n"
      ]
    },
    {
      "cell_type": "code",
      "execution_count": 16,
      "metadata": {
        "colab": {
          "base_uri": "https://localhost:8080/"
        },
        "id": "4WoR7Ja6fWBY",
        "outputId": "e391dc38-4613-4b3c-e786-dcb3fefdccc6"
      },
      "outputs": [
        {
          "output_type": "execute_result",
          "data": {
            "text/plain": [
              "((180040, 5), (30212, 5), (30135, 5))"
            ]
          },
          "metadata": {},
          "execution_count": 16
        }
      ],
      "source": [
        "# One hot encoding labels\n",
        "from sklearn.preprocessing import OneHotEncoder\n",
        "one_hot_encoder = OneHotEncoder(sparse_output=False)\n",
        "train_labels_one_hot = one_hot_encoder.fit_transform(train_df.target.to_numpy().reshape(-1,1))\n",
        "val_labels_one_hot = one_hot_encoder.transform(val_df.target.to_numpy().reshape(-1,1))\n",
        "test_labels_one_hot = one_hot_encoder.transform(test_df.target.to_numpy().reshape(-1,1))\n",
        "train_labels_one_hot.shape, val_labels_one_hot.shape, test_labels_one_hot.shape"
      ]
    },
    {
      "cell_type": "code",
      "execution_count": 17,
      "metadata": {
        "colab": {
          "base_uri": "https://localhost:8080/"
        },
        "id": "mpgOWi6_mPY2",
        "outputId": "bdc34d28-a9bf-4cb7-9dcf-913b5ed1c4e9"
      },
      "outputs": [
        {
          "output_type": "execute_result",
          "data": {
            "text/plain": [
              "((180040,), (30212,), (30135,))"
            ]
          },
          "metadata": {},
          "execution_count": 17
        }
      ],
      "source": [
        "# Label Encoding labels\n",
        "from sklearn.preprocessing import LabelEncoder\n",
        "label_encoder = LabelEncoder()\n",
        "train_labels = label_encoder.fit_transform(train_df.target.to_numpy())\n",
        "val_labels = label_encoder.transform(val_df.target.to_numpy())\n",
        "test_labels = label_encoder.transform(test_df.target.to_numpy())\n",
        "\n",
        "train_labels.shape, val_labels.shape, test_labels.shape"
      ]
    },
    {
      "cell_type": "code",
      "execution_count": 18,
      "metadata": {
        "colab": {
          "base_uri": "https://localhost:8080/"
        },
        "id": "w7wDTW-TpCRH",
        "outputId": "3b22ccc9-c8c3-4230-a1e1-4b577016fd42"
      },
      "outputs": [
        {
          "output_type": "execute_result",
          "data": {
            "text/plain": [
              "array([3, 2, 2, ..., 4, 1, 1])"
            ]
          },
          "metadata": {},
          "execution_count": 18
        }
      ],
      "source": [
        "train_labels"
      ]
    },
    {
      "cell_type": "code",
      "execution_count": 19,
      "metadata": {
        "colab": {
          "base_uri": "https://localhost:8080/"
        },
        "id": "TmVSN7a8pgzh",
        "outputId": "7ea6f4d0-e92d-4e7d-e263-d0ee406a4d12"
      },
      "outputs": [
        {
          "output_type": "execute_result",
          "data": {
            "text/plain": [
              "(array(['BACKGROUND', 'CONCLUSIONS', 'METHODS', 'OBJECTIVE', 'RESULTS'],\n",
              "       dtype=object),\n",
              " 5)"
            ]
          },
          "metadata": {},
          "execution_count": 19
        }
      ],
      "source": [
        "# Get class names and number from LabelEncoder\n",
        "num_clases  = len(label_encoder.classes_)\n",
        "class_names = label_encoder.classes_\n",
        "class_names, num_clases"
      ]
    },
    {
      "cell_type": "markdown",
      "metadata": {
        "id": "VqvIf7onuhoY"
      },
      "source": [
        "# Starting a Series of modeling expermints\n"
      ]
    },
    {
      "cell_type": "markdown",
      "metadata": {
        "id": "p5e5qCtSutZN"
      },
      "source": [
        "# Model 0 Base_line"
      ]
    },
    {
      "cell_type": "code",
      "execution_count": 20,
      "metadata": {
        "colab": {
          "base_uri": "https://localhost:8080/",
          "height": 145
        },
        "id": "plYGSSvXpqcd",
        "outputId": "20c4a7fc-b358-4fc3-eb34-c0c5bacfc16b"
      },
      "outputs": [
        {
          "output_type": "execute_result",
          "data": {
            "text/plain": [
              "Pipeline(steps=[('tfidf', TfidfVectorizer()), ('clf', MultinomialNB())])"
            ],
            "text/html": [
              "<style>#sk-container-id-1 {\n",
              "  /* Definition of color scheme common for light and dark mode */\n",
              "  --sklearn-color-text: black;\n",
              "  --sklearn-color-line: gray;\n",
              "  /* Definition of color scheme for unfitted estimators */\n",
              "  --sklearn-color-unfitted-level-0: #fff5e6;\n",
              "  --sklearn-color-unfitted-level-1: #f6e4d2;\n",
              "  --sklearn-color-unfitted-level-2: #ffe0b3;\n",
              "  --sklearn-color-unfitted-level-3: chocolate;\n",
              "  /* Definition of color scheme for fitted estimators */\n",
              "  --sklearn-color-fitted-level-0: #f0f8ff;\n",
              "  --sklearn-color-fitted-level-1: #d4ebff;\n",
              "  --sklearn-color-fitted-level-2: #b3dbfd;\n",
              "  --sklearn-color-fitted-level-3: cornflowerblue;\n",
              "\n",
              "  /* Specific color for light theme */\n",
              "  --sklearn-color-text-on-default-background: var(--sg-text-color, var(--theme-code-foreground, var(--jp-content-font-color1, black)));\n",
              "  --sklearn-color-background: var(--sg-background-color, var(--theme-background, var(--jp-layout-color0, white)));\n",
              "  --sklearn-color-border-box: var(--sg-text-color, var(--theme-code-foreground, var(--jp-content-font-color1, black)));\n",
              "  --sklearn-color-icon: #696969;\n",
              "\n",
              "  @media (prefers-color-scheme: dark) {\n",
              "    /* Redefinition of color scheme for dark theme */\n",
              "    --sklearn-color-text-on-default-background: var(--sg-text-color, var(--theme-code-foreground, var(--jp-content-font-color1, white)));\n",
              "    --sklearn-color-background: var(--sg-background-color, var(--theme-background, var(--jp-layout-color0, #111)));\n",
              "    --sklearn-color-border-box: var(--sg-text-color, var(--theme-code-foreground, var(--jp-content-font-color1, white)));\n",
              "    --sklearn-color-icon: #878787;\n",
              "  }\n",
              "}\n",
              "\n",
              "#sk-container-id-1 {\n",
              "  color: var(--sklearn-color-text);\n",
              "}\n",
              "\n",
              "#sk-container-id-1 pre {\n",
              "  padding: 0;\n",
              "}\n",
              "\n",
              "#sk-container-id-1 input.sk-hidden--visually {\n",
              "  border: 0;\n",
              "  clip: rect(1px 1px 1px 1px);\n",
              "  clip: rect(1px, 1px, 1px, 1px);\n",
              "  height: 1px;\n",
              "  margin: -1px;\n",
              "  overflow: hidden;\n",
              "  padding: 0;\n",
              "  position: absolute;\n",
              "  width: 1px;\n",
              "}\n",
              "\n",
              "#sk-container-id-1 div.sk-dashed-wrapped {\n",
              "  border: 1px dashed var(--sklearn-color-line);\n",
              "  margin: 0 0.4em 0.5em 0.4em;\n",
              "  box-sizing: border-box;\n",
              "  padding-bottom: 0.4em;\n",
              "  background-color: var(--sklearn-color-background);\n",
              "}\n",
              "\n",
              "#sk-container-id-1 div.sk-container {\n",
              "  /* jupyter's `normalize.less` sets `[hidden] { display: none; }`\n",
              "     but bootstrap.min.css set `[hidden] { display: none !important; }`\n",
              "     so we also need the `!important` here to be able to override the\n",
              "     default hidden behavior on the sphinx rendered scikit-learn.org.\n",
              "     See: https://github.com/scikit-learn/scikit-learn/issues/21755 */\n",
              "  display: inline-block !important;\n",
              "  position: relative;\n",
              "}\n",
              "\n",
              "#sk-container-id-1 div.sk-text-repr-fallback {\n",
              "  display: none;\n",
              "}\n",
              "\n",
              "div.sk-parallel-item,\n",
              "div.sk-serial,\n",
              "div.sk-item {\n",
              "  /* draw centered vertical line to link estimators */\n",
              "  background-image: linear-gradient(var(--sklearn-color-text-on-default-background), var(--sklearn-color-text-on-default-background));\n",
              "  background-size: 2px 100%;\n",
              "  background-repeat: no-repeat;\n",
              "  background-position: center center;\n",
              "}\n",
              "\n",
              "/* Parallel-specific style estimator block */\n",
              "\n",
              "#sk-container-id-1 div.sk-parallel-item::after {\n",
              "  content: \"\";\n",
              "  width: 100%;\n",
              "  border-bottom: 2px solid var(--sklearn-color-text-on-default-background);\n",
              "  flex-grow: 1;\n",
              "}\n",
              "\n",
              "#sk-container-id-1 div.sk-parallel {\n",
              "  display: flex;\n",
              "  align-items: stretch;\n",
              "  justify-content: center;\n",
              "  background-color: var(--sklearn-color-background);\n",
              "  position: relative;\n",
              "}\n",
              "\n",
              "#sk-container-id-1 div.sk-parallel-item {\n",
              "  display: flex;\n",
              "  flex-direction: column;\n",
              "}\n",
              "\n",
              "#sk-container-id-1 div.sk-parallel-item:first-child::after {\n",
              "  align-self: flex-end;\n",
              "  width: 50%;\n",
              "}\n",
              "\n",
              "#sk-container-id-1 div.sk-parallel-item:last-child::after {\n",
              "  align-self: flex-start;\n",
              "  width: 50%;\n",
              "}\n",
              "\n",
              "#sk-container-id-1 div.sk-parallel-item:only-child::after {\n",
              "  width: 0;\n",
              "}\n",
              "\n",
              "/* Serial-specific style estimator block */\n",
              "\n",
              "#sk-container-id-1 div.sk-serial {\n",
              "  display: flex;\n",
              "  flex-direction: column;\n",
              "  align-items: center;\n",
              "  background-color: var(--sklearn-color-background);\n",
              "  padding-right: 1em;\n",
              "  padding-left: 1em;\n",
              "}\n",
              "\n",
              "\n",
              "/* Toggleable style: style used for estimator/Pipeline/ColumnTransformer box that is\n",
              "clickable and can be expanded/collapsed.\n",
              "- Pipeline and ColumnTransformer use this feature and define the default style\n",
              "- Estimators will overwrite some part of the style using the `sk-estimator` class\n",
              "*/\n",
              "\n",
              "/* Pipeline and ColumnTransformer style (default) */\n",
              "\n",
              "#sk-container-id-1 div.sk-toggleable {\n",
              "  /* Default theme specific background. It is overwritten whether we have a\n",
              "  specific estimator or a Pipeline/ColumnTransformer */\n",
              "  background-color: var(--sklearn-color-background);\n",
              "}\n",
              "\n",
              "/* Toggleable label */\n",
              "#sk-container-id-1 label.sk-toggleable__label {\n",
              "  cursor: pointer;\n",
              "  display: block;\n",
              "  width: 100%;\n",
              "  margin-bottom: 0;\n",
              "  padding: 0.5em;\n",
              "  box-sizing: border-box;\n",
              "  text-align: center;\n",
              "}\n",
              "\n",
              "#sk-container-id-1 label.sk-toggleable__label-arrow:before {\n",
              "  /* Arrow on the left of the label */\n",
              "  content: \"▸\";\n",
              "  float: left;\n",
              "  margin-right: 0.25em;\n",
              "  color: var(--sklearn-color-icon);\n",
              "}\n",
              "\n",
              "#sk-container-id-1 label.sk-toggleable__label-arrow:hover:before {\n",
              "  color: var(--sklearn-color-text);\n",
              "}\n",
              "\n",
              "/* Toggleable content - dropdown */\n",
              "\n",
              "#sk-container-id-1 div.sk-toggleable__content {\n",
              "  max-height: 0;\n",
              "  max-width: 0;\n",
              "  overflow: hidden;\n",
              "  text-align: left;\n",
              "  /* unfitted */\n",
              "  background-color: var(--sklearn-color-unfitted-level-0);\n",
              "}\n",
              "\n",
              "#sk-container-id-1 div.sk-toggleable__content.fitted {\n",
              "  /* fitted */\n",
              "  background-color: var(--sklearn-color-fitted-level-0);\n",
              "}\n",
              "\n",
              "#sk-container-id-1 div.sk-toggleable__content pre {\n",
              "  margin: 0.2em;\n",
              "  border-radius: 0.25em;\n",
              "  color: var(--sklearn-color-text);\n",
              "  /* unfitted */\n",
              "  background-color: var(--sklearn-color-unfitted-level-0);\n",
              "}\n",
              "\n",
              "#sk-container-id-1 div.sk-toggleable__content.fitted pre {\n",
              "  /* unfitted */\n",
              "  background-color: var(--sklearn-color-fitted-level-0);\n",
              "}\n",
              "\n",
              "#sk-container-id-1 input.sk-toggleable__control:checked~div.sk-toggleable__content {\n",
              "  /* Expand drop-down */\n",
              "  max-height: 200px;\n",
              "  max-width: 100%;\n",
              "  overflow: auto;\n",
              "}\n",
              "\n",
              "#sk-container-id-1 input.sk-toggleable__control:checked~label.sk-toggleable__label-arrow:before {\n",
              "  content: \"▾\";\n",
              "}\n",
              "\n",
              "/* Pipeline/ColumnTransformer-specific style */\n",
              "\n",
              "#sk-container-id-1 div.sk-label input.sk-toggleable__control:checked~label.sk-toggleable__label {\n",
              "  color: var(--sklearn-color-text);\n",
              "  background-color: var(--sklearn-color-unfitted-level-2);\n",
              "}\n",
              "\n",
              "#sk-container-id-1 div.sk-label.fitted input.sk-toggleable__control:checked~label.sk-toggleable__label {\n",
              "  background-color: var(--sklearn-color-fitted-level-2);\n",
              "}\n",
              "\n",
              "/* Estimator-specific style */\n",
              "\n",
              "/* Colorize estimator box */\n",
              "#sk-container-id-1 div.sk-estimator input.sk-toggleable__control:checked~label.sk-toggleable__label {\n",
              "  /* unfitted */\n",
              "  background-color: var(--sklearn-color-unfitted-level-2);\n",
              "}\n",
              "\n",
              "#sk-container-id-1 div.sk-estimator.fitted input.sk-toggleable__control:checked~label.sk-toggleable__label {\n",
              "  /* fitted */\n",
              "  background-color: var(--sklearn-color-fitted-level-2);\n",
              "}\n",
              "\n",
              "#sk-container-id-1 div.sk-label label.sk-toggleable__label,\n",
              "#sk-container-id-1 div.sk-label label {\n",
              "  /* The background is the default theme color */\n",
              "  color: var(--sklearn-color-text-on-default-background);\n",
              "}\n",
              "\n",
              "/* On hover, darken the color of the background */\n",
              "#sk-container-id-1 div.sk-label:hover label.sk-toggleable__label {\n",
              "  color: var(--sklearn-color-text);\n",
              "  background-color: var(--sklearn-color-unfitted-level-2);\n",
              "}\n",
              "\n",
              "/* Label box, darken color on hover, fitted */\n",
              "#sk-container-id-1 div.sk-label.fitted:hover label.sk-toggleable__label.fitted {\n",
              "  color: var(--sklearn-color-text);\n",
              "  background-color: var(--sklearn-color-fitted-level-2);\n",
              "}\n",
              "\n",
              "/* Estimator label */\n",
              "\n",
              "#sk-container-id-1 div.sk-label label {\n",
              "  font-family: monospace;\n",
              "  font-weight: bold;\n",
              "  display: inline-block;\n",
              "  line-height: 1.2em;\n",
              "}\n",
              "\n",
              "#sk-container-id-1 div.sk-label-container {\n",
              "  text-align: center;\n",
              "}\n",
              "\n",
              "/* Estimator-specific */\n",
              "#sk-container-id-1 div.sk-estimator {\n",
              "  font-family: monospace;\n",
              "  border: 1px dotted var(--sklearn-color-border-box);\n",
              "  border-radius: 0.25em;\n",
              "  box-sizing: border-box;\n",
              "  margin-bottom: 0.5em;\n",
              "  /* unfitted */\n",
              "  background-color: var(--sklearn-color-unfitted-level-0);\n",
              "}\n",
              "\n",
              "#sk-container-id-1 div.sk-estimator.fitted {\n",
              "  /* fitted */\n",
              "  background-color: var(--sklearn-color-fitted-level-0);\n",
              "}\n",
              "\n",
              "/* on hover */\n",
              "#sk-container-id-1 div.sk-estimator:hover {\n",
              "  /* unfitted */\n",
              "  background-color: var(--sklearn-color-unfitted-level-2);\n",
              "}\n",
              "\n",
              "#sk-container-id-1 div.sk-estimator.fitted:hover {\n",
              "  /* fitted */\n",
              "  background-color: var(--sklearn-color-fitted-level-2);\n",
              "}\n",
              "\n",
              "/* Specification for estimator info (e.g. \"i\" and \"?\") */\n",
              "\n",
              "/* Common style for \"i\" and \"?\" */\n",
              "\n",
              ".sk-estimator-doc-link,\n",
              "a:link.sk-estimator-doc-link,\n",
              "a:visited.sk-estimator-doc-link {\n",
              "  float: right;\n",
              "  font-size: smaller;\n",
              "  line-height: 1em;\n",
              "  font-family: monospace;\n",
              "  background-color: var(--sklearn-color-background);\n",
              "  border-radius: 1em;\n",
              "  height: 1em;\n",
              "  width: 1em;\n",
              "  text-decoration: none !important;\n",
              "  margin-left: 1ex;\n",
              "  /* unfitted */\n",
              "  border: var(--sklearn-color-unfitted-level-1) 1pt solid;\n",
              "  color: var(--sklearn-color-unfitted-level-1);\n",
              "}\n",
              "\n",
              ".sk-estimator-doc-link.fitted,\n",
              "a:link.sk-estimator-doc-link.fitted,\n",
              "a:visited.sk-estimator-doc-link.fitted {\n",
              "  /* fitted */\n",
              "  border: var(--sklearn-color-fitted-level-1) 1pt solid;\n",
              "  color: var(--sklearn-color-fitted-level-1);\n",
              "}\n",
              "\n",
              "/* On hover */\n",
              "div.sk-estimator:hover .sk-estimator-doc-link:hover,\n",
              ".sk-estimator-doc-link:hover,\n",
              "div.sk-label-container:hover .sk-estimator-doc-link:hover,\n",
              ".sk-estimator-doc-link:hover {\n",
              "  /* unfitted */\n",
              "  background-color: var(--sklearn-color-unfitted-level-3);\n",
              "  color: var(--sklearn-color-background);\n",
              "  text-decoration: none;\n",
              "}\n",
              "\n",
              "div.sk-estimator.fitted:hover .sk-estimator-doc-link.fitted:hover,\n",
              ".sk-estimator-doc-link.fitted:hover,\n",
              "div.sk-label-container:hover .sk-estimator-doc-link.fitted:hover,\n",
              ".sk-estimator-doc-link.fitted:hover {\n",
              "  /* fitted */\n",
              "  background-color: var(--sklearn-color-fitted-level-3);\n",
              "  color: var(--sklearn-color-background);\n",
              "  text-decoration: none;\n",
              "}\n",
              "\n",
              "/* Span, style for the box shown on hovering the info icon */\n",
              ".sk-estimator-doc-link span {\n",
              "  display: none;\n",
              "  z-index: 9999;\n",
              "  position: relative;\n",
              "  font-weight: normal;\n",
              "  right: .2ex;\n",
              "  padding: .5ex;\n",
              "  margin: .5ex;\n",
              "  width: min-content;\n",
              "  min-width: 20ex;\n",
              "  max-width: 50ex;\n",
              "  color: var(--sklearn-color-text);\n",
              "  box-shadow: 2pt 2pt 4pt #999;\n",
              "  /* unfitted */\n",
              "  background: var(--sklearn-color-unfitted-level-0);\n",
              "  border: .5pt solid var(--sklearn-color-unfitted-level-3);\n",
              "}\n",
              "\n",
              ".sk-estimator-doc-link.fitted span {\n",
              "  /* fitted */\n",
              "  background: var(--sklearn-color-fitted-level-0);\n",
              "  border: var(--sklearn-color-fitted-level-3);\n",
              "}\n",
              "\n",
              ".sk-estimator-doc-link:hover span {\n",
              "  display: block;\n",
              "}\n",
              "\n",
              "/* \"?\"-specific style due to the `<a>` HTML tag */\n",
              "\n",
              "#sk-container-id-1 a.estimator_doc_link {\n",
              "  float: right;\n",
              "  font-size: 1rem;\n",
              "  line-height: 1em;\n",
              "  font-family: monospace;\n",
              "  background-color: var(--sklearn-color-background);\n",
              "  border-radius: 1rem;\n",
              "  height: 1rem;\n",
              "  width: 1rem;\n",
              "  text-decoration: none;\n",
              "  /* unfitted */\n",
              "  color: var(--sklearn-color-unfitted-level-1);\n",
              "  border: var(--sklearn-color-unfitted-level-1) 1pt solid;\n",
              "}\n",
              "\n",
              "#sk-container-id-1 a.estimator_doc_link.fitted {\n",
              "  /* fitted */\n",
              "  border: var(--sklearn-color-fitted-level-1) 1pt solid;\n",
              "  color: var(--sklearn-color-fitted-level-1);\n",
              "}\n",
              "\n",
              "/* On hover */\n",
              "#sk-container-id-1 a.estimator_doc_link:hover {\n",
              "  /* unfitted */\n",
              "  background-color: var(--sklearn-color-unfitted-level-3);\n",
              "  color: var(--sklearn-color-background);\n",
              "  text-decoration: none;\n",
              "}\n",
              "\n",
              "#sk-container-id-1 a.estimator_doc_link.fitted:hover {\n",
              "  /* fitted */\n",
              "  background-color: var(--sklearn-color-fitted-level-3);\n",
              "}\n",
              "</style><div id=\"sk-container-id-1\" class=\"sk-top-container\"><div class=\"sk-text-repr-fallback\"><pre>Pipeline(steps=[(&#x27;tfidf&#x27;, TfidfVectorizer()), (&#x27;clf&#x27;, MultinomialNB())])</pre><b>In a Jupyter environment, please rerun this cell to show the HTML representation or trust the notebook. <br />On GitHub, the HTML representation is unable to render, please try loading this page with nbviewer.org.</b></div><div class=\"sk-container\" hidden><div class=\"sk-item sk-dashed-wrapped\"><div class=\"sk-label-container\"><div class=\"sk-label fitted sk-toggleable\"><input class=\"sk-toggleable__control sk-hidden--visually\" id=\"sk-estimator-id-1\" type=\"checkbox\" ><label for=\"sk-estimator-id-1\" class=\"sk-toggleable__label fitted sk-toggleable__label-arrow fitted\">&nbsp;&nbsp;Pipeline<a class=\"sk-estimator-doc-link fitted\" rel=\"noreferrer\" target=\"_blank\" href=\"https://scikit-learn.org/1.5/modules/generated/sklearn.pipeline.Pipeline.html\">?<span>Documentation for Pipeline</span></a><span class=\"sk-estimator-doc-link fitted\">i<span>Fitted</span></span></label><div class=\"sk-toggleable__content fitted\"><pre>Pipeline(steps=[(&#x27;tfidf&#x27;, TfidfVectorizer()), (&#x27;clf&#x27;, MultinomialNB())])</pre></div> </div></div><div class=\"sk-serial\"><div class=\"sk-item\"><div class=\"sk-estimator fitted sk-toggleable\"><input class=\"sk-toggleable__control sk-hidden--visually\" id=\"sk-estimator-id-2\" type=\"checkbox\" ><label for=\"sk-estimator-id-2\" class=\"sk-toggleable__label fitted sk-toggleable__label-arrow fitted\">&nbsp;TfidfVectorizer<a class=\"sk-estimator-doc-link fitted\" rel=\"noreferrer\" target=\"_blank\" href=\"https://scikit-learn.org/1.5/modules/generated/sklearn.feature_extraction.text.TfidfVectorizer.html\">?<span>Documentation for TfidfVectorizer</span></a></label><div class=\"sk-toggleable__content fitted\"><pre>TfidfVectorizer()</pre></div> </div></div><div class=\"sk-item\"><div class=\"sk-estimator fitted sk-toggleable\"><input class=\"sk-toggleable__control sk-hidden--visually\" id=\"sk-estimator-id-3\" type=\"checkbox\" ><label for=\"sk-estimator-id-3\" class=\"sk-toggleable__label fitted sk-toggleable__label-arrow fitted\">&nbsp;MultinomialNB<a class=\"sk-estimator-doc-link fitted\" rel=\"noreferrer\" target=\"_blank\" href=\"https://scikit-learn.org/1.5/modules/generated/sklearn.naive_bayes.MultinomialNB.html\">?<span>Documentation for MultinomialNB</span></a></label><div class=\"sk-toggleable__content fitted\"><pre>MultinomialNB()</pre></div> </div></div></div></div></div></div>"
            ]
          },
          "metadata": {},
          "execution_count": 20
        }
      ],
      "source": [
        "# TF-IDF\n",
        "from sklearn.feature_extraction.text import TfidfVectorizer\n",
        "from sklearn.naive_bayes import MultinomialNB\n",
        "from sklearn.pipeline import Pipeline\n",
        "model_0 = Pipeline([\n",
        "    (\"tfidf\", TfidfVectorizer()),\n",
        "    (\"clf\", MultinomialNB())\n",
        "])\n",
        "model_0.fit(train_sentences, train_labels)"
      ]
    },
    {
      "cell_type": "code",
      "execution_count": 21,
      "metadata": {
        "colab": {
          "base_uri": "https://localhost:8080/"
        },
        "id": "YI8JwOCTu2Iu",
        "outputId": "22cbb1ba-d015-46a6-b10b-3f4ed6f3fad7"
      },
      "outputs": [
        {
          "output_type": "execute_result",
          "data": {
            "text/plain": [
              "array([4, 1, 3, ..., 4, 4, 1])"
            ]
          },
          "metadata": {},
          "execution_count": 21
        }
      ],
      "source": [
        "# Make predictions\n",
        "model_0_preds = model_0.predict(val_sentences)\n",
        "model_0_preds"
      ]
    },
    {
      "cell_type": "code",
      "execution_count": 22,
      "metadata": {
        "colab": {
          "base_uri": "https://localhost:8080/"
        },
        "id": "fH85p9aHvZXb",
        "outputId": "ac71217a-1ea2-4e22-b72a-e34005a85fd4"
      },
      "outputs": [
        {
          "output_type": "execute_result",
          "data": {
            "text/plain": [
              "{'accuracy': 72.1832384482987,\n",
              " 'precision': 0.7186466952323352,\n",
              " 'recall': 0.7218323844829869,\n",
              " 'f1': 0.6989250353450294}"
            ]
          },
          "metadata": {},
          "execution_count": 22
        }
      ],
      "source": [
        "from helper_functions import accuracy_score, precision_recall_fscore_support,calculate_results\n",
        "\n",
        "model_0_pred_results = calculate_results(val_labels, model_0_preds)\n",
        "model_0_pred_results"
      ]
    },
    {
      "cell_type": "markdown",
      "metadata": {
        "id": "fxwZGtz1zG1p"
      },
      "source": [
        "# Model 1 Convolution"
      ]
    },
    {
      "cell_type": "code",
      "execution_count": 23,
      "metadata": {
        "id": "-pDa38BO3tdf"
      },
      "outputs": [],
      "source": [
        "# Preparing the data\n",
        "import tensorflow as tf\n",
        "from typing_extensions import Text\n",
        "from tensorflow.keras import layers\n",
        "from tensorflow.keras import losses\n",
        "from tensorflow.keras import preprocessing\n",
        "from tensorflow.keras.layers import TextVectorization\n",
        "from tensorflow.keras.layers import Embedding\n",
        "import numpy as np\n",
        "\n"
      ]
    },
    {
      "cell_type": "code",
      "execution_count": 24,
      "metadata": {
        "id": "qNpkrVPJ0gYr",
        "colab": {
          "base_uri": "https://localhost:8080/"
        },
        "outputId": "af963f52-2aae-47c7-f5de-6d4abc3db3c7"
      },
      "outputs": [
        {
          "output_type": "execute_result",
          "data": {
            "text/plain": [
              "26.338269273494777"
            ]
          },
          "metadata": {},
          "execution_count": 24
        }
      ],
      "source": [
        "# How long is each sentance\n",
        "sent_long = [len(sent.split()) for sent in train_sentences]\n",
        "avg_length = np.mean(sent_long)\n",
        "avg_length"
      ]
    },
    {
      "cell_type": "code",
      "execution_count": 25,
      "metadata": {
        "id": "zm7WDU2W4PAu",
        "colab": {
          "base_uri": "https://localhost:8080/",
          "height": 430
        },
        "outputId": "4a0a40d2-e816-409d-e263-72fd72c41074"
      },
      "outputs": [
        {
          "output_type": "display_data",
          "data": {
            "text/plain": [
              "<Figure size 640x480 with 1 Axes>"
            ],
            "image/png": "[encoded data removed]"
          },
          "metadata": {}
        }
      ],
      "source": [
        "# Check the distrubution\n",
        "import matplotlib.pyplot as plt\n",
        "plt.hist(sent_long)\n",
        "plt.show()"
      ]
    },
    {
      "cell_type": "code",
      "execution_count": 26,
      "metadata": {
        "id": "BmD7nY8j4l0N",
        "colab": {
          "base_uri": "https://localhost:8080/"
        },
        "outputId": "a95f41bb-47f7-4079-a279-80cf5dac3276"
      },
      "outputs": [
        {
          "output_type": "execute_result",
          "data": {
            "text/plain": [
              "55"
            ]
          },
          "metadata": {},
          "execution_count": 26
        }
      ],
      "source": [
        "# How long sentance length cover 95% of examples\n",
        "output_sent = int(np.quantile(sent_long, 0.95))\n",
        "output_sent\n"
      ]
    },
    {
      "cell_type": "code",
      "execution_count": 27,
      "metadata": {
        "id": "aFhTZPz85N-U",
        "colab": {
          "base_uri": "https://localhost:8080/"
        },
        "outputId": "c74a751b-e670-49c7-f389-53184179df76"
      },
      "outputs": [
        {
          "output_type": "execute_result",
          "data": {
            "text/plain": [
              "296"
            ]
          },
          "metadata": {},
          "execution_count": 27
        }
      ],
      "source": [
        "# Max sent Lenght\n",
        "max(sent_long)"
      ]
    },
    {
      "cell_type": "code",
      "execution_count": 28,
      "metadata": {
        "id": "JrxmerRn-H6m"
      },
      "outputs": [],
      "source": [
        "# How many word in our vocab? Taken from papr two in our paper\n",
        "max_vocab =  68000\n"
      ]
    },
    {
      "cell_type": "code",
      "execution_count": 29,
      "metadata": {
        "id": "fJswwhFX5riD"
      },
      "outputs": [],
      "source": [
        "# Preparing Text Vectorizer layer\n",
        "text_vectorizer = TextVectorization(max_tokens=max_vocab,output_mode=\"int\",output_sequence_length=output_sent)\n",
        "\n",
        "# Adobt text vectorizer to training sentances\n",
        "text_vectorizer.adapt(train_sentences)"
      ]
    },
    {
      "cell_type": "code",
      "execution_count": 30,
      "metadata": {
        "id": "H0MJbZky5zfp",
        "colab": {
          "base_uri": "https://localhost:8080/"
        },
        "outputId": "bdbab789-22f7-4b24-840f-658a87c0cba3"
      },
      "outputs": [
        {
          "output_type": "stream",
          "name": "stdout",
          "text": [
            "Original text:\n",
            "instruction using both media improved wayfinding and navigation skills .\n",
            "\n",
            "Vectorized version:\n",
            "tf.Tensor(\n",
            "[[ 3380    59    54  2666   170 21351     3  3974   719     0     0     0\n",
            "      0     0     0     0     0     0     0     0     0     0     0     0\n",
            "      0     0     0     0     0     0     0     0     0     0     0     0\n",
            "      0     0     0     0     0     0     0     0     0     0     0     0\n",
            "      0     0     0     0     0     0     0]], shape=(1, 55), dtype=int64)\n"
          ]
        }
      ],
      "source": [
        "# test out text vectorizer on random sentances\n",
        "import random\n",
        "random_target = random.choice(train_sentences)\n",
        "print(f\"Original text:\\n{random_target}\\n\\nVectorized version:\")\n",
        "print(text_vectorizer([random_target]))\n"
      ]
    },
    {
      "cell_type": "code",
      "execution_count": 31,
      "metadata": {
        "id": "Fdc02e7l9tXw",
        "colab": {
          "base_uri": "https://localhost:8080/"
        },
        "outputId": "d516e99f-9b20-43ef-da58-fe5099b7ad79"
      },
      "outputs": [
        {
          "output_type": "stream",
          "name": "stdout",
          "text": [
            "Number of words in vocab: 64841\n",
            "Most common words: ['', '[UNK]', 'the', 'and', 'of']\n",
            "Least common words: ['aainduced', 'aaigroup', 'aachener', 'aachen', 'aaacp']\n"
          ]
        }
      ],
      "source": [
        "# How many words in our text vectorizer layer\n",
        "words_in_vocab_pub_20k = text_vectorizer.get_vocabulary()\n",
        "print(f'Number of words in vocab: {len(words_in_vocab_pub_20k)}')\n",
        "print(f'Most common words: {words_in_vocab_pub_20k[:5]}')\n",
        "print(f'Least common words: {words_in_vocab_pub_20k[-5:]}')"
      ]
    },
    {
      "cell_type": "code",
      "execution_count": 32,
      "metadata": {
        "id": "AlWF5XOv_tfr",
        "colab": {
          "base_uri": "https://localhost:8080/"
        },
        "outputId": "ced9fa0c-7432-4d46-bcfe-d69801b17d7e"
      },
      "outputs": [
        {
          "output_type": "execute_result",
          "data": {
            "text/plain": [
              "{'name': 'text_vectorization',\n",
              " 'trainable': True,\n",
              " 'dtype': 'string',\n",
              " 'batch_input_shape': (None,),\n",
              " 'max_tokens': 68000,\n",
              " 'standardize': 'lower_and_strip_punctuation',\n",
              " 'split': 'whitespace',\n",
              " 'ngrams': None,\n",
              " 'output_mode': 'int',\n",
              " 'output_sequence_length': 55,\n",
              " 'pad_to_max_tokens': False,\n",
              " 'sparse': False,\n",
              " 'ragged': False,\n",
              " 'vocabulary': None,\n",
              " 'idf_weights': None,\n",
              " 'encoding': 'utf-8',\n",
              " 'vocabulary_size': 64841}"
            ]
          },
          "metadata": {},
          "execution_count": 32
        }
      ],
      "source": [
        "text_vectorizer.get_config()"
      ]
    },
    {
      "cell_type": "markdown",
      "metadata": {
        "id": "pNyjpZGLCQ8e"
      },
      "source": [
        "## Creating custom text embedding\n"
      ]
    },
    {
      "cell_type": "code",
      "execution_count": 33,
      "metadata": {
        "id": "y5--p6aYCJ2g"
      },
      "outputs": [],
      "source": [
        "embedding = Embedding(\n",
        "    input_dim=max_vocab,        # The size of the vocabulary (maximum number of unique tokens in your dataset)\n",
        "    output_dim=128,             # The size of the dense vector for each word (embedding dimension)\n",
        "    input_length=output_sent,   # The fixed length of input sequences (padding/truncation applied to match this length)\n",
        "    mask_zero=True              # Masks the padding token (index 0) to prevent it from contributing to the model's learning\n",
        ")"
      ]
    },
    {
      "cell_type": "code",
      "execution_count": 34,
      "metadata": {
        "id": "OQoZiDvrEATp",
        "colab": {
          "base_uri": "https://localhost:8080/"
        },
        "outputId": "e3ed4d61-bb89-45c4-b62d-89a562c7b8ee"
      },
      "outputs": [
        {
          "output_type": "stream",
          "name": "stdout",
          "text": [
            "Original text:\n",
            "instruction using both media improved wayfinding and navigation skills .\n",
            "\n",
            "Embedded version:\n",
            "tf.Tensor(\n",
            "[[[ 0.01855041  0.04275023 -0.02120267 ...  0.01083332 -0.01556512\n",
            "   -0.00032517]\n",
            "  [-0.0230721   0.01542271  0.01550526 ...  0.03093315  0.01261553\n",
            "    0.04600746]\n",
            "  [-0.01330724 -0.01663169  0.01099211 ...  0.01964724 -0.01784708\n",
            "    0.04955466]\n",
            "  ...\n",
            "  [-0.03216966 -0.02510254 -0.00596377 ... -0.00978053  0.03695554\n",
            "    0.01856849]\n",
            "  [-0.03216966 -0.02510254 -0.00596377 ... -0.00978053  0.03695554\n",
            "    0.01856849]\n",
            "  [-0.03216966 -0.02510254 -0.00596377 ... -0.00978053  0.03695554\n",
            "    0.01856849]]], shape=(1, 55, 128), dtype=float32)\n",
            "Embedded version shape: (1, 55, 128)\n"
          ]
        }
      ],
      "source": [
        "# Show an example of embedding\n",
        "print(f'Original text:\\n{random_target}\\n\\nEmbedded version:')\n",
        "print(embedding(text_vectorizer([random_target])))\n",
        "print(f'Embedded version shape: {embedding(text_vectorizer([random_target])).shape}')"
      ]
    },
    {
      "cell_type": "markdown",
      "metadata": {
        "id": "xPf9bvKJFINM"
      },
      "source": [
        "## Creating datasets (making sure our data load afsp) using tensorflow.data api"
      ]
    },
    {
      "cell_type": "code",
      "execution_count": 35,
      "metadata": {
        "colab": {
          "base_uri": "https://localhost:8080/"
        },
        "id": "mcxs0_vzEN9_",
        "outputId": "c585eec0-457a-46d8-f601-2f1067bf8f8d"
      },
      "outputs": [
        {
          "output_type": "execute_result",
          "data": {
            "text/plain": [
              "(<_TensorSliceDataset element_spec=(TensorSpec(shape=(), dtype=tf.string, name=None), TensorSpec(shape=(5,), dtype=tf.float64, name=None))>,\n",
              " <_TensorSliceDataset element_spec=(TensorSpec(shape=(), dtype=tf.string, name=None), TensorSpec(shape=(5,), dtype=tf.float64, name=None))>,\n",
              " <_TensorSliceDataset element_spec=(TensorSpec(shape=(), dtype=tf.string, name=None), TensorSpec(shape=(5,), dtype=tf.float64, name=None))>)"
            ]
          },
          "metadata": {},
          "execution_count": 35
        }
      ],
      "source": [
        "# turn our data into tensorflow datasets\n",
        "train_dataset = tf.data.Dataset.from_tensor_slices((train_sentences, train_labels_one_hot))\n",
        "val_dataset = tf.data.Dataset.from_tensor_slices((val_sentences, val_labels_one_hot))\n",
        "test_dataset = tf.data.Dataset.from_tensor_slices((test_sentences, test_labels_one_hot))\n",
        "train_dataset, val_dataset, test_dataset"
      ]
    },
    {
      "cell_type": "code",
      "execution_count": 36,
      "metadata": {
        "colab": {
          "base_uri": "https://localhost:8080/"
        },
        "id": "Y8QnoBu6F_-m",
        "outputId": "27aac971-fd7b-4239-fcde-ab06e39901ea"
      },
      "outputs": [
        {
          "output_type": "execute_result",
          "data": {
            "text/plain": [
              "(<_PrefetchDataset element_spec=(TensorSpec(shape=(None,), dtype=tf.string, name=None), TensorSpec(shape=(None, 5), dtype=tf.float64, name=None))>,\n",
              " <_PrefetchDataset element_spec=(TensorSpec(shape=(None,), dtype=tf.string, name=None), TensorSpec(shape=(None, 5), dtype=tf.float64, name=None))>,\n",
              " <_PrefetchDataset element_spec=(TensorSpec(shape=(None,), dtype=tf.string, name=None), TensorSpec(shape=(None, 5), dtype=tf.float64, name=None))>)"
            ]
          },
          "metadata": {},
          "execution_count": 36
        }
      ],
      "source": [
        "# Take tensorSliceDatasets and turn them into prefetched datasets\n",
        "train_dataset = train_dataset.batch(32).prefetch(tf.data.AUTOTUNE)\n",
        "val_dataset = val_dataset.batch(32).prefetch(tf.data.AUTOTUNE)\n",
        "test_dataset = test_dataset.batch(32).prefetch(tf.data.AUTOTUNE)\n",
        "train_dataset, val_dataset, test_dataset"
      ]
    },
    {
      "cell_type": "code",
      "execution_count": 37,
      "metadata": {
        "id": "jUank0-GHAfp"
      },
      "outputs": [],
      "source": [
        "# Building Model 1 using a convolutional neural network (CNN) for text classification\n",
        "\n",
        "# Input layer: Accepts raw text input\n",
        "input = layers.Input(shape=(1,), dtype=tf.string, name='input_layer')  # Input shape is a single string (text input)\n",
        "\n",
        "# Text preprocessing: Convert input text into tokenized sequences\n",
        "x = text_vectorizer(input)  # Apply text vectorization to convert text to numerical token sequences\n",
        "\n",
        "# Embedding layer: Convert token sequences to dense word embeddings\n",
        "x = embedding(x)  # Embedding layer maps token indices to dense vectors of a fixed size\n",
        "\n",
        "# Convolutional layer: Extract local features from the word embeddings\n",
        "x = layers.Conv1D(filters=64, kernel_size=5, activation='relu')(x)\n",
        "# - `filters=64`: The number of convolutional filters (feature maps)\n",
        "# - `kernel_size=5`: Size of the convolutional window (captures 5-gram features)\n",
        "# - `activation='relu'`: ReLU activation for non-linearity\n",
        "\n",
        "# Global pooling: Reduce the dimensionality of feature maps\n",
        "x = layers.GlobalMaxPool1D()(x)\n",
        "# - Global max pooling selects the maximum value across each feature map, summarizing the most important features\n",
        "\n",
        "# Dense layer: Fully connected layer for further feature extraction\n",
        "x = layers.Dense(64, activation='relu')(x)\n",
        "# - `64`: Number of neurons in the dense layer\n",
        "# - `activation='relu'`: ReLU activation for non-linearity\n",
        "\n",
        "# Output layer: Produces the final classification output\n",
        "output = layers.Dense(num_clases, activation='softmax')(x)\n",
        "# - `num_clases`: Number of classes for classification\n",
        "# - `activation='softmax'`: Converts the output to probabilities for each class\n",
        "\n",
        "# Create the model: Specify the input and output layers\n",
        "model_1 = tf.keras.Model(inputs=input, outputs=output)\n",
        "# - `inputs=input`: Defines the input layer\n",
        "# - `outputs=output`: Defines the output layer\n",
        "model_1.compile(\n",
        "    loss=losses.CategoricalCrossentropy(),\n",
        "    optimizer=tf.keras.optimizers.Adam(),\n",
        "    metrics=['accuracy']\n",
        ")"
      ]
    },
    {
      "cell_type": "code",
      "execution_count": 38,
      "metadata": {
        "colab": {
          "base_uri": "https://localhost:8080/"
        },
        "id": "BzSL-rExHb_k",
        "outputId": "49d777f8-37c4-4820-c406-51f646e9e3ba"
      },
      "outputs": [
        {
          "output_type": "stream",
          "name": "stdout",
          "text": [
            "Model: \"model\"\n",
            "_________________________________________________________________\n",
            " Layer (type)                Output Shape              Param #   \n",
            "=================================================================\n",
            " input_layer (InputLayer)    [(None, 1)]               0         \n",
            "                                                                 \n",
            " text_vectorization (TextVec  (None, 55)               0         \n",
            " torization)                                                     \n",
            "                                                                 \n",
            " embedding (Embedding)       (None, 55, 128)           8704000   \n",
            "                                                                 \n",
            " conv1d (Conv1D)             (None, 51, 64)            41024     \n",
            "                                                                 \n",
            " global_max_pooling1d (Globa  (None, 64)               0         \n",
            " lMaxPooling1D)                                                  \n",
            "                                                                 \n",
            " dense (Dense)               (None, 64)                4160      \n",
            "                                                                 \n",
            " dense_1 (Dense)             (None, 5)                 325       \n",
            "                                                                 \n",
            "=================================================================\n",
            "Total params: 8,749,509\n",
            "Trainable params: 8,749,509\n",
            "Non-trainable params: 0\n",
            "_________________________________________________________________\n"
          ]
        }
      ],
      "source": [
        "model_1.summary()"
      ]
    },
    {
      "cell_type": "code",
      "execution_count": 39,
      "metadata": {
        "id": "b8JUGzhnIrXR",
        "colab": {
          "base_uri": "https://localhost:8080/"
        },
        "outputId": "b458c9bd-d6d3-484a-e5f9-7059199d38d0"
      },
      "outputs": [
        {
          "output_type": "stream",
          "name": "stdout",
          "text": [
            "Epoch 1/3\n",
            "562/562 [==============================] - 135s 238ms/step - loss: 0.8383 - accuracy: 0.6714 - val_loss: 0.5989 - val_accuracy: 0.7778\n",
            "Epoch 2/3\n",
            "562/562 [==============================] - 127s 226ms/step - loss: 0.5891 - accuracy: 0.7811 - val_loss: 0.5624 - val_accuracy: 0.7882\n",
            "Epoch 3/3\n",
            "562/562 [==============================] - 130s 231ms/step - loss: 0.5523 - accuracy: 0.7954 - val_loss: 0.5237 - val_accuracy: 0.8062\n"
          ]
        }
      ],
      "source": [
        "# Fit the model to the training data and validate on the validation dataset\n",
        "model_1_history = model_1.fit(\n",
        "    train_dataset,                  # The training dataset (preprocessed input and labels)\n",
        "    steps_per_epoch=int(0.1 * len(train_dataset)),  # Number of steps per epoch (10% of the total training dataset)\n",
        "    epochs=3,                       # Number of complete passes through the training dataset\n",
        "    validation_data=val_dataset     # The validation dataset for monitoring performance during training\n",
        ")\n",
        "\n",
        "# Explanation:\n",
        "# - `train_dataset`: Contains the input data and corresponding labels for training the model.\n",
        "# - `steps_per_epoch`: Controls how many batches are processed in one epoch. Here, it processes 10% of the training dataset.\n",
        "# - `epochs=3`: The model will train for 3 full passes through the dataset.\n",
        "# - `validation_data`: The validation dataset is used to evaluate the model's performance after each epoch to detect overfitting or underfitting.\n"
      ]
    },
    {
      "cell_type": "code",
      "execution_count": 40,
      "metadata": {
        "id": "YBniMVQ9Ix1f",
        "colab": {
          "base_uri": "https://localhost:8080/"
        },
        "outputId": "35937010-5c18-4b7c-f447-cb6b26e2c399"
      },
      "outputs": [
        {
          "output_type": "stream",
          "name": "stdout",
          "text": [
            "945/945 [==============================] - 6s 6ms/step - loss: 0.5237 - accuracy: 0.8062\n"
          ]
        },
        {
          "output_type": "execute_result",
          "data": {
            "text/plain": [
              "[0.5237446427345276, 0.8062028288841248]"
            ]
          },
          "metadata": {},
          "execution_count": 40
        }
      ],
      "source": [
        "# Evaluate on whole validation dataset\n",
        "model_1.evaluate(val_dataset)"
      ]
    },
    {
      "cell_type": "code",
      "execution_count": 41,
      "metadata": {
        "id": "8QcGtsRQMVaG",
        "colab": {
          "base_uri": "https://localhost:8080/"
        },
        "outputId": "ea9a0cdf-3fc5-41a8-d552-eb905991b736"
      },
      "outputs": [
        {
          "output_type": "stream",
          "name": "stdout",
          "text": [
            "945/945 [==============================] - 7s 7ms/step\n"
          ]
        },
        {
          "output_type": "execute_result",
          "data": {
            "text/plain": [
              "array([[5.9466547e-01, 5.2848462e-02, 1.5326330e-03, 3.4838149e-01,\n",
              "        2.5720263e-03],\n",
              "       [9.7493730e-02, 8.3952528e-01, 1.0341859e-03, 5.5843964e-02,\n",
              "        6.1027533e-03],\n",
              "       [1.6894493e-01, 2.0092663e-03, 1.0628476e-03, 8.2788193e-01,\n",
              "        1.0108597e-04],\n",
              "       ...,\n",
              "       [3.5011786e-04, 2.3375140e-03, 9.3332846e-03, 2.3735783e-04,\n",
              "        9.8774171e-01],\n",
              "       [5.2807711e-02, 6.1913335e-01, 3.3837754e-02, 4.1087568e-02,\n",
              "        2.5313371e-01],\n",
              "       [5.4303650e-03, 9.8545164e-01, 1.9437132e-03, 7.6957908e-04,\n",
              "        6.4046509e-03]], dtype=float32)"
            ]
          },
          "metadata": {},
          "execution_count": 41
        }
      ],
      "source": [
        "# Make some preditions\n",
        "model_1_preds = model_1.predict(val_dataset)\n",
        "model_1_preds"
      ]
    },
    {
      "cell_type": "code",
      "execution_count": 42,
      "metadata": {
        "id": "qWWiA-GXMdBO",
        "colab": {
          "base_uri": "https://localhost:8080/"
        },
        "outputId": "c2dc0c98-805c-4f88-be21-9d64e73a43b7"
      },
      "outputs": [
        {
          "output_type": "execute_result",
          "data": {
            "text/plain": [
              "<tf.Tensor: shape=(30212,), dtype=int64, numpy=array([0, 1, 3, ..., 4, 1, 1])>"
            ]
          },
          "metadata": {},
          "execution_count": 42
        }
      ],
      "source": [
        "# COnvert prediction to classes\n",
        "model_1_preds = tf.argmax(model_1_preds, axis=1)\n",
        "model_1_preds"
      ]
    },
    {
      "cell_type": "code",
      "execution_count": 43,
      "metadata": {
        "id": "p9ORI8dIMxpM",
        "colab": {
          "base_uri": "https://localhost:8080/"
        },
        "outputId": "5b4e0d41-88db-4412-af49-7e3c8cbaee5c"
      },
      "outputs": [
        {
          "output_type": "execute_result",
          "data": {
            "text/plain": [
              "{'accuracy': 80.62028333112671,\n",
              " 'precision': 0.8042204047717288,\n",
              " 'recall': 0.8062028333112671,\n",
              " 'f1': 0.8050798849688862}"
            ]
          },
          "metadata": {},
          "execution_count": 43
        }
      ],
      "source": [
        "# Calculate model 1 results\n",
        "model_1_results = calculate_results(val_labels, model_1_preds)\n",
        "model_1_results"
      ]
    },
    {
      "cell_type": "markdown",
      "metadata": {
        "id": "6oMkFI4VjQDK"
      },
      "source": [
        "# model 2: Feature extraction using pretrained token embedding\n"
      ]
    },
    {
      "cell_type": "code",
      "execution_count": 44,
      "metadata": {
        "id": "DXm0r_reNvWt"
      },
      "outputs": [],
      "source": [
        "\n",
        "# Download pretrained TensorFlow Hub USE\n",
        "import tensorflow_hub as hub\n",
        "tf_hub_embedding_layer = hub.KerasLayer(\"https://tfhub.dev/google/universal-sentence-encoder/4\",\n",
        "                                        trainable=False,\n",
        "                                        name=\"universal_sentence_encoder\")"
      ]
    },
    {
      "cell_type": "code",
      "execution_count": 45,
      "metadata": {
        "id": "0VVkVnZ9jSDC",
        "colab": {
          "base_uri": "https://localhost:8080/"
        },
        "outputId": "8fc3e59d-8c77-4cba-8298-9749fdefeb5c"
      },
      "outputs": [
        {
          "output_type": "stream",
          "name": "stdout",
          "text": [
            "Original text:\n",
            "discomfort visual analog scores were @ and @ in the @ fr and @ fr groups , respectively ( p = @ ) on procedure day ; on the following day , the scores were @ and @ ( p = @ ) .\n",
            "\n",
            "Embedded version:\n"
          ]
        },
        {
          "output_type": "execute_result",
          "data": {
            "text/plain": [
              "<tf.Tensor: shape=(1, 512), dtype=float32, numpy=\n",
              "array([[-3.67252380e-02, -7.21088573e-02,  5.09955622e-02,\n",
              "         3.47685628e-03,  3.74453142e-02, -1.91956926e-02,\n",
              "        -1.50054591e-02,  1.01037435e-02, -6.61587492e-02,\n",
              "         5.68313114e-02, -8.24502960e-04, -2.82913935e-03,\n",
              "         2.60421429e-02,  3.81166302e-02,  2.64899004e-02,\n",
              "         3.02740522e-02, -2.96251066e-02,  3.53967063e-02,\n",
              "         6.15607277e-02,  3.67068052e-02,  8.54729936e-02,\n",
              "        -3.74495536e-02, -5.20512015e-02, -2.60089301e-02,\n",
              "         2.09999606e-02,  1.55591955e-02, -4.95212302e-02,\n",
              "         6.32530153e-02,  2.45789345e-03, -4.18504281e-03,\n",
              "         7.45990947e-02,  7.05398843e-02,  5.33699691e-02,\n",
              "        -3.43080647e-02, -6.49564713e-02,  4.09646444e-02,\n",
              "         1.30647551e-02, -7.47976750e-02,  7.55046234e-02,\n",
              "        -2.91041452e-02, -3.76356058e-02,  5.51533289e-02,\n",
              "        -6.40447438e-02, -1.41337877e-02,  4.98357927e-03,\n",
              "         6.83590025e-02,  4.88801524e-02, -5.19036688e-02,\n",
              "         5.44590764e-02,  1.89139619e-02, -3.14206779e-02,\n",
              "        -5.07289171e-02, -4.81833890e-02, -7.64949620e-02,\n",
              "        -8.61859508e-03,  5.26097463e-03, -6.80438429e-02,\n",
              "        -1.33619569e-02, -3.09780706e-02,  2.20324881e-02,\n",
              "         1.40912523e-02,  9.47646797e-04,  7.55425468e-02,\n",
              "        -1.77855827e-02,  2.59006396e-02, -4.41385172e-02,\n",
              "        -1.02499838e-03, -2.24541444e-02,  3.42230871e-02,\n",
              "         5.40068224e-02,  6.31477535e-02, -2.94329952e-02,\n",
              "        -7.84190297e-02,  6.06386773e-02, -4.86633591e-02,\n",
              "         6.18065633e-02,  6.56328276e-02, -3.10478569e-03,\n",
              "         6.29090294e-02,  6.61595538e-02, -2.93205846e-02,\n",
              "         2.72301771e-03, -2.09626742e-02,  2.86729075e-02,\n",
              "         6.41118269e-03,  5.88222519e-02, -5.14889993e-02,\n",
              "         3.25145312e-02, -1.41895572e-02, -3.39262001e-02,\n",
              "        -3.39109264e-02, -5.04441261e-02, -6.05779290e-02,\n",
              "        -3.44587751e-02,  7.21677318e-02,  4.20597801e-03,\n",
              "         4.21977649e-03, -3.03408783e-02, -4.63501848e-02,\n",
              "        -4.31941338e-02, -4.85953875e-02, -6.17342666e-02,\n",
              "         4.48858812e-02,  5.18077686e-02,  2.63523795e-02,\n",
              "         2.70753019e-02, -1.48697607e-02, -1.38422949e-02,\n",
              "        -4.63575730e-03, -7.32524991e-02,  1.15525527e-02,\n",
              "         2.44165640e-02,  6.35245368e-02, -1.95221417e-02,\n",
              "        -1.60143804e-03, -6.58695847e-02,  2.86452286e-02,\n",
              "        -3.65039892e-02, -4.28488255e-02,  6.18513711e-02,\n",
              "         1.47249680e-02,  5.29460274e-02,  4.21902500e-02,\n",
              "         3.54462005e-02, -4.83360179e-02, -2.60804184e-02,\n",
              "        -4.84956801e-02, -5.29137291e-02,  4.04514419e-03,\n",
              "         6.70711473e-02, -6.16768822e-02, -2.09395424e-03,\n",
              "         3.30749974e-02, -3.76895443e-02,  9.69935581e-03,\n",
              "        -3.67393680e-02, -3.80344167e-02,  4.24425900e-02,\n",
              "        -4.10533659e-02, -1.31456181e-02,  2.68046558e-02,\n",
              "         8.54150876e-02,  2.61128433e-02, -4.26767468e-02,\n",
              "        -4.68803830e-02,  2.90224403e-02, -2.48175878e-02,\n",
              "        -3.67990658e-02, -2.57620234e-02, -3.10699735e-03,\n",
              "         8.48460048e-02,  4.28546630e-02, -1.20078987e-02,\n",
              "         8.51494633e-03, -5.70090264e-02,  3.43858711e-02,\n",
              "        -1.76331736e-02,  6.03791140e-02, -2.39907368e-03,\n",
              "        -7.17380196e-02, -2.82213017e-02,  1.39181688e-02,\n",
              "        -6.80723935e-02,  1.45675167e-02,  2.33901497e-02,\n",
              "        -5.97901829e-02, -2.96410508e-02,  5.22384467e-03,\n",
              "         7.07077608e-02,  1.48111926e-02,  2.60191392e-02,\n",
              "         3.07013076e-02, -1.72713026e-02,  1.85005981e-02,\n",
              "         7.89593160e-03, -7.53316209e-02, -7.79288709e-02,\n",
              "        -4.39626575e-02, -3.65562551e-02,  5.84401041e-02,\n",
              "        -2.90418342e-02, -2.45530009e-02,  6.71259016e-02,\n",
              "         6.94024190e-02,  5.32630198e-02, -8.69562104e-03,\n",
              "         6.46022707e-02,  2.39371993e-02,  3.07756085e-02,\n",
              "         1.93053391e-02,  7.59992078e-02, -1.54996840e-02,\n",
              "         9.21638124e-03,  2.57224031e-02, -4.60726172e-02,\n",
              "         6.97271246e-03,  1.28449406e-03,  3.90353091e-02,\n",
              "        -7.11583123e-02, -3.35625261e-02, -5.86217716e-02,\n",
              "         7.15421215e-02,  4.38283421e-02,  6.08435832e-02,\n",
              "         6.41067475e-02, -2.75958534e-02,  1.44039933e-02,\n",
              "         4.15860116e-02, -2.22468898e-02,  5.23099229e-02,\n",
              "        -4.62716855e-02, -4.53554541e-02, -7.29191899e-02,\n",
              "        -3.73063125e-02, -4.10798052e-03, -7.18148611e-03,\n",
              "         1.27728134e-02,  8.00669100e-03,  4.78381366e-02,\n",
              "        -1.41564431e-02, -9.32446588e-03, -1.88997500e-02,\n",
              "         2.61196550e-02, -3.20349485e-02, -2.51188334e-02,\n",
              "         3.60617936e-02, -4.07422660e-03, -9.93616693e-03,\n",
              "        -3.16047296e-02,  3.80921550e-02,  1.05482331e-02,\n",
              "         5.48085161e-02,  1.67392415e-03, -8.45750496e-02,\n",
              "         6.58893436e-02,  4.03088145e-02,  3.28677334e-02,\n",
              "         6.85326457e-02, -4.22779191e-03, -2.30059936e-03,\n",
              "        -2.43774732e-03, -5.61594404e-02, -5.91392554e-02,\n",
              "         3.28504965e-02,  6.42701313e-02, -7.19474107e-02,\n",
              "        -1.54553680e-02, -3.18511091e-02,  1.46718626e-03,\n",
              "        -5.10468557e-02, -4.56854776e-02, -2.25348882e-02,\n",
              "        -1.89322960e-02, -6.03442080e-02,  1.64900534e-02,\n",
              "        -2.28918921e-02,  1.21143891e-03,  7.88773745e-02,\n",
              "         6.70734048e-02,  4.99784760e-02, -6.94951136e-03,\n",
              "        -5.60243651e-02, -5.94230630e-02,  1.41937602e-02,\n",
              "         4.45450470e-02, -4.52970155e-02, -2.85756122e-02,\n",
              "         5.29663824e-02, -9.05611087e-03,  5.81030548e-02,\n",
              "         3.70357931e-03,  1.76224913e-02,  4.67193015e-02,\n",
              "        -1.56074502e-02,  3.25743742e-02, -8.78739823e-03,\n",
              "        -3.89301367e-02, -5.51900677e-02,  2.24302374e-02,\n",
              "         4.62287553e-02, -2.67929882e-02, -4.80281822e-02,\n",
              "         1.62318144e-02, -8.94192606e-03,  3.21813859e-02,\n",
              "        -4.47754301e-02, -3.98294330e-02,  6.41180128e-02,\n",
              "         2.78017204e-02, -2.02485416e-02,  3.60341109e-02,\n",
              "        -5.22755012e-02, -1.57191884e-02, -3.72715928e-02,\n",
              "        -5.98105006e-02,  3.99841554e-03, -1.81740988e-02,\n",
              "         3.77085619e-02,  1.05559807e-02, -3.79846990e-02,\n",
              "         2.66962275e-02,  6.85235932e-02,  3.54559198e-02,\n",
              "        -4.49421667e-02, -8.07102323e-02,  7.28920056e-03,\n",
              "         3.92690636e-02,  8.21166206e-03,  3.87061834e-02,\n",
              "         3.02400906e-02, -3.59727703e-02,  4.69396263e-02,\n",
              "         3.75078842e-02,  5.56407589e-03, -6.52311370e-03,\n",
              "         1.38922743e-02, -5.89378439e-02,  8.51696506e-02,\n",
              "         8.08259025e-02,  4.15384360e-02,  5.39599434e-02,\n",
              "        -6.29538223e-02,  3.23002823e-02,  3.40603106e-02,\n",
              "        -6.24523275e-02,  4.53960337e-02, -5.33862598e-03,\n",
              "        -1.40472222e-02, -7.76245594e-02,  5.53484038e-02,\n",
              "         3.92349111e-03,  2.17123833e-02,  4.13423553e-02,\n",
              "         8.06985423e-02, -4.83380593e-02,  2.41510421e-02,\n",
              "         7.57315978e-02, -6.02562353e-02, -6.29774630e-02,\n",
              "        -6.22997172e-02,  4.41024303e-02,  5.02902716e-02,\n",
              "         7.52760246e-02,  5.71500026e-02, -7.41072297e-02,\n",
              "         4.62023839e-02,  2.71407571e-02, -9.48293973e-03,\n",
              "         4.31972817e-02, -8.18614289e-02, -3.62581313e-02,\n",
              "        -3.76998670e-02,  3.92563045e-02,  2.96182316e-02,\n",
              "         4.77520637e-02, -3.92134041e-02, -7.70948529e-02,\n",
              "         2.18382236e-02, -2.38716044e-02, -7.73736238e-02,\n",
              "        -2.17837282e-03,  7.29476521e-03, -6.12502769e-02,\n",
              "        -8.19118991e-02,  5.28244190e-02,  1.84731130e-02,\n",
              "         8.10628310e-02, -4.12367880e-02,  4.49826056e-03,\n",
              "        -8.14452395e-02,  7.95459375e-03, -7.88918659e-02,\n",
              "        -2.77090091e-02,  6.81581115e-03,  1.33604053e-02,\n",
              "         4.71770167e-02,  2.64834650e-02, -3.56188305e-02,\n",
              "         4.39774990e-02, -5.30107878e-02, -4.22682650e-02,\n",
              "         4.17396799e-02, -4.13493663e-02,  1.29864533e-02,\n",
              "        -4.73581776e-02, -9.83169768e-03, -5.96155450e-02,\n",
              "        -1.59414820e-02, -6.07783981e-02,  1.51490613e-05,\n",
              "         5.45103364e-02,  7.05461279e-02, -5.84937073e-02,\n",
              "        -4.74302769e-02, -3.50115225e-02, -1.49663063e-02,\n",
              "        -7.94462711e-02, -2.17475444e-02,  3.79355699e-02,\n",
              "        -8.39026868e-02,  3.70476544e-02,  7.93895945e-02,\n",
              "        -6.38723075e-02,  6.84169978e-02,  4.81198821e-03,\n",
              "        -5.89666963e-02,  5.32348119e-02,  1.61127765e-02,\n",
              "         3.52419540e-02,  2.43423320e-02, -6.02707043e-02,\n",
              "         7.40476102e-02, -3.29601355e-02,  7.71166533e-02,\n",
              "         2.29269937e-02, -6.30999543e-03, -4.58581187e-03,\n",
              "        -3.60851251e-02, -6.53658584e-02,  1.45338923e-02,\n",
              "         5.12549430e-02, -4.16977294e-02,  7.94193242e-03,\n",
              "         3.85365188e-02,  6.41249493e-02, -5.22566624e-02,\n",
              "        -2.92952023e-02,  4.78410348e-02, -3.64030376e-02,\n",
              "        -4.28377949e-02, -4.88922261e-02, -3.41355242e-02,\n",
              "        -5.28754629e-02,  6.37983754e-02,  6.29967004e-02,\n",
              "        -4.52963077e-03,  2.70917658e-02, -1.58880595e-02,\n",
              "         1.32841105e-02,  7.11206123e-02,  1.89552624e-02,\n",
              "         4.60185744e-02,  6.25599772e-02,  6.27634153e-02,\n",
              "        -5.85308522e-02, -3.30790132e-02, -3.04089505e-02,\n",
              "         2.72742007e-02, -4.85394523e-02, -4.04978022e-02,\n",
              "         2.30237786e-02, -1.04160737e-02, -3.96006647e-03,\n",
              "         4.89512384e-02, -3.24745066e-02, -8.14124271e-02,\n",
              "        -3.07614077e-02, -4.74117585e-02,  3.79444622e-02,\n",
              "         2.74489466e-02, -1.23276990e-02,  9.57424229e-04,\n",
              "         5.16474508e-02, -6.39401451e-02,  2.05206349e-02,\n",
              "        -4.29758132e-02, -1.32066747e-02,  2.70708129e-02,\n",
              "         1.28848776e-02,  4.81909700e-02,  5.42087257e-02,\n",
              "         4.86949012e-02,  1.50907608e-02,  7.58734159e-03,\n",
              "         3.12148239e-02,  4.57190052e-02, -5.89805543e-02,\n",
              "        -5.93572594e-02, -8.14093053e-02, -7.41401315e-02,\n",
              "         4.19355705e-02, -2.37966646e-02,  4.57955413e-02,\n",
              "        -4.32278067e-02,  1.73899755e-02, -8.28364491e-03,\n",
              "         3.01528722e-02, -7.45885074e-02,  4.60951328e-02,\n",
              "        -1.68984421e-02, -1.99977774e-02, -2.16114279e-02,\n",
              "         1.19196642e-02,  3.89032401e-02, -4.83652875e-02,\n",
              "        -7.17630312e-02, -2.63962205e-02, -5.66417202e-02,\n",
              "         5.08842617e-02, -5.50253019e-02,  9.21594352e-03,\n",
              "        -2.19378863e-02,  4.30941023e-02, -6.33015111e-02,\n",
              "         7.97555298e-02, -7.65767246e-02,  1.92655865e-02,\n",
              "        -3.97693086e-03,  2.28236150e-02,  6.15424383e-03,\n",
              "        -3.51218693e-02,  6.64424850e-03]], dtype=float32)>"
            ]
          },
          "metadata": {},
          "execution_count": 45
        }
      ],
      "source": [
        "# Test on random sample\n",
        "random_sentence = random.choice(train_sentences)\n",
        "print(f\"Original text:\\n{random_sentence}\\n\\nEmbedded version:\")\n",
        "tf_hub_embedding_layer([random_sentence])\n",
        "#"
      ]
    },
    {
      "cell_type": "markdown",
      "metadata": {
        "id": "nXCo7omhlz9O"
      },
      "source": [
        "## BUilding and fitting an NLP feature extraction model using tensorflow hub pretrained model\n"
      ]
    },
    {
      "cell_type": "code",
      "execution_count": 46,
      "metadata": {
        "id": "MtkI3sBsnIA8",
        "colab": {
          "base_uri": "https://localhost:8080/"
        },
        "outputId": "10e4a76d-c4f4-4b8c-d2b1-3b9da7a05e3b"
      },
      "outputs": [
        {
          "output_type": "stream",
          "name": "stdout",
          "text": [
            "Requirement already satisfied: tensorflow==2.12.0 in /usr/local/lib/python3.10/dist-packages (2.12.0)\n",
            "Requirement already satisfied: absl-py>=1.0.0 in /usr/local/lib/python3.10/dist-packages (from tensorflow==2.12.0) (1.4.0)\n",
            "Requirement already satisfied: astunparse>=1.6.0 in /usr/local/lib/python3.10/dist-packages (from tensorflow==2.12.0) (1.6.3)\n",
            "Requirement already satisfied: flatbuffers>=2.0 in /usr/local/lib/python3.10/dist-packages (from tensorflow==2.12.0) (24.3.25)\n",
            "Requirement already satisfied: gast<=0.4.0,>=0.2.1 in /usr/local/lib/python3.10/dist-packages (from tensorflow==2.12.0) (0.4.0)\n",
            "Requirement already satisfied: google-pasta>=0.1.1 in /usr/local/lib/python3.10/dist-packages (from tensorflow==2.12.0) (0.2.0)\n",
            "Requirement already satisfied: grpcio<2.0,>=1.24.3 in /usr/local/lib/python3.10/dist-packages (from tensorflow==2.12.0) (1.68.0)\n",
            "Requirement already satisfied: h5py>=2.9.0 in /usr/local/lib/python3.10/dist-packages (from tensorflow==2.12.0) (3.12.1)\n",
            "Requirement already satisfied: jax>=0.3.15 in /usr/local/lib/python3.10/dist-packages (from tensorflow==2.12.0) (0.4.30)\n",
            "Requirement already satisfied: keras<2.13,>=2.12.0 in /usr/local/lib/python3.10/dist-packages (from tensorflow==2.12.0) (2.12.0)\n",
            "Requirement already satisfied: libclang>=13.0.0 in /usr/local/lib/python3.10/dist-packages (from tensorflow==2.12.0) (18.1.1)\n",
            "Requirement already satisfied: numpy<1.24,>=1.22 in /usr/local/lib/python3.10/dist-packages (from tensorflow==2.12.0) (1.23.5)\n",
            "Requirement already satisfied: opt-einsum>=2.3.2 in /usr/local/lib/python3.10/dist-packages (from tensorflow==2.12.0) (3.4.0)\n",
            "Requirement already satisfied: packaging in /usr/local/lib/python3.10/dist-packages (from tensorflow==2.12.0) (24.2)\n",
            "Requirement already satisfied: protobuf!=4.21.0,!=4.21.1,!=4.21.2,!=4.21.3,!=4.21.4,!=4.21.5,<5.0.0dev,>=3.20.3 in /usr/local/lib/python3.10/dist-packages (from tensorflow==2.12.0) (4.25.5)\n",
            "Requirement already satisfied: setuptools in /usr/local/lib/python3.10/dist-packages (from tensorflow==2.12.0) (75.1.0)\n",
            "Requirement already satisfied: six>=1.12.0 in /usr/local/lib/python3.10/dist-packages (from tensorflow==2.12.0) (1.16.0)\n",
            "Requirement already satisfied: tensorboard<2.13,>=2.12 in /usr/local/lib/python3.10/dist-packages (from tensorflow==2.12.0) (2.12.3)\n",
            "Requirement already satisfied: tensorflow-estimator<2.13,>=2.12.0 in /usr/local/lib/python3.10/dist-packages (from tensorflow==2.12.0) (2.12.0)\n",
            "Requirement already satisfied: termcolor>=1.1.0 in /usr/local/lib/python3.10/dist-packages (from tensorflow==2.12.0) (2.5.0)\n",
            "Requirement already satisfied: typing-extensions>=3.6.6 in /usr/local/lib/python3.10/dist-packages (from tensorflow==2.12.0) (4.12.2)\n",
            "Requirement already satisfied: wrapt<1.15,>=1.11.0 in /usr/local/lib/python3.10/dist-packages (from tensorflow==2.12.0) (1.14.1)\n",
            "Requirement already satisfied: tensorflow-io-gcs-filesystem>=0.23.1 in /usr/local/lib/python3.10/dist-packages (from tensorflow==2.12.0) (0.37.1)\n",
            "Requirement already satisfied: wheel<1.0,>=0.23.0 in /usr/local/lib/python3.10/dist-packages (from astunparse>=1.6.0->tensorflow==2.12.0) (0.45.0)\n",
            "Requirement already satisfied: jaxlib<=0.4.30,>=0.4.27 in /usr/local/lib/python3.10/dist-packages (from jax>=0.3.15->tensorflow==2.12.0) (0.4.30)\n",
            "Requirement already satisfied: ml-dtypes>=0.2.0 in /usr/local/lib/python3.10/dist-packages (from jax>=0.3.15->tensorflow==2.12.0) (0.4.1)\n",
            "Requirement already satisfied: scipy>=1.9 in /usr/local/lib/python3.10/dist-packages (from jax>=0.3.15->tensorflow==2.12.0) (1.13.1)\n",
            "Requirement already satisfied: google-auth<3,>=1.6.3 in /usr/local/lib/python3.10/dist-packages (from tensorboard<2.13,>=2.12->tensorflow==2.12.0) (2.27.0)\n",
            "Requirement already satisfied: google-auth-oauthlib<1.1,>=0.5 in /usr/local/lib/python3.10/dist-packages (from tensorboard<2.13,>=2.12->tensorflow==2.12.0) (1.0.0)\n",
            "Requirement already satisfied: markdown>=2.6.8 in /usr/local/lib/python3.10/dist-packages (from tensorboard<2.13,>=2.12->tensorflow==2.12.0) (3.7)\n",
            "Requirement already satisfied: requests<3,>=2.21.0 in /usr/local/lib/python3.10/dist-packages (from tensorboard<2.13,>=2.12->tensorflow==2.12.0) (2.32.3)\n",
            "Requirement already satisfied: tensorboard-data-server<0.8.0,>=0.7.0 in /usr/local/lib/python3.10/dist-packages (from tensorboard<2.13,>=2.12->tensorflow==2.12.0) (0.7.2)\n",
            "Requirement already satisfied: werkzeug>=1.0.1 in /usr/local/lib/python3.10/dist-packages (from tensorboard<2.13,>=2.12->tensorflow==2.12.0) (3.1.3)\n",
            "Requirement already satisfied: cachetools<6.0,>=2.0.0 in /usr/local/lib/python3.10/dist-packages (from google-auth<3,>=1.6.3->tensorboard<2.13,>=2.12->tensorflow==2.12.0) (5.5.0)\n",
            "Requirement already satisfied: pyasn1-modules>=0.2.1 in /usr/local/lib/python3.10/dist-packages (from google-auth<3,>=1.6.3->tensorboard<2.13,>=2.12->tensorflow==2.12.0) (0.4.1)\n",
            "Requirement already satisfied: rsa<5,>=3.1.4 in /usr/local/lib/python3.10/dist-packages (from google-auth<3,>=1.6.3->tensorboard<2.13,>=2.12->tensorflow==2.12.0) (4.9)\n",
            "Requirement already satisfied: requests-oauthlib>=0.7.0 in /usr/local/lib/python3.10/dist-packages (from google-auth-oauthlib<1.1,>=0.5->tensorboard<2.13,>=2.12->tensorflow==2.12.0) (1.3.1)\n",
            "Requirement already satisfied: charset-normalizer<4,>=2 in /usr/local/lib/python3.10/dist-packages (from requests<3,>=2.21.0->tensorboard<2.13,>=2.12->tensorflow==2.12.0) (3.4.0)\n",
            "Requirement already satisfied: idna<4,>=2.5 in /usr/local/lib/python3.10/dist-packages (from requests<3,>=2.21.0->tensorboard<2.13,>=2.12->tensorflow==2.12.0) (3.10)\n",
            "Requirement already satisfied: urllib3<3,>=1.21.1 in /usr/local/lib/python3.10/dist-packages (from requests<3,>=2.21.0->tensorboard<2.13,>=2.12->tensorflow==2.12.0) (2.2.3)\n",
            "Requirement already satisfied: certifi>=2017.4.17 in /usr/local/lib/python3.10/dist-packages (from requests<3,>=2.21.0->tensorboard<2.13,>=2.12->tensorflow==2.12.0) (2024.8.30)\n",
            "Requirement already satisfied: MarkupSafe>=2.1.1 in /usr/local/lib/python3.10/dist-packages (from werkzeug>=1.0.1->tensorboard<2.13,>=2.12->tensorflow==2.12.0) (3.0.2)\n",
            "Requirement already satisfied: pyasn1<0.7.0,>=0.4.6 in /usr/local/lib/python3.10/dist-packages (from pyasn1-modules>=0.2.1->google-auth<3,>=1.6.3->tensorboard<2.13,>=2.12->tensorflow==2.12.0) (0.6.1)\n",
            "Requirement already satisfied: oauthlib>=3.0.0 in /usr/local/lib/python3.10/dist-packages (from requests-oauthlib>=0.7.0->google-auth-oauthlib<1.1,>=0.5->tensorboard<2.13,>=2.12->tensorflow==2.12.0) (3.2.2)\n",
            "Requirement already satisfied: tensorflow-hub==0.13.0 in /usr/local/lib/python3.10/dist-packages (0.13.0)\n",
            "Requirement already satisfied: numpy>=1.12.0 in /usr/local/lib/python3.10/dist-packages (from tensorflow-hub==0.13.0) (1.23.5)\n",
            "Requirement already satisfied: protobuf>=3.19.6 in /usr/local/lib/python3.10/dist-packages (from tensorflow-hub==0.13.0) (4.25.5)\n"
          ]
        }
      ],
      "source": [
        "!pip install tensorflow==2.12.0\n",
        "!pip install tensorflow-hub==0.13.0"
      ]
    },
    {
      "cell_type": "code",
      "execution_count": 47,
      "metadata": {
        "id": "ouCydGOXjeXt"
      },
      "outputs": [],
      "source": [
        "# define feature extraction model using tf hub layer\n",
        "model_2_input = layers.Input(shape=[], dtype=tf.string, name='input_layer')\n",
        "model_2_embedding = tf_hub_embedding_layer(model_2_input)\n",
        "model_2_output = layers.Dense(num_clases, activation='softmax')(model_2_embedding)\n",
        "model_2 = tf.keras.Model(inputs=model_2_input, outputs=model_2_output,name='use_feature_extractor')\n",
        "model_2.compile(\n",
        "    loss=losses.CategoricalCrossentropy(),\n",
        "    optimizer=tf.keras.optimizers.Adam(),\n",
        "    metrics=['accuracy']\n",
        ")"
      ]
    },
    {
      "cell_type": "code",
      "execution_count": 48,
      "metadata": {
        "id": "iy4iohIpmwuI",
        "colab": {
          "base_uri": "https://localhost:8080/"
        },
        "outputId": "57aebd4a-7cb8-43f7-d101-02dbe0b20ad8"
      },
      "outputs": [
        {
          "output_type": "stream",
          "name": "stdout",
          "text": [
            "Model: \"use_feature_extractor\"\n",
            "_________________________________________________________________\n",
            " Layer (type)                Output Shape              Param #   \n",
            "=================================================================\n",
            " input_layer (InputLayer)    [(None,)]                 0         \n",
            "                                                                 \n",
            " universal_sentence_encoder   (None, 512)              256797824 \n",
            " (KerasLayer)                                                    \n",
            "                                                                 \n",
            " dense_2 (Dense)             (None, 5)                 2565      \n",
            "                                                                 \n",
            "=================================================================\n",
            "Total params: 256,800,389\n",
            "Trainable params: 2,565\n",
            "Non-trainable params: 256,797,824\n",
            "_________________________________________________________________\n"
          ]
        }
      ],
      "source": [
        "model_2.summary()"
      ]
    },
    {
      "cell_type": "code",
      "execution_count": 49,
      "metadata": {
        "id": "w5D0ode5tvmI",
        "colab": {
          "base_uri": "https://localhost:8080/"
        },
        "outputId": "64d2f2ba-703d-428e-8f38-0130b28a4929"
      },
      "outputs": [
        {
          "output_type": "stream",
          "name": "stdout",
          "text": [
            "Epoch 1/3\n",
            "562/562 [==============================] - 42s 65ms/step - loss: 1.2619 - accuracy: 0.5373 - val_loss: 1.0853 - val_accuracy: 0.6000\n",
            "Epoch 2/3\n",
            "562/562 [==============================] - 29s 52ms/step - loss: 1.0134 - accuracy: 0.6252 - val_loss: 0.9543 - val_accuracy: 0.6519\n",
            "Epoch 3/3\n",
            "562/562 [==============================] - 18s 32ms/step - loss: 0.9322 - accuracy: 0.6554 - val_loss: 0.8944 - val_accuracy: 0.6737\n"
          ]
        }
      ],
      "source": [
        "model_2_history = model_2.fit(\n",
        "    train_dataset,\n",
        "    steps_per_epoch=int(0.1 * len(train_dataset)),\n",
        "    epochs=3,\n",
        "    validation_data=val_dataset\n",
        ")"
      ]
    },
    {
      "cell_type": "code",
      "execution_count": 50,
      "metadata": {
        "id": "P5Iq-o8Qty8V",
        "colab": {
          "base_uri": "https://localhost:8080/"
        },
        "outputId": "9c78c6fb-d307-476b-8dfb-67fe2a46f07f"
      },
      "outputs": [
        {
          "output_type": "stream",
          "name": "stdout",
          "text": [
            "945/945 [==============================] - 22s 24ms/step - loss: 0.8944 - accuracy: 0.6737\n"
          ]
        },
        {
          "output_type": "execute_result",
          "data": {
            "text/plain": [
              "[0.8943997025489807, 0.6737058162689209]"
            ]
          },
          "metadata": {},
          "execution_count": 50
        }
      ],
      "source": [
        "model_2.evaluate(val_dataset)"
      ]
    },
    {
      "cell_type": "code",
      "execution_count": 51,
      "metadata": {
        "id": "DMrbqbBEt12p",
        "colab": {
          "base_uri": "https://localhost:8080/"
        },
        "outputId": "4f4cd0e5-df98-4c3b-d72f-60d6b62acab1"
      },
      "outputs": [
        {
          "output_type": "stream",
          "name": "stdout",
          "text": [
            "945/945 [==============================] - 13s 13ms/step\n"
          ]
        },
        {
          "output_type": "execute_result",
          "data": {
            "text/plain": [
              "array([[0.35821494, 0.33012268, 0.05136725, 0.16893259, 0.0913626 ],\n",
              "       [0.3054229 , 0.45860767, 0.04137274, 0.1242368 , 0.07035985],\n",
              "       [0.18423714, 0.2893321 , 0.12505198, 0.25355715, 0.1478216 ],\n",
              "       ...,\n",
              "       [0.0161943 , 0.01690043, 0.19062982, 0.01281814, 0.7634573 ],\n",
              "       [0.03367913, 0.08104438, 0.37097833, 0.01881201, 0.49548614],\n",
              "       [0.24219194, 0.11352306, 0.42510253, 0.03579447, 0.18338804]],\n",
              "      dtype=float32)"
            ]
          },
          "metadata": {},
          "execution_count": 51
        }
      ],
      "source": [
        "model_2_preds = model_2.predict(val_dataset)\n",
        "model_2_preds"
      ]
    },
    {
      "cell_type": "code",
      "execution_count": 52,
      "metadata": {
        "id": "SXZotFvHt3yf",
        "colab": {
          "base_uri": "https://localhost:8080/"
        },
        "outputId": "354e333e-cd37-4a60-9e50-e252d6794deb"
      },
      "outputs": [
        {
          "output_type": "execute_result",
          "data": {
            "text/plain": [
              "<tf.Tensor: shape=(30212,), dtype=int64, numpy=array([0, 1, 1, ..., 4, 4, 2])>"
            ]
          },
          "metadata": {},
          "execution_count": 52
        }
      ],
      "source": [
        "model_2_preds = tf.argmax(model_2_preds, axis=1)\n",
        "model_2_preds"
      ]
    },
    {
      "cell_type": "code",
      "execution_count": 53,
      "metadata": {
        "id": "pRyyMjlft7Wr",
        "colab": {
          "base_uri": "https://localhost:8080/"
        },
        "outputId": "8b802e47-5076-4ec1-8449-4225e08a65a6"
      },
      "outputs": [
        {
          "output_type": "execute_result",
          "data": {
            "text/plain": [
              "{'accuracy': 67.37058122600291,\n",
              " 'precision': 0.6693714838552649,\n",
              " 'recall': 0.6737058122600291,\n",
              " 'f1': 0.6580683099374592}"
            ]
          },
          "metadata": {},
          "execution_count": 53
        }
      ],
      "source": [
        "model_2_results = calculate_results(val_labels, model_2_preds)\n",
        "model_2_results"
      ]
    },
    {
      "cell_type": "markdown",
      "metadata": {
        "id": "2sL5QNJVxJfA"
      },
      "source": [
        "# Model 3: Conv1d with character embedding\n"
      ]
    },
    {
      "cell_type": "markdown",
      "metadata": {
        "id": "DgNq3ZYCxwnl"
      },
      "source": [
        "### Create character level tokenizer"
      ]
    },
    {
      "cell_type": "code",
      "execution_count": 54,
      "metadata": {
        "id": "i67htgLJxwVH",
        "colab": {
          "base_uri": "https://localhost:8080/"
        },
        "outputId": "1accecbd-930d-4853-d99f-84431c1e485b"
      },
      "outputs": [
        {
          "output_type": "execute_result",
          "data": {
            "text/plain": [
              "['to investigate the efficacy of @ weeks of daily low-dose oral prednisolone in improving pain , mobility , and systemic low-grade inflammation in the short term and whether the effect would be sustained at @ weeks in older adults with moderate to severe knee osteoarthritis ( oa ) .',\n",
              " 'a total of @ patients with primary knee oa were randomized @:@ ; @ received @ mg/day of prednisolone and @ received placebo for @ weeks .',\n",
              " 'outcome measures included pain reduction and improvement in function scores and systemic inflammation markers .',\n",
              " 'pain was assessed using the visual analog pain scale ( @-@ mm ) .',\n",
              " 'secondary outcome measures included the western ontario and mcmaster universities osteoarthritis index scores , patient global assessment ( pga ) of the severity of knee oa , and @-min walk distance ( @mwd ) .']"
            ]
          },
          "metadata": {},
          "execution_count": 54
        }
      ],
      "source": [
        "train_sentences[:5]"
      ]
    },
    {
      "cell_type": "code",
      "execution_count": 55,
      "metadata": {
        "id": "WvoEdGOft-SN"
      },
      "outputs": [],
      "source": [
        "# make function to split sentences into characters\n",
        "def split_sentences(sentence):\n",
        "  return \" \".join(list(sentence))"
      ]
    },
    {
      "cell_type": "code",
      "execution_count": 56,
      "metadata": {
        "id": "YaS4Wp_NyC4h",
        "colab": {
          "base_uri": "https://localhost:8080/",
          "height": 71
        },
        "outputId": "8372520d-f17f-497b-aa46-18e77e9bdec3"
      },
      "outputs": [
        {
          "output_type": "execute_result",
          "data": {
            "text/plain": [
              "'t o   i n v e s t i g a t e   t h e   e f f i c a c y   o f   @   w e e k s   o f   d a i l y   l o w - d o s e   o r a l   p r e d n i s o l o n e   i n   i m p r o v i n g   p a i n   ,   m o b i l i t y   ,   a n d   s y s t e m i c   l o w - g r a d e   i n f l a m m a t i o n   i n   t h e   s h o r t   t e r m   a n d   w h e t h e r   t h e   e f f e c t   w o u l d   b e   s u s t a i n e d   a t   @   w e e k s   i n   o l d e r   a d u l t s   w i t h   m o d e r a t e   t o   s e v e r e   k n e e   o s t e o a r t h r i t i s   (   o a   )   .'"
            ],
            "application/vnd.google.colaboratory.intrinsic+json": {
              "type": "string"
            }
          },
          "metadata": {},
          "execution_count": 56
        }
      ],
      "source": [
        "split_sentences(train_sentences[0])"
      ]
    },
    {
      "cell_type": "code",
      "execution_count": 57,
      "metadata": {
        "id": "KFM8u2KPyGLr",
        "colab": {
          "base_uri": "https://localhost:8080/"
        },
        "outputId": "e12ec294-7b44-4cf2-9ea3-d09276a7934c"
      },
      "outputs": [
        {
          "output_type": "stream",
          "name": "stdout",
          "text": [
            "t o   i n v e s t i g a t e   t h e   e f f i c a c y   o f   @   w e e k s   o f   d a i l y   l o w - d o s e   o r a l   p r e d n i s o l o n e   i n   i m p r o v i n g   p a i n   ,   m o b i l i t y   ,   a n d   s y s t e m i c   l o w - g r a d e   i n f l a m m a t i o n   i n   t h e   s h o r t   t e r m   a n d   w h e t h e r   t h e   e f f e c t   w o u l d   b e   s u s t a i n e d   a t   @   w e e k s   i n   o l d e r   a d u l t s   w i t h   m o d e r a t e   t o   s e v e r e   k n e e   o s t e o a r t h r i t i s   (   o a   )   .\n"
          ]
        }
      ],
      "source": [
        "# Split sequence-level data splits into character-level data splits\n",
        "train_chars = [split_sentences(sentence) for sentence in train_sentences]\n",
        "val_chars = [split_sentences(sentence) for sentence in val_sentences]\n",
        "test_chars = [split_sentences(sentence) for sentence in test_sentences]\n",
        "print(train_chars[0])"
      ]
    },
    {
      "cell_type": "code",
      "execution_count": 58,
      "metadata": {
        "id": "nD496bx0ydjG",
        "colab": {
          "base_uri": "https://localhost:8080/"
        },
        "outputId": "48e677c1-4243-41d7-9139-f458b0d92981"
      },
      "outputs": [
        {
          "output_type": "execute_result",
          "data": {
            "text/plain": [
              "297.7325149966674"
            ]
          },
          "metadata": {},
          "execution_count": 58
        }
      ],
      "source": [
        "# Whats the average character length\n",
        "char_lengths = [len(char_list) for char_list in train_chars]\n",
        "avg_length = np.mean(char_lengths)\n",
        "avg_length"
      ]
    },
    {
      "cell_type": "code",
      "execution_count": 59,
      "metadata": {
        "id": "naZrrIV6yx3z",
        "colab": {
          "base_uri": "https://localhost:8080/"
        },
        "outputId": "b361f9cb-1c2a-4996-f43e-06dc040dbe01"
      },
      "outputs": [
        {
          "output_type": "execute_result",
          "data": {
            "text/plain": [
              "2771"
            ]
          },
          "metadata": {},
          "execution_count": 59
        }
      ],
      "source": [
        "# what the max character length\n",
        "max_char_length = max(char_lengths)\n",
        "max_char_length"
      ]
    },
    {
      "cell_type": "code",
      "execution_count": 60,
      "metadata": {
        "id": "bZkhiErHy6FF",
        "colab": {
          "base_uri": "https://localhost:8080/",
          "height": 430
        },
        "outputId": "a6f47895-7da4-4e54-dc0f-e887a1cc6dbd"
      },
      "outputs": [
        {
          "output_type": "display_data",
          "data": {
            "text/plain": [
              "<Figure size 640x480 with 1 Axes>"
            ],
            "image/png": "[encoded data removed]"
          },
          "metadata": {}
        }
      ],
      "source": [
        "# check the distribution\n",
        "plt.hist(char_lengths)\n",
        "plt.show()"
      ]
    },
    {
      "cell_type": "code",
      "execution_count": 61,
      "metadata": {
        "id": "c4g8IQoczKEY",
        "colab": {
          "base_uri": "https://localhost:8080/"
        },
        "outputId": "cdaf171e-38ef-422f-b938-e9279d2f0ee0"
      },
      "outputs": [
        {
          "output_type": "execute_result",
          "data": {
            "text/plain": [
              "579"
            ]
          },
          "metadata": {},
          "execution_count": 61
        }
      ],
      "source": [
        "# find what character length covered in 95% percentile\n",
        "output_char_length = int(np.quantile(char_lengths, 0.95))\n",
        "output_char_length\n"
      ]
    },
    {
      "cell_type": "code",
      "execution_count": 62,
      "metadata": {
        "id": "CGLMyOPdzVxO",
        "colab": {
          "base_uri": "https://localhost:8080/",
          "height": 36
        },
        "outputId": "3978d64b-c114-4b42-c6de-e7b999add615"
      },
      "outputs": [
        {
          "output_type": "execute_result",
          "data": {
            "text/plain": [
              "'abcdefghijklmnopqrstuvwxyz0123456789!\"#$%&\\'()*+,-./:;<=>?@[\\\\]^_`{|}~'"
            ],
            "application/vnd.google.colaboratory.intrinsic+json": {
              "type": "string"
            }
          },
          "metadata": {},
          "execution_count": 62
        }
      ],
      "source": [
        "# get all keyboad charaters\n",
        "import string\n",
        "alphapet = string.ascii_lowercase + string.digits + string.punctuation\n",
        "alphapet"
      ]
    },
    {
      "cell_type": "markdown",
      "metadata": {
        "id": "cWcy6WDFz9C2"
      },
      "source": [
        "### Create char level token vectorizer"
      ]
    },
    {
      "cell_type": "code",
      "execution_count": 63,
      "metadata": {
        "id": "C7pwZl9Jz3i8"
      },
      "outputs": [],
      "source": [
        "\n",
        "# Create char-level token vectorizer instance\n",
        "NUM_CHAR_TOKENS = len(alphapet) + 2 # num characters in alphabet + space + OOV token\n",
        "char_vectorizer = TextVectorization(max_tokens=NUM_CHAR_TOKENS,\n",
        "                                    output_sequence_length=output_char_length,\n",
        "                                    standardize=\"lower_and_strip_punctuation\",\n",
        "                                    name=\"char_vectorizer\")\n",
        "\n",
        "# Adapt character vectorizer to training characters\n",
        "char_vectorizer.adapt(train_chars)"
      ]
    },
    {
      "cell_type": "code",
      "execution_count": 64,
      "metadata": {
        "id": "tyWfh8lZ0sVk",
        "colab": {
          "base_uri": "https://localhost:8080/"
        },
        "outputId": "9dadafe4-9cbf-4b71-978a-a3fc24495463"
      },
      "outputs": [
        {
          "output_type": "stream",
          "name": "stdout",
          "text": [
            "Number of characters in vocab: 28\n",
            "5 characters in vocab: ['', '[UNK]', 'e', 't', 'i']\n",
            "Most common characters: ['k', 'x', 'z', 'q', 'j']\n"
          ]
        }
      ],
      "source": [
        "# Chack character vocab stats\n",
        "char_vocab = char_vectorizer.get_vocabulary()\n",
        "print(f'Number of characters in vocab: {len(char_vocab)}')\n",
        "print(f'5 characters in vocab: {char_vocab[:5]}')\n",
        "print(f'Most common characters: {char_vocab[-5:]}')"
      ]
    },
    {
      "cell_type": "code",
      "execution_count": 65,
      "metadata": {
        "id": "E86GyxD61Bkp",
        "colab": {
          "base_uri": "https://localhost:8080/"
        },
        "outputId": "2dc21d6c-4920-47d0-c301-e2a35ca2d86e"
      },
      "outputs": [
        {
          "output_type": "stream",
          "name": "stdout",
          "text": [
            "Original text:\n",
            "instruction using both media improved wayfinding and navigation skills .\n",
            "\n",
            "Vectorized version:\n",
            "tf.Tensor(\n",
            "[[1 1 1 1 1 1 1 1 1 0 0 0 0 0 0 0 0 0 0 0 0 0 0 0 0 0 0 0 0 0 0 0 0 0 0 0\n",
            "  0 0 0 0 0 0 0 0 0 0 0 0 0 0 0 0 0 0 0 0 0 0 0 0 0 0 0 0 0 0 0 0 0 0 0 0\n",
            "  0 0 0 0 0 0 0 0 0 0 0 0 0 0 0 0 0 0 0 0 0 0 0 0 0 0 0 0 0 0 0 0 0 0 0 0\n",
            "  0 0 0 0 0 0 0 0 0 0 0 0 0 0 0 0 0 0 0 0 0 0 0 0 0 0 0 0 0 0 0 0 0 0 0 0\n",
            "  0 0 0 0 0 0 0 0 0 0 0 0 0 0 0 0 0 0 0 0 0 0 0 0 0 0 0 0 0 0 0 0 0 0 0 0\n",
            "  0 0 0 0 0 0 0 0 0 0 0 0 0 0 0 0 0 0 0 0 0 0 0 0 0 0 0 0 0 0 0 0 0 0 0 0\n",
            "  0 0 0 0 0 0 0 0 0 0 0 0 0 0 0 0 0 0 0 0 0 0 0 0 0 0 0 0 0 0 0 0 0 0 0 0\n",
            "  0 0 0 0 0 0 0 0 0 0 0 0 0 0 0 0 0 0 0 0 0 0 0 0 0 0 0 0 0 0 0 0 0 0 0 0\n",
            "  0 0 0 0 0 0 0 0 0 0 0 0 0 0 0 0 0 0 0 0 0 0 0 0 0 0 0 0 0 0 0 0 0 0 0 0\n",
            "  0 0 0 0 0 0 0 0 0 0 0 0 0 0 0 0 0 0 0 0 0 0 0 0 0 0 0 0 0 0 0 0 0 0 0 0\n",
            "  0 0 0 0 0 0 0 0 0 0 0 0 0 0 0 0 0 0 0 0 0 0 0 0 0 0 0 0 0 0 0 0 0 0 0 0\n",
            "  0 0 0 0 0 0 0 0 0 0 0 0 0 0 0 0 0 0 0 0 0 0 0 0 0 0 0 0 0 0 0 0 0 0 0 0\n",
            "  0 0 0 0 0 0 0 0 0 0 0 0 0 0 0 0 0 0 0 0 0 0 0 0 0 0 0 0 0 0 0 0 0 0 0 0\n",
            "  0 0 0 0 0 0 0 0 0 0 0 0 0 0 0 0 0 0 0 0 0 0 0 0 0 0 0 0 0 0 0 0 0 0 0 0\n",
            "  0 0 0 0 0 0 0 0 0 0 0 0 0 0 0 0 0 0 0 0 0 0 0 0 0 0 0 0 0 0 0 0 0 0 0 0\n",
            "  0 0 0 0 0 0 0 0 0 0 0 0 0 0 0 0 0 0 0 0 0 0 0 0 0 0 0 0 0 0 0 0 0 0 0 0\n",
            "  0 0 0]], shape=(1, 579), dtype=int64)\n"
          ]
        }
      ],
      "source": [
        "# test out vectorizer\n",
        "print(f'Original text:\\n{random_target}\\n\\nVectorized version:')\n",
        "print(char_vectorizer([random_target]))"
      ]
    },
    {
      "cell_type": "code",
      "execution_count": 66,
      "metadata": {
        "id": "87HHNCt16rXS"
      },
      "outputs": [],
      "source": [
        "# Create the embedding layer\n",
        "char_embedding = Embedding(\n",
        "    input_dim=NUM_CHAR_TOKENS,\n",
        "    output_dim=25,\n",
        "    mask_zero=True,\n",
        "    name='char_embedding'\n",
        ")"
      ]
    },
    {
      "cell_type": "markdown",
      "metadata": {
        "id": "pBOp04Vp7gAK"
      },
      "source": [
        "## Create the embeddings layer"
      ]
    },
    {
      "cell_type": "code",
      "execution_count": 67,
      "metadata": {
        "id": "jR6xj4E87SNL",
        "colab": {
          "base_uri": "https://localhost:8080/"
        },
        "outputId": "3f2e068b-197f-46f7-bfd2-d03b9ed9061d"
      },
      "outputs": [
        {
          "output_type": "stream",
          "name": "stdout",
          "text": [
            "Original text:\n",
            "instruction using both media improved wayfinding and navigation skills .\n",
            "\n",
            "Embedded version:\n",
            "tf.Tensor(\n",
            "[[[ 0.04679189  0.04153142  0.04348227 ... -0.03422763  0.02595044\n",
            "    0.00632792]\n",
            "  [ 0.04679189  0.04153142  0.04348227 ... -0.03422763  0.02595044\n",
            "    0.00632792]\n",
            "  [ 0.04679189  0.04153142  0.04348227 ... -0.03422763  0.02595044\n",
            "    0.00632792]\n",
            "  ...\n",
            "  [ 0.00312511 -0.03348722  0.04453466 ... -0.00683684  0.03173684\n",
            "    0.01619356]\n",
            "  [ 0.00312511 -0.03348722  0.04453466 ... -0.00683684  0.03173684\n",
            "    0.01619356]\n",
            "  [ 0.00312511 -0.03348722  0.04453466 ... -0.00683684  0.03173684\n",
            "    0.01619356]]], shape=(1, 579, 25), dtype=float32)\n",
            "Embedded version shape: (1, 579, 25)\n"
          ]
        }
      ],
      "source": [
        "# test the embedding layer\n",
        "print(f'Original text:\\n{random_target}\\n\\nEmbedded version:')\n",
        "print(char_embedding(char_vectorizer([random_target])))\n",
        "print(f'Embedded version shape: {char_embedding(char_vectorizer([random_target])).shape}')"
      ]
    },
    {
      "cell_type": "markdown",
      "metadata": {
        "id": "ZFd0ELHO7cEN"
      },
      "source": [
        "## Building the model"
      ]
    },
    {
      "cell_type": "code",
      "execution_count": 68,
      "metadata": {
        "id": "5K9dMxtO7Z-C",
        "colab": {
          "base_uri": "https://localhost:8080/"
        },
        "outputId": "6ba62199-b5ef-4f76-c002-ebf70ba42c7f"
      },
      "outputs": [
        {
          "output_type": "stream",
          "name": "stdout",
          "text": [
            "Model: \"char_cnn\"\n",
            "_________________________________________________________________\n",
            " Layer (type)                Output Shape              Param #   \n",
            "=================================================================\n",
            " input_layer (InputLayer)    [(None, 1)]               0         \n",
            "                                                                 \n",
            " char_vectorizer (TextVector  (None, 579)              0         \n",
            " ization)                                                        \n",
            "                                                                 \n",
            " char_embedding (Embedding)  (None, 579, 25)           1750      \n",
            "                                                                 \n",
            " conv1d_1 (Conv1D)           (None, 575, 64)           8064      \n",
            "                                                                 \n",
            " global_max_pooling1d_1 (Glo  (None, 64)               0         \n",
            " balMaxPooling1D)                                                \n",
            "                                                                 \n",
            " dense_3 (Dense)             (None, 64)                4160      \n",
            "                                                                 \n",
            " dense_4 (Dense)             (None, 5)                 325       \n",
            "                                                                 \n",
            "=================================================================\n",
            "Total params: 14,299\n",
            "Trainable params: 14,299\n",
            "Non-trainable params: 0\n",
            "_________________________________________________________________\n"
          ]
        }
      ],
      "source": [
        "inputs = layers.Input(shape=(1,), dtype=tf.string, name='input_layer')\n",
        "x = char_vectorizer(inputs)\n",
        "x = char_embedding(x)\n",
        "x = layers.Conv1D(filters=64, kernel_size=5, activation='relu')(x)\n",
        "x = layers.GlobalMaxPool1D()(x)\n",
        "x = layers.Dense(64, activation='relu')(x)\n",
        "outputs = layers.Dense(num_clases, activation='softmax')(x)\n",
        "model_3 = tf.keras.Model(inputs=inputs, outputs=outputs, name='char_cnn')\n",
        "model_3.compile(\n",
        "    loss=losses.CategoricalCrossentropy(),\n",
        "    optimizer=tf.keras.optimizers.Adam(),\n",
        "    metrics=['accuracy']\n",
        ")\n",
        "model_3.summary()"
      ]
    },
    {
      "cell_type": "code",
      "source": [
        "# Create char datasets\n",
        "train_char_dataset = tf.data.Dataset.from_tensor_slices((train_chars, train_labels_one_hot)).batch(32).prefetch(tf.data.AUTOTUNE)\n",
        "val_char_dataset = tf.data.Dataset.from_tensor_slices((val_chars, val_labels_one_hot)).batch(32).prefetch(tf.data.AUTOTUNE)\n",
        "\n",
        "train_char_dataset"
      ],
      "metadata": {
        "colab": {
          "base_uri": "https://localhost:8080/"
        },
        "id": "sGzwugBvMUOS",
        "outputId": "14dd878c-d93c-4460-c2ed-43fbf1f70826"
      },
      "execution_count": 69,
      "outputs": [
        {
          "output_type": "execute_result",
          "data": {
            "text/plain": [
              "<_PrefetchDataset element_spec=(TensorSpec(shape=(None,), dtype=tf.string, name=None), TensorSpec(shape=(None, 5), dtype=tf.float64, name=None))>"
            ]
          },
          "metadata": {},
          "execution_count": 69
        }
      ]
    },
    {
      "cell_type": "code",
      "execution_count": 70,
      "metadata": {
        "id": "b5DOiSvv7vis",
        "colab": {
          "base_uri": "https://localhost:8080/"
        },
        "outputId": "ebb13d8d-42eb-42b0-b0ae-56e74613e645"
      },
      "outputs": [
        {
          "output_type": "stream",
          "name": "stdout",
          "text": [
            "Epoch 1/3\n",
            "562/562 [==============================] - 49s 86ms/step - loss: 1.2340 - accuracy: 0.4904 - val_loss: 1.0248 - val_accuracy: 0.5858\n",
            "Epoch 2/3\n",
            "562/562 [==============================] - 41s 73ms/step - loss: 0.9697 - accuracy: 0.6115 - val_loss: 0.9136 - val_accuracy: 0.6405\n",
            "Epoch 3/3\n",
            "562/562 [==============================] - 38s 68ms/step - loss: 0.9007 - accuracy: 0.6404 - val_loss: 0.8562 - val_accuracy: 0.6602\n"
          ]
        }
      ],
      "source": [
        "model_3_history = model_3.fit(\n",
        "    train_char_dataset,\n",
        "    steps_per_epoch=int(0.1 * len(train_char_dataset)),\n",
        "    epochs=3,\n",
        "    validation_data=val_char_dataset\n",
        ")\n",
        "#"
      ]
    },
    {
      "cell_type": "code",
      "execution_count": 71,
      "metadata": {
        "id": "wRUiWWsl7xgX",
        "colab": {
          "base_uri": "https://localhost:8080/"
        },
        "outputId": "c5701f44-a3e4-416b-c76d-cda93befcbc5"
      },
      "outputs": [
        {
          "output_type": "stream",
          "name": "stdout",
          "text": [
            "945/945 [==============================] - 13s 14ms/step - loss: 1.5077 - accuracy: 0.4040\n"
          ]
        },
        {
          "output_type": "execute_result",
          "data": {
            "text/plain": [
              "[1.50770902633667, 0.40401163697242737]"
            ]
          },
          "metadata": {},
          "execution_count": 71
        }
      ],
      "source": [
        "model_3.evaluate(val_dataset)"
      ]
    },
    {
      "cell_type": "code",
      "execution_count": 72,
      "metadata": {
        "id": "cuM_F9yh85q7",
        "colab": {
          "base_uri": "https://localhost:8080/"
        },
        "outputId": "b160384f-243a-4364-bc8b-0465d34bc2f5"
      },
      "outputs": [
        {
          "output_type": "stream",
          "name": "stdout",
          "text": [
            "945/945 [==============================] - 13s 14ms/step\n"
          ]
        },
        {
          "output_type": "execute_result",
          "data": {
            "text/plain": [
              "array([[0.17895785, 0.0631531 , 0.3787278 , 0.05498738, 0.32417384],\n",
              "       [0.3035921 , 0.07660604, 0.34548217, 0.06225377, 0.21206596],\n",
              "       [0.189639  , 0.06015356, 0.43465483, 0.06148031, 0.25407222],\n",
              "       ...,\n",
              "       [0.31418943, 0.07996605, 0.2245884 , 0.06985134, 0.3114047 ],\n",
              "       [0.16478013, 0.05570662, 0.4236112 , 0.05372759, 0.30217445],\n",
              "       [0.30359206, 0.07660603, 0.3454822 , 0.06225376, 0.2120659 ]],\n",
              "      dtype=float32)"
            ]
          },
          "metadata": {},
          "execution_count": 72
        }
      ],
      "source": [
        "model_3_preds = model_3.predict(val_dataset)\n",
        "model_3_preds"
      ]
    },
    {
      "cell_type": "code",
      "source": [
        "model_3_preds = tf.argmax(model_3_preds, axis=1)\n",
        "model_3_preds"
      ],
      "metadata": {
        "colab": {
          "base_uri": "https://localhost:8080/"
        },
        "id": "EyoUPEkL-bs2",
        "outputId": "1c538fa5-242a-4f51-df3e-af970bbebff9"
      },
      "execution_count": 73,
      "outputs": [
        {
          "output_type": "execute_result",
          "data": {
            "text/plain": [
              "<tf.Tensor: shape=(30212,), dtype=int64, numpy=array([2, 2, 2, ..., 0, 2, 2])>"
            ]
          },
          "metadata": {},
          "execution_count": 73
        }
      ]
    },
    {
      "cell_type": "code",
      "source": [
        "model_3_results = calculate_results(val_labels, model_3_preds)\n",
        "model_3_results\n",
        "#"
      ],
      "metadata": {
        "colab": {
          "base_uri": "https://localhost:8080/"
        },
        "id": "6qUlHrhg-d-F",
        "outputId": "1705d133-9fa7-4b1a-c0a4-d6bc0399e076"
      },
      "execution_count": 74,
      "outputs": [
        {
          "output_type": "stream",
          "name": "stderr",
          "text": [
            "/usr/local/lib/python3.10/dist-packages/sklearn/metrics/_classification.py:1531: UndefinedMetricWarning: Precision is ill-defined and being set to 0.0 in labels with no predicted samples. Use `zero_division` parameter to control this behavior.\n",
            "  _warn_prf(average, modifier, f\"{metric.capitalize()} is\", len(result))\n"
          ]
        },
        {
          "output_type": "execute_result",
          "data": {
            "text/plain": [
              "{'accuracy': 40.40116509996028,\n",
              " 'precision': 0.3559600888178865,\n",
              " 'recall': 0.4040116509996028,\n",
              " 'f1': 0.3297981832112441}"
            ]
          },
          "metadata": {},
          "execution_count": 74
        }
      ]
    },
    {
      "cell_type": "markdown",
      "source": [
        "# Model 4:\n",
        "Steps to Build the Model\n",
        "\n",
        "1. **Create a Token-Level Model**  \n",
        "   - Build a model similar to `model_1` that processes token-level sequences.\n",
        "\n",
        "2. **Create a Character-Level Model**  \n",
        "   - Construct a model similar to `model_3` with a slight modification to reflect the paper.\n",
        "\n",
        "3. **Combine Outputs**  \n",
        "   - Use `layers.Concatenate` to merge the outputs of the token-level and character-level models.\n",
        "\n",
        "4. **Build Output Layers**  \n",
        "   - Add a series of layers on top of the concatenated output, following the structure in **Figure 1** and **Section 4.2** of *[Neural Networks for Joint Sentence Classification in Medical Paper Abstracts](https://arxiv.org/pdf/1612.05251.pdf)*.\n",
        "\n",
        "5. **Construct the Final Model**  \n",
        "   - Create a model that takes token and character-level sequences as input and produces sequence label probabilities as output.\n"
      ],
      "metadata": {
        "id": "Ho5Mjag6cCpH"
      }
    },
    {
      "cell_type": "code",
      "source": [
        "# 1. Setup token inputs and model\n",
        "# Create the input layer for token-level sequences\n",
        "token_inputs = layers.Input(shape=[], dtype=tf.string, name='input_layer')\n",
        "# Pass token inputs through a pre-trained embedding layer from TensorFlow Hub\n",
        "token_embeddings = tf_hub_embedding_layer(token_inputs)\n",
        "# Add a dense layer to process token embeddings\n",
        "token_output = layers.Dense(128, activation='relu')(token_embeddings)\n",
        "# Define the token-level model\n",
        "token_model = tf.keras.Model(inputs=token_inputs, outputs=token_output, name='token_model')\n",
        "\n",
        "# 2. Setup character inputs and model\n",
        "# Create the input layer for character-level sequences\n",
        "char_inputs = layers.Input(shape=(1,), dtype=tf.string, name='char_input_layer')\n",
        "# Vectorize the character inputs using a pre-defined character vectorizer\n",
        "char_vectorizer_layer = char_vectorizer(char_inputs)\n",
        "# Pass the vectorized characters through an embedding layer\n",
        "char_embedding_layer = char_embedding(char_vectorizer_layer)\n",
        "# Use a bidirectional LSTM layer to extract sequential features from character embeddings\n",
        "# This layer reflects the bi-LSTM mentioned in Figure 1 of the paper\n",
        "char_bi_lstm = layers.Bidirectional(layers.LSTM(24))(char_embedding_layer)\n",
        "# Define the character-level model\n",
        "char_model = tf.keras.Model(inputs=char_inputs, outputs=char_bi_lstm, name='char_model')\n",
        "\n",
        "# 3. Concatenate token and character inputs\n",
        "# Combine the outputs of the token-level and character-level models\n",
        "token_char_concat = layers.Concatenate(name='token_char_hybrid')([token_model.output, char_model.output])\n",
        "\n",
        "# 4. Create output layers with dropout for regularization\n",
        "# Apply dropout to the concatenated features to prevent overfitting\n",
        "combined_dropout = layers.Dropout(0.5)(token_char_concat)\n",
        "# Add a dense layer to process combined features\n",
        "combined_dense = layers.Dense(128, activation='relu')(combined_dropout)\n",
        "# Apply another dropout layer\n",
        "final_dropout = layers.Dropout(0.5)(combined_dense)\n",
        "# Add the final output layer with softmax activation for classification\n",
        "final_output = layers.Dense(num_clases, activation='softmax')(final_dropout)\n",
        "\n",
        "# 5. Create the final model\n",
        "# Combine the token and character input layers and define the model\n",
        "model_4 = tf.keras.Model(\n",
        "    inputs=[token_model.input, char_model.input],\n",
        "    outputs=final_output,\n",
        "    name='model_4_token_char_embeddings'\n",
        ")\n"
      ],
      "metadata": {
        "id": "9Nzg-A_U-f-8"
      },
      "execution_count": 75,
      "outputs": []
    },
    {
      "cell_type": "code",
      "source": [
        "# Get a summary\n",
        "model_4.summary()"
      ],
      "metadata": {
        "colab": {
          "base_uri": "https://localhost:8080/"
        },
        "id": "jTERwDdcjyzE",
        "outputId": "cd717bf7-5b92-4421-e60d-e083e306499a"
      },
      "execution_count": 76,
      "outputs": [
        {
          "output_type": "stream",
          "name": "stdout",
          "text": [
            "Model: \"model_4_token_char_embeddings\"\n",
            "__________________________________________________________________________________________________\n",
            " Layer (type)                   Output Shape         Param #     Connected to                     \n",
            "==================================================================================================\n",
            " char_input_layer (InputLayer)  [(None, 1)]          0           []                               \n",
            "                                                                                                  \n",
            " input_layer (InputLayer)       [(None,)]            0           []                               \n",
            "                                                                                                  \n",
            " char_vectorizer (TextVectoriza  (None, 579)         0           ['char_input_layer[0][0]']       \n",
            " tion)                                                                                            \n",
            "                                                                                                  \n",
            " universal_sentence_encoder (Ke  (None, 512)         256797824   ['input_layer[0][0]']            \n",
            " rasLayer)                                                                                        \n",
            "                                                                                                  \n",
            " char_embedding (Embedding)     (None, 579, 25)      1750        ['char_vectorizer[1][0]']        \n",
            "                                                                                                  \n",
            " dense_5 (Dense)                (None, 128)          65664       ['universal_sentence_encoder[1][0\n",
            "                                                                 ]']                              \n",
            "                                                                                                  \n",
            " bidirectional (Bidirectional)  (None, 48)           9600        ['char_embedding[1][0]']         \n",
            "                                                                                                  \n",
            " token_char_hybrid (Concatenate  (None, 176)         0           ['dense_5[0][0]',                \n",
            " )                                                                'bidirectional[0][0]']          \n",
            "                                                                                                  \n",
            " dropout (Dropout)              (None, 176)          0           ['token_char_hybrid[0][0]']      \n",
            "                                                                                                  \n",
            " dense_6 (Dense)                (None, 128)          22656       ['dropout[0][0]']                \n",
            "                                                                                                  \n",
            " dropout_1 (Dropout)            (None, 128)          0           ['dense_6[0][0]']                \n",
            "                                                                                                  \n",
            " dense_7 (Dense)                (None, 5)            645         ['dropout_1[0][0]']              \n",
            "                                                                                                  \n",
            "==================================================================================================\n",
            "Total params: 256,898,139\n",
            "Trainable params: 100,315\n",
            "Non-trainable params: 256,797,824\n",
            "__________________________________________________________________________________________________\n"
          ]
        }
      ]
    },
    {
      "cell_type": "code",
      "source": [
        "# plot the hyprid model\n",
        "from tensorflow.keras.utils import plot_model\n",
        "plot_model(model_4,show_shapes=True)\n"
      ],
      "metadata": {
        "colab": {
          "base_uri": "https://localhost:8080/",
          "height": 976
        },
        "id": "p8Yrnlasp3W9",
        "outputId": "de6a1d0a-7889-4ced-cfc3-19f8c646cd0f"
      },
      "execution_count": 77,
      "outputs": [
        {
          "output_type": "execute_result",
          "data": {
            "image/png": "[encoded data removed]",
            "text/plain": [
              "<IPython.core.display.Image object>"
            ]
          },
          "metadata": {},
          "execution_count": 77
        }
      ]
    },
    {
      "cell_type": "code",
      "source": [
        "# Compile the model\n",
        "model_4.compile(\n",
        "    loss=losses.CategoricalCrossentropy(),\n",
        "    optimizer=tf.keras.optimizers.Adam(),\n",
        "    metrics=['accuracy']\n",
        ")"
      ],
      "metadata": {
        "id": "3PfD0-e-uTg5"
      },
      "execution_count": 78,
      "outputs": []
    },
    {
      "cell_type": "code",
      "source": [
        "# combien char and token into one dataset\n",
        "train_token_char_data = tf.data.Dataset.from_tensor_slices((train_sentences, train_chars))\n",
        "train_char_token_labels = tf.data.Dataset.from_tensor_slices(train_labels_one_hot)\n",
        "train_dataset_combined = tf.data.Dataset.zip((train_token_char_data, train_char_token_labels))\n",
        "\n",
        "# Prefetch\n",
        "train_dataset_combined = train_dataset_combined.batch(32).prefetch(tf.data.AUTOTUNE)\n",
        "\n",
        "# Repeat the same steps for validation\n",
        "val_token_char_data = tf.data.Dataset.from_tensor_slices((val_sentences, val_chars))\n",
        "val_char_token_labels = tf.data.Dataset.from_tensor_slices(val_labels_one_hot)\n",
        "val_dataset_combined = tf.data.Dataset.zip((val_token_char_data, val_char_token_labels))\n",
        "\n",
        "# Prefetch\n",
        "val_dataset_combined = val_dataset_combined.batch(32).prefetch(tf.data.AUTOTUNE)\n"
      ],
      "metadata": {
        "id": "yrt_Dc3v5EgY"
      },
      "execution_count": 79,
      "outputs": []
    },
    {
      "cell_type": "code",
      "source": [
        "# Check out our training char and token embedding dataset\n",
        "train_dataset_combined,val_dataset_combined"
      ],
      "metadata": {
        "colab": {
          "base_uri": "https://localhost:8080/"
        },
        "id": "eOjvxia3BNOq",
        "outputId": "bb7eaaa7-c4d8-4940-a7ef-9aa73b7484fd"
      },
      "execution_count": 80,
      "outputs": [
        {
          "output_type": "execute_result",
          "data": {
            "text/plain": [
              "(<_PrefetchDataset element_spec=((TensorSpec(shape=(None,), dtype=tf.string, name=None), TensorSpec(shape=(None,), dtype=tf.string, name=None)), TensorSpec(shape=(None, 5), dtype=tf.float64, name=None))>,\n",
              " <_PrefetchDataset element_spec=((TensorSpec(shape=(None,), dtype=tf.string, name=None), TensorSpec(shape=(None,), dtype=tf.string, name=None)), TensorSpec(shape=(None, 5), dtype=tf.float64, name=None))>)"
            ]
          },
          "metadata": {},
          "execution_count": 80
        }
      ]
    },
    {
      "cell_type": "code",
      "source": [
        "# Fitting\n",
        "model_4_history = model_4.fit(\n",
        "    train_dataset_combined,\n",
        "    steps_per_epoch=int(0.1 * len(train_dataset_combined)),\n",
        "    epochs=3,\n",
        "    validation_data=val_dataset_combined\n",
        ")"
      ],
      "metadata": {
        "colab": {
          "base_uri": "https://localhost:8080/"
        },
        "id": "ZekypE3HBkWt",
        "outputId": "1f9c0416-a1bf-4dfd-df8d-439be9433bb9"
      },
      "execution_count": 81,
      "outputs": [
        {
          "output_type": "stream",
          "name": "stdout",
          "text": [
            "Epoch 1/3\n",
            "562/562 [==============================] - 585s 1s/step - loss: 0.9820 - accuracy: 0.6094 - val_loss: 0.7911 - val_accuracy: 0.6952\n",
            "Epoch 2/3\n",
            "562/562 [==============================] - 594s 1s/step - loss: 0.8016 - accuracy: 0.6907 - val_loss: 0.7261 - val_accuracy: 0.7232\n",
            "Epoch 3/3\n",
            "562/562 [==============================] - 582s 1s/step - loss: 0.7738 - accuracy: 0.7053 - val_loss: 0.6989 - val_accuracy: 0.7335\n"
          ]
        }
      ]
    },
    {
      "cell_type": "code",
      "source": [
        "model_4.evaluate(val_dataset_combined)"
      ],
      "metadata": {
        "colab": {
          "base_uri": "https://localhost:8080/"
        },
        "id": "tZKhjOUEB4uw",
        "outputId": "44397a8b-cddf-40ae-cf20-f8f387073db5"
      },
      "execution_count": 82,
      "outputs": [
        {
          "output_type": "stream",
          "name": "stdout",
          "text": [
            "945/945 [==============================] - 139s 147ms/step - loss: 0.6989 - accuracy: 0.7335\n"
          ]
        },
        {
          "output_type": "execute_result",
          "data": {
            "text/plain": [
              "[0.6989437341690063, 0.7335164546966553]"
            ]
          },
          "metadata": {},
          "execution_count": 82
        }
      ]
    },
    {
      "cell_type": "code",
      "source": [
        "model_4_preds = model_4.predict(val_dataset_combined)\n",
        "model_4_preds"
      ],
      "metadata": {
        "colab": {
          "base_uri": "https://localhost:8080/"
        },
        "id": "r7fntQ0gDsS-",
        "outputId": "f919201f-57ed-4914-ff84-7228d455fe5e"
      },
      "execution_count": 83,
      "outputs": [
        {
          "output_type": "stream",
          "name": "stdout",
          "text": [
            "945/945 [==============================] - 207s 215ms/step\n"
          ]
        },
        {
          "output_type": "execute_result",
          "data": {
            "text/plain": [
              "array([[4.3670556e-01, 3.5334244e-01, 5.7024076e-03, 1.9599164e-01,\n",
              "        8.2579171e-03],\n",
              "       [4.1802973e-01, 4.0588120e-01, 4.7409511e-03, 1.6930595e-01,\n",
              "        2.0420349e-03],\n",
              "       [3.1490296e-01, 1.2465434e-01, 4.5133203e-02, 4.8206761e-01,\n",
              "        3.3241875e-02],\n",
              "       ...,\n",
              "       [6.4644864e-04, 1.2830653e-02, 6.4529240e-02, 3.0302021e-04,\n",
              "        9.2169064e-01],\n",
              "       [5.7891784e-03, 4.9758859e-02, 2.3227845e-01, 2.6600813e-03,\n",
              "        7.0951337e-01],\n",
              "       [3.3906832e-01, 3.6134416e-01, 2.2605410e-01, 4.0824629e-02,\n",
              "        3.2708816e-02]], dtype=float32)"
            ]
          },
          "metadata": {},
          "execution_count": 83
        }
      ]
    },
    {
      "cell_type": "code",
      "source": [
        "model_4_preds = tf.argmax(model_4_preds, axis=1)\n",
        "model_4_preds"
      ],
      "metadata": {
        "colab": {
          "base_uri": "https://localhost:8080/"
        },
        "id": "9gNIZyhtDwYl",
        "outputId": "83aee531-3312-41e4-96dc-7b9a8c9a9ac9"
      },
      "execution_count": 84,
      "outputs": [
        {
          "output_type": "execute_result",
          "data": {
            "text/plain": [
              "<tf.Tensor: shape=(30212,), dtype=int64, numpy=array([0, 0, 3, ..., 4, 4, 1])>"
            ]
          },
          "metadata": {},
          "execution_count": 84
        }
      ]
    },
    {
      "cell_type": "code",
      "source": [
        "model_4_results = calculate_results(val_labels, model_4_preds)\n",
        "model_4_results"
      ],
      "metadata": {
        "colab": {
          "base_uri": "https://localhost:8080/"
        },
        "id": "1YaWVJvPDxSr",
        "outputId": "14316a29-377d-477f-b709-890bf766b921"
      },
      "execution_count": 85,
      "outputs": [
        {
          "output_type": "execute_result",
          "data": {
            "text/plain": [
              "{'accuracy': 73.35164835164835,\n",
              " 'precision': 0.734183525305087,\n",
              " 'recall': 0.7335164835164835,\n",
              " 'f1': 0.7314037904669825}"
            ]
          },
          "metadata": {},
          "execution_count": 85
        }
      ]
    },
    {
      "cell_type": "markdown",
      "source": [
        "## Create positional embeddings"
      ],
      "metadata": {
        "id": "pqfyIBjW1uMt"
      }
    },
    {
      "cell_type": "code",
      "source": [
        "# How many different line numbers are there?\n",
        "train_df['line_number'].value_counts()"
      ],
      "metadata": {
        "colab": {
          "base_uri": "https://localhost:8080/",
          "height": 1000
        },
        "id": "IiBejbpTDyNK",
        "outputId": "8c7be244-f82a-45f1-9a50-c8840db4d3f2"
      },
      "execution_count": 86,
      "outputs": [
        {
          "output_type": "execute_result",
          "data": {
            "text/plain": [
              "line_number\n",
              "0     15000\n",
              "1     15000\n",
              "2     15000\n",
              "3     15000\n",
              "4     14992\n",
              "5     14949\n",
              "6     14758\n",
              "7     14279\n",
              "8     13346\n",
              "9     11981\n",
              "10    10041\n",
              "11     7892\n",
              "12     5853\n",
              "13     4152\n",
              "14     2835\n",
              "15     1861\n",
              "16     1188\n",
              "17      751\n",
              "18      462\n",
              "19      286\n",
              "20      162\n",
              "21      101\n",
              "22       66\n",
              "23       33\n",
              "24       22\n",
              "25       14\n",
              "26        7\n",
              "27        4\n",
              "28        3\n",
              "29        1\n",
              "30        1\n",
              "Name: count, dtype: int64"
            ],
            "text/html": [
              "<div>\n",
              "<style scoped>\n",
              "    .dataframe tbody tr th:only-of-type {\n",
              "        vertical-align: middle;\n",
              "    }\n",
              "\n",
              "    .dataframe tbody tr th {\n",
              "        vertical-align: top;\n",
              "    }\n",
              "\n",
              "    .dataframe thead th {\n",
              "        text-align: right;\n",
              "    }\n",
              "</style>\n",
              "<table border=\"1\" class=\"dataframe\">\n",
              "  <thead>\n",
              "    <tr style=\"text-align: right;\">\n",
              "      <th></th>\n",
              "      <th>count</th>\n",
              "    </tr>\n",
              "    <tr>\n",
              "      <th>line_number</th>\n",
              "      <th></th>\n",
              "    </tr>\n",
              "  </thead>\n",
              "  <tbody>\n",
              "    <tr>\n",
              "      <th>0</th>\n",
              "      <td>15000</td>\n",
              "    </tr>\n",
              "    <tr>\n",
              "      <th>1</th>\n",
              "      <td>15000</td>\n",
              "    </tr>\n",
              "    <tr>\n",
              "      <th>2</th>\n",
              "      <td>15000</td>\n",
              "    </tr>\n",
              "    <tr>\n",
              "      <th>3</th>\n",
              "      <td>15000</td>\n",
              "    </tr>\n",
              "    <tr>\n",
              "      <th>4</th>\n",
              "      <td>14992</td>\n",
              "    </tr>\n",
              "    <tr>\n",
              "      <th>5</th>\n",
              "      <td>14949</td>\n",
              "    </tr>\n",
              "    <tr>\n",
              "      <th>6</th>\n",
              "      <td>14758</td>\n",
              "    </tr>\n",
              "    <tr>\n",
              "      <th>7</th>\n",
              "      <td>14279</td>\n",
              "    </tr>\n",
              "    <tr>\n",
              "      <th>8</th>\n",
              "      <td>13346</td>\n",
              "    </tr>\n",
              "    <tr>\n",
              "      <th>9</th>\n",
              "      <td>11981</td>\n",
              "    </tr>\n",
              "    <tr>\n",
              "      <th>10</th>\n",
              "      <td>10041</td>\n",
              "    </tr>\n",
              "    <tr>\n",
              "      <th>11</th>\n",
              "      <td>7892</td>\n",
              "    </tr>\n",
              "    <tr>\n",
              "      <th>12</th>\n",
              "      <td>5853</td>\n",
              "    </tr>\n",
              "    <tr>\n",
              "      <th>13</th>\n",
              "      <td>4152</td>\n",
              "    </tr>\n",
              "    <tr>\n",
              "      <th>14</th>\n",
              "      <td>2835</td>\n",
              "    </tr>\n",
              "    <tr>\n",
              "      <th>15</th>\n",
              "      <td>1861</td>\n",
              "    </tr>\n",
              "    <tr>\n",
              "      <th>16</th>\n",
              "      <td>1188</td>\n",
              "    </tr>\n",
              "    <tr>\n",
              "      <th>17</th>\n",
              "      <td>751</td>\n",
              "    </tr>\n",
              "    <tr>\n",
              "      <th>18</th>\n",
              "      <td>462</td>\n",
              "    </tr>\n",
              "    <tr>\n",
              "      <th>19</th>\n",
              "      <td>286</td>\n",
              "    </tr>\n",
              "    <tr>\n",
              "      <th>20</th>\n",
              "      <td>162</td>\n",
              "    </tr>\n",
              "    <tr>\n",
              "      <th>21</th>\n",
              "      <td>101</td>\n",
              "    </tr>\n",
              "    <tr>\n",
              "      <th>22</th>\n",
              "      <td>66</td>\n",
              "    </tr>\n",
              "    <tr>\n",
              "      <th>23</th>\n",
              "      <td>33</td>\n",
              "    </tr>\n",
              "    <tr>\n",
              "      <th>24</th>\n",
              "      <td>22</td>\n",
              "    </tr>\n",
              "    <tr>\n",
              "      <th>25</th>\n",
              "      <td>14</td>\n",
              "    </tr>\n",
              "    <tr>\n",
              "      <th>26</th>\n",
              "      <td>7</td>\n",
              "    </tr>\n",
              "    <tr>\n",
              "      <th>27</th>\n",
              "      <td>4</td>\n",
              "    </tr>\n",
              "    <tr>\n",
              "      <th>28</th>\n",
              "      <td>3</td>\n",
              "    </tr>\n",
              "    <tr>\n",
              "      <th>29</th>\n",
              "      <td>1</td>\n",
              "    </tr>\n",
              "    <tr>\n",
              "      <th>30</th>\n",
              "      <td>1</td>\n",
              "    </tr>\n",
              "  </tbody>\n",
              "</table>\n",
              "</div><br><label><b>dtype:</b> int64</label>"
            ]
          },
          "metadata": {},
          "execution_count": 86
        }
      ]
    },
    {
      "cell_type": "code",
      "source": [
        "# Check the distribution\n",
        "plt.hist(train_df['line_number'])\n",
        "plt.show()"
      ],
      "metadata": {
        "colab": {
          "base_uri": "https://localhost:8080/",
          "height": 430
        },
        "id": "LHaiDb2x14hk",
        "outputId": "d14bbcd5-5990-4a12-fb1a-58ba92128993"
      },
      "execution_count": 87,
      "outputs": [
        {
          "output_type": "display_data",
          "data": {
            "text/plain": [
              "<Figure size 640x480 with 1 Axes>"
            ],
            "image/png": "[encoded data removed]"
          },
          "metadata": {}
        }
      ]
    },
    {
      "cell_type": "code",
      "source": [
        "# Use tensorflow to create one hot encoding tensors of our line_number column\n",
        "train_lines_numbers_one_hot = tf.one_hot(train_df['line_number'].to_numpy(),depth=15)\n",
        "val_lines_numbers_one_hot = tf.one_hot(val_df['line_number'].to_numpy(),depth=15)\n",
        "train_lines_numbers_one_hot , train_lines_numbers_one_hot.shape\n"
      ],
      "metadata": {
        "colab": {
          "base_uri": "https://localhost:8080/"
        },
        "id": "3yDUFkde2KaZ",
        "outputId": "15425348-f5bc-4a37-a792-bd5cb77753bb"
      },
      "execution_count": 88,
      "outputs": [
        {
          "output_type": "execute_result",
          "data": {
            "text/plain": [
              "(<tf.Tensor: shape=(180040, 15), dtype=float32, numpy=\n",
              " array([[1., 0., 0., ..., 0., 0., 0.],\n",
              "        [0., 1., 0., ..., 0., 0., 0.],\n",
              "        [0., 0., 1., ..., 0., 0., 0.],\n",
              "        ...,\n",
              "        [0., 0., 0., ..., 0., 0., 0.],\n",
              "        [0., 0., 0., ..., 0., 0., 0.],\n",
              "        [0., 0., 0., ..., 0., 0., 0.]], dtype=float32)>,\n",
              " TensorShape([180040, 15]))"
            ]
          },
          "metadata": {},
          "execution_count": 88
        }
      ]
    },
    {
      "cell_type": "markdown",
      "source": [
        "Now we've encoding our lines numbers lets do the same for lines feature"
      ],
      "metadata": {
        "id": "W9oaS_-j35Li"
      }
    },
    {
      "cell_type": "code",
      "source": [
        "# How many numbers of lines are there\n",
        "train_df['total_lines'].value_counts()"
      ],
      "metadata": {
        "colab": {
          "base_uri": "https://localhost:8080/",
          "height": 962
        },
        "id": "Jz5Bl-DR2_ET",
        "outputId": "af01b65f-dd7d-4ff8-9f4c-faf3c4f813f8"
      },
      "execution_count": 89,
      "outputs": [
        {
          "output_type": "execute_result",
          "data": {
            "text/plain": [
              "total_lines\n",
              "11    24468\n",
              "10    23639\n",
              "12    22113\n",
              "9     19400\n",
              "13    18438\n",
              "14    14610\n",
              "8     12285\n",
              "15    10768\n",
              "7      7464\n",
              "16     7429\n",
              "17     5202\n",
              "6      3353\n",
              "18     3344\n",
              "19     2480\n",
              "20     1281\n",
              "5      1146\n",
              "21      770\n",
              "22      759\n",
              "23      264\n",
              "4       215\n",
              "24      200\n",
              "25      182\n",
              "26       81\n",
              "28       58\n",
              "3        32\n",
              "30       31\n",
              "27       28\n",
              "Name: count, dtype: int64"
            ],
            "text/html": [
              "<div>\n",
              "<style scoped>\n",
              "    .dataframe tbody tr th:only-of-type {\n",
              "        vertical-align: middle;\n",
              "    }\n",
              "\n",
              "    .dataframe tbody tr th {\n",
              "        vertical-align: top;\n",
              "    }\n",
              "\n",
              "    .dataframe thead th {\n",
              "        text-align: right;\n",
              "    }\n",
              "</style>\n",
              "<table border=\"1\" class=\"dataframe\">\n",
              "  <thead>\n",
              "    <tr style=\"text-align: right;\">\n",
              "      <th></th>\n",
              "      <th>count</th>\n",
              "    </tr>\n",
              "    <tr>\n",
              "      <th>total_lines</th>\n",
              "      <th></th>\n",
              "    </tr>\n",
              "  </thead>\n",
              "  <tbody>\n",
              "    <tr>\n",
              "      <th>11</th>\n",
              "      <td>24468</td>\n",
              "    </tr>\n",
              "    <tr>\n",
              "      <th>10</th>\n",
              "      <td>23639</td>\n",
              "    </tr>\n",
              "    <tr>\n",
              "      <th>12</th>\n",
              "      <td>22113</td>\n",
              "    </tr>\n",
              "    <tr>\n",
              "      <th>9</th>\n",
              "      <td>19400</td>\n",
              "    </tr>\n",
              "    <tr>\n",
              "      <th>13</th>\n",
              "      <td>18438</td>\n",
              "    </tr>\n",
              "    <tr>\n",
              "      <th>14</th>\n",
              "      <td>14610</td>\n",
              "    </tr>\n",
              "    <tr>\n",
              "      <th>8</th>\n",
              "      <td>12285</td>\n",
              "    </tr>\n",
              "    <tr>\n",
              "      <th>15</th>\n",
              "      <td>10768</td>\n",
              "    </tr>\n",
              "    <tr>\n",
              "      <th>7</th>\n",
              "      <td>7464</td>\n",
              "    </tr>\n",
              "    <tr>\n",
              "      <th>16</th>\n",
              "      <td>7429</td>\n",
              "    </tr>\n",
              "    <tr>\n",
              "      <th>17</th>\n",
              "      <td>5202</td>\n",
              "    </tr>\n",
              "    <tr>\n",
              "      <th>6</th>\n",
              "      <td>3353</td>\n",
              "    </tr>\n",
              "    <tr>\n",
              "      <th>18</th>\n",
              "      <td>3344</td>\n",
              "    </tr>\n",
              "    <tr>\n",
              "      <th>19</th>\n",
              "      <td>2480</td>\n",
              "    </tr>\n",
              "    <tr>\n",
              "      <th>20</th>\n",
              "      <td>1281</td>\n",
              "    </tr>\n",
              "    <tr>\n",
              "      <th>5</th>\n",
              "      <td>1146</td>\n",
              "    </tr>\n",
              "    <tr>\n",
              "      <th>21</th>\n",
              "      <td>770</td>\n",
              "    </tr>\n",
              "    <tr>\n",
              "      <th>22</th>\n",
              "      <td>759</td>\n",
              "    </tr>\n",
              "    <tr>\n",
              "      <th>23</th>\n",
              "      <td>264</td>\n",
              "    </tr>\n",
              "    <tr>\n",
              "      <th>4</th>\n",
              "      <td>215</td>\n",
              "    </tr>\n",
              "    <tr>\n",
              "      <th>24</th>\n",
              "      <td>200</td>\n",
              "    </tr>\n",
              "    <tr>\n",
              "      <th>25</th>\n",
              "      <td>182</td>\n",
              "    </tr>\n",
              "    <tr>\n",
              "      <th>26</th>\n",
              "      <td>81</td>\n",
              "    </tr>\n",
              "    <tr>\n",
              "      <th>28</th>\n",
              "      <td>58</td>\n",
              "    </tr>\n",
              "    <tr>\n",
              "      <th>3</th>\n",
              "      <td>32</td>\n",
              "    </tr>\n",
              "    <tr>\n",
              "      <th>30</th>\n",
              "      <td>31</td>\n",
              "    </tr>\n",
              "    <tr>\n",
              "      <th>27</th>\n",
              "      <td>28</td>\n",
              "    </tr>\n",
              "  </tbody>\n",
              "</table>\n",
              "</div><br><label><b>dtype:</b> int64</label>"
            ]
          },
          "metadata": {},
          "execution_count": 89
        }
      ]
    },
    {
      "cell_type": "code",
      "source": [
        "# Check distributuion for total_lines\n",
        "plt.hist(train_df['total_lines'])\n",
        "plt.show()"
      ],
      "metadata": {
        "colab": {
          "base_uri": "https://localhost:8080/",
          "height": 431
        },
        "id": "q_rkR_H84Vou",
        "outputId": "4f5826a8-447a-42e8-fbd0-61c22b2d6d4e"
      },
      "execution_count": 90,
      "outputs": [
        {
          "output_type": "display_data",
          "data": {
            "text/plain": [
              "<Figure size 640x480 with 1 Axes>"
            ],
            "image/png": "[encoded data removed]"
          },
          "metadata": {}
        }
      ]
    },
    {
      "cell_type": "code",
      "source": [
        "# Check the covrage of a total_lines value of 20\n",
        "np.percentile(train_df['total_lines'],98)\n"
      ],
      "metadata": {
        "colab": {
          "base_uri": "https://localhost:8080/"
        },
        "id": "cf3U0tFe4Zgi",
        "outputId": "5e43cc58-6568-40f0-b666-a07563f2438a"
      },
      "execution_count": 91,
      "outputs": [
        {
          "output_type": "execute_result",
          "data": {
            "text/plain": [
              "20.0"
            ]
          },
          "metadata": {},
          "execution_count": 91
        }
      ]
    },
    {
      "cell_type": "code",
      "source": [
        "# Use tensorflow to do one hot encoding tensors of our total_lines features\n",
        "train_total_lines_one_hot = tf.one_hot(train_df['total_lines'].to_numpy(),depth=20)\n",
        "val_total_lines_one_hot = tf.one_hot(val_df['total_lines'].to_numpy(),depth=20)\n",
        "train_total_lines_one_hot , train_total_lines_one_hot.shape"
      ],
      "metadata": {
        "colab": {
          "base_uri": "https://localhost:8080/"
        },
        "id": "gPnIjLBY44ot",
        "outputId": "f1cad060-6d6d-4753-afc8-d72fbc51b638"
      },
      "execution_count": 92,
      "outputs": [
        {
          "output_type": "execute_result",
          "data": {
            "text/plain": [
              "(<tf.Tensor: shape=(180040, 20), dtype=float32, numpy=\n",
              " array([[0., 0., 0., ..., 0., 0., 0.],\n",
              "        [0., 0., 0., ..., 0., 0., 0.],\n",
              "        [0., 0., 0., ..., 0., 0., 0.],\n",
              "        ...,\n",
              "        [0., 0., 0., ..., 0., 0., 0.],\n",
              "        [0., 0., 0., ..., 0., 0., 0.],\n",
              "        [0., 0., 0., ..., 0., 0., 0.]], dtype=float32)>,\n",
              " TensorShape([180040, 20]))"
            ]
          },
          "metadata": {},
          "execution_count": 92
        }
      ]
    },
    {
      "cell_type": "markdown",
      "source": [
        "# Building a tribid embedding model 5\n",
        "\n",
        "1. Create a token-level model\n",
        "2. create a character-level model\n",
        "3. create a model for line number\n",
        "4. create a model for total_lines\n",
        "5. combine the outputs of 1 & 2 using tf.keras.concatenate\n",
        "6. combine the outputs of 3 & 4 & 5 using tf.keras.concatenate\n",
        "7. create an output layer to accept the tribried embedding and output labels probapilities\n",
        "8. combine the inputs of 1,2,3,4 and the output of into tf.keras.model"
      ],
      "metadata": {
        "id": "wlDJ5vgdJNKH"
      }
    },
    {
      "cell_type": "code",
      "source": [
        "train_lines_numbers_one_hot.shape, train_total_lines_one_hot.shape"
      ],
      "metadata": {
        "colab": {
          "base_uri": "https://localhost:8080/"
        },
        "id": "owVltHPUM00Y",
        "outputId": "dfc494e0-8c8d-4662-fc7d-e55ba744591e"
      },
      "execution_count": 93,
      "outputs": [
        {
          "output_type": "execute_result",
          "data": {
            "text/plain": [
              "(TensorShape([180040, 15]), TensorShape([180040, 20]))"
            ]
          },
          "metadata": {},
          "execution_count": 93
        }
      ]
    },
    {
      "cell_type": "code",
      "source": [
        "train_lines_numbers_one_hot.dtype, train_total_lines_one_hot.dtype"
      ],
      "metadata": {
        "colab": {
          "base_uri": "https://localhost:8080/"
        },
        "id": "f3p_QAR4M_W-",
        "outputId": "6b45456a-9584-469c-8e20-b6e0b2c6af75"
      },
      "execution_count": 94,
      "outputs": [
        {
          "output_type": "execute_result",
          "data": {
            "text/plain": [
              "(tf.float32, tf.float32)"
            ]
          },
          "metadata": {},
          "execution_count": 94
        }
      ]
    },
    {
      "cell_type": "code",
      "source": [
        "# 1. Create the token-level model\n",
        "# Input layer for token-based data (e.g., words or phrases as strings)\n",
        "token_inputs = layers.Input(shape=[], dtype=tf.string, name='token_input_layer')\n",
        "# Pass token inputs through a pre-trained embedding layer from TensorFlow Hub\n",
        "embedding_layer = tf_hub_embedding_layer(token_inputs)\n",
        "# Create the token-level model\n",
        "token_model = tf.keras.Model(inputs=token_inputs, outputs=embedding_layer, name='token_model')\n",
        "\n",
        "# 2. Create the character-level model\n",
        "# Input layer for character-based data (e.g., single characters)\n",
        "char_inputs = layers.Input(shape=(1,), dtype=tf.string, name='char_input_layer')\n",
        "# Vectorize the character inputs into numerical form\n",
        "char_vectorizer_layer = char_vectorizer(char_inputs)\n",
        "# Embed the character vectors\n",
        "char_embedding_layer = char_embedding(char_vectorizer_layer)\n",
        "# Apply a Bidirectional LSTM layer for sequence modeling\n",
        "char_bi_lstm = layers.Bidirectional(layers.LSTM(24), name='char_bi_lstm_layer')(char_embedding_layer)\n",
        "# Create the character-level model\n",
        "char_model = tf.keras.Model(inputs=char_inputs, outputs=char_bi_lstm, name='char_model')\n",
        "\n",
        "# 3. Create the line number model\n",
        "# Input layer for line number data (e.g., normalized line indices in a document)\n",
        "line_number_input = layers.Input(shape=(15,), dtype=tf.float32, name='line_number_input')\n",
        "# Dense layer to process line number inputs\n",
        "line_number_output = layers.Dense(15, activation='relu', name='line_number_dense_layer')(line_number_input)\n",
        "# Create the line number model\n",
        "line_number_model = tf.keras.Model(inputs=line_number_input, outputs=line_number_output, name='line_number_model')\n",
        "\n",
        "# 4. Create the total lines model\n",
        "# Input layer for total lines data (e.g., normalized total line count in a document)\n",
        "total_lines_input = layers.Input(shape=(20,), dtype=tf.float32, name='total_lines_input')\n",
        "# Dense layer to process total lines inputs\n",
        "total_lines_output = layers.Dense(32, activation='relu', name='total_lines_dense_layer')(total_lines_input)\n",
        "# Create the total lines model\n",
        "total_lines_model = tf.keras.Model(inputs=total_lines_input, outputs=total_lines_output, name='total_lines_model')\n",
        "\n",
        "# 5. Combine token and character models\n",
        "# Concatenate the outputs of the token and character-level models\n",
        "token_char_concat = layers.Concatenate(name='token_char_hybrid_layer')([token_model.output, char_model.output])\n",
        "# Dense layer to process combined token-character embeddings\n",
        "x = layers.Dense(256, activation='relu', name='dense_combined_token_char')(token_char_concat)\n",
        "# Dropout layer to prevent overfitting\n",
        "dropout_layer = layers.Dropout(0.5, name='dropout_layer')(x)\n",
        "\n",
        "# 6. Combine all embeddings\n",
        "# Concatenate the outputs of the line number, total lines, and token-character hybrid embeddings\n",
        "tribrid_embedding = layers.Concatenate(name='tribrid_embedding_layer')([line_number_model.output, total_lines_model.output, dropout_layer])\n",
        "\n",
        "# 7. Create the output layer\n",
        "# Output layer with a softmax activation for multi-class classification\n",
        "output_layer = layers.Dense(num_clases, activation='softmax', name='output_layer')(tribrid_embedding)\n",
        "\n",
        "# 8. Create the final tribrid model\n",
        "# Combine all inputs and the output layer into a single Keras model\n",
        "model_5 = tf.keras.Model(\n",
        "    inputs=[token_model.input, char_model.input, line_number_model.input, total_lines_model.input],\n",
        "    outputs=output_layer,\n",
        "    name='model_5_tribrid'  # Name for the final model\n",
        ")\n"
      ],
      "metadata": {
        "id": "KdYe1fs15SeH"
      },
      "execution_count": 104,
      "outputs": []
    },
    {
      "cell_type": "code",
      "source": [
        "# get summary for tribrid hypried model\n",
        "model_5.summary()"
      ],
      "metadata": {
        "colab": {
          "base_uri": "https://localhost:8080/"
        },
        "id": "P1-u2eTbPTE-",
        "outputId": "a5b1447a-03b0-43a5-95ee-fe23a05f4522"
      },
      "execution_count": 105,
      "outputs": [
        {
          "output_type": "stream",
          "name": "stdout",
          "text": [
            "Model: \"model_5_tribrid\"\n",
            "__________________________________________________________________________________________________\n",
            " Layer (type)                   Output Shape         Param #     Connected to                     \n",
            "==================================================================================================\n",
            " char_input_layer (InputLayer)  [(None, 1)]          0           []                               \n",
            "                                                                                                  \n",
            " char_vectorizer (TextVectoriza  (None, 579)         0           ['char_input_layer[0][0]']       \n",
            " tion)                                                                                            \n",
            "                                                                                                  \n",
            " token_input_layer (InputLayer)  [(None,)]           0           []                               \n",
            "                                                                                                  \n",
            " char_embedding (Embedding)     (None, 579, 25)      1750        ['char_vectorizer[5][0]']        \n",
            "                                                                                                  \n",
            " universal_sentence_encoder (Ke  (None, 512)         256797824   ['token_input_layer[0][0]']      \n",
            " rasLayer)                                                                                        \n",
            "                                                                                                  \n",
            " char_bi_lstm_layer (Bidirectio  (None, 48)          9600        ['char_embedding[5][0]']         \n",
            " nal)                                                                                             \n",
            "                                                                                                  \n",
            " token_char_hybrid_layer (Conca  (None, 560)         0           ['universal_sentence_encoder[5][0\n",
            " tenate)                                                         ]',                              \n",
            "                                                                  'char_bi_lstm_layer[0][0]']     \n",
            "                                                                                                  \n",
            " line_number_input (InputLayer)  [(None, 15)]        0           []                               \n",
            "                                                                                                  \n",
            " total_lines_input (InputLayer)  [(None, 20)]        0           []                               \n",
            "                                                                                                  \n",
            " dense_combined_token_char (Den  (None, 256)         143616      ['token_char_hybrid_layer[0][0]']\n",
            " se)                                                                                              \n",
            "                                                                                                  \n",
            " line_number_dense_layer (Dense  (None, 15)          240         ['line_number_input[0][0]']      \n",
            " )                                                                                                \n",
            "                                                                                                  \n",
            " total_lines_dense_layer (Dense  (None, 32)          672         ['total_lines_input[0][0]']      \n",
            " )                                                                                                \n",
            "                                                                                                  \n",
            " dropout_layer (Dropout)        (None, 256)          0           ['dense_combined_token_char[0][0]\n",
            "                                                                 ']                               \n",
            "                                                                                                  \n",
            " tribrid_embedding_layer (Conca  (None, 303)         0           ['line_number_dense_layer[0][0]',\n",
            " tenate)                                                          'total_lines_dense_layer[0][0]',\n",
            "                                                                  'dropout_layer[0][0]']          \n",
            "                                                                                                  \n",
            " output_layer (Dense)           (None, 5)            1520        ['tribrid_embedding_layer[0][0]']\n",
            "                                                                                                  \n",
            "==================================================================================================\n",
            "Total params: 256,955,222\n",
            "Trainable params: 157,398\n",
            "Non-trainable params: 256,797,824\n",
            "__________________________________________________________________________________________________\n"
          ]
        }
      ]
    },
    {
      "cell_type": "code",
      "source": [
        "# plot the tribrid model\n",
        "from tensorflow.keras.utils import plot_model\n",
        "plot_model(model_5,show_shapes=True)\n"
      ],
      "metadata": {
        "colab": {
          "base_uri": "https://localhost:8080/",
          "height": 976
        },
        "id": "Ue-gsyqXPs3N",
        "outputId": "79a674f3-b957-434e-8c04-3e013aa895a0"
      },
      "execution_count": 106,
      "outputs": [
        {
          "output_type": "execute_result",
          "data": {
            "image/png": "[encoded data removed]",
            "text/plain": [
              "<IPython.core.display.Image object>"
            ]
          },
          "metadata": {},
          "execution_count": 106
        }
      ]
    },
    {
      "cell_type": "code",
      "source": [
        "# Compile the model with the following configurations:\n",
        "# - Loss: CategoricalCrossentropy with label smoothing set to 0.2, which helps reduce overconfidence by softening the one-hot encoded labels.\n",
        "# - Optimizer: Adam optimizer, known for its adaptability and efficiency in training deep learning models.\n",
        "# - Metrics: Track 'accuracy' during training and evaluation to monitor the performance of the model.\n",
        "model_5.compile(\n",
        "    loss=losses.CategoricalCrossentropy(label_smoothing=0.2),\n",
        "    optimizer=tf.keras.optimizers.Adam(),\n",
        "    metrics=['accuracy']\n",
        ")\n"
      ],
      "metadata": {
        "id": "9KJL-eJqPypo"
      },
      "execution_count": 107,
      "outputs": []
    },
    {
      "cell_type": "code",
      "source": [
        "# Create the tribrid dataset for training\n",
        "# - Step 1: Combine all input features (token-level sentences, character-level sentences,\n",
        "#           one-hot encoded line numbers, and one-hot encoded total lines) into a tf.data.Dataset.\n",
        "train_tribrid_data = tf.data.Dataset.from_tensor_slices((\n",
        "    train_sentences,  # Token-level sentence inputs\n",
        "    train_chars,      # Character-level sentence inputs\n",
        "    train_lines_numbers_one_hot,  # One-hot encoded line numbers\n",
        "    train_total_lines_one_hot     # One-hot encoded total lines\n",
        "))\n",
        "\n",
        "# - Step 2: Create a tf.data.Dataset for the corresponding one-hot encoded labels.\n",
        "train_tribrid_labels = tf.data.Dataset.from_tensor_slices(train_labels_one_hot)\n",
        "\n",
        "# - Step 3: Zip the input features dataset and the labels dataset together.\n",
        "train_tribrid_dataset = tf.data.Dataset.zip((train_tribrid_data, train_tribrid_labels))\n",
        "\n",
        "# - Step 4: Batch the dataset with a batch size of 32 and use prefetching to optimize data loading.\n",
        "train_tribrid_dataset = train_tribrid_dataset.batch(32).prefetch(tf.data.AUTOTUNE)\n",
        "\n",
        "\n",
        "# Create the tribrid dataset for validation (similar steps as training data)\n",
        "# - Combine validation features into a tf.data.Dataset.\n",
        "val_tribrid_data = tf.data.Dataset.from_tensor_slices((\n",
        "    val_sentences,  # Token-level sentence inputs\n",
        "    val_chars,      # Character-level sentence inputs\n",
        "    val_lines_numbers_one_hot,  # One-hot encoded line numbers\n",
        "    val_total_lines_one_hot     # One-hot encoded total lines\n",
        "))\n",
        "\n",
        "# - Create a tf.data.Dataset for the corresponding validation labels.\n",
        "val_tribrid_labels = tf.data.Dataset.from_tensor_slices(val_labels_one_hot)\n",
        "\n",
        "# - Zip the validation features dataset and the labels dataset together.\n",
        "val_tribrid_dataset = tf.data.Dataset.zip((val_tribrid_data, val_tribrid_labels))\n",
        "\n",
        "# - Batch the validation dataset and enable prefetching for optimization.\n",
        "val_tribrid_dataset = val_tribrid_dataset.batch(32).prefetch(tf.data.AUTOTUNE)\n"
      ],
      "metadata": {
        "id": "31YbPmy7aXNJ"
      },
      "execution_count": 110,
      "outputs": []
    },
    {
      "cell_type": "code",
      "source": [
        "# Chek input shapes\n",
        "train_tribrid_dataset,val_tribrid_dataset"
      ],
      "metadata": {
        "colab": {
          "base_uri": "https://localhost:8080/"
        },
        "id": "n_6fgzUWaJDJ",
        "outputId": "5ecb99bd-3288-49fb-9e91-1a2aa03a568b"
      },
      "execution_count": 111,
      "outputs": [
        {
          "output_type": "execute_result",
          "data": {
            "text/plain": [
              "(<_PrefetchDataset element_spec=((TensorSpec(shape=(None,), dtype=tf.string, name=None), TensorSpec(shape=(None,), dtype=tf.string, name=None), TensorSpec(shape=(None, 15), dtype=tf.float32, name=None), TensorSpec(shape=(None, 20), dtype=tf.float32, name=None)), TensorSpec(shape=(None, 5), dtype=tf.float64, name=None))>,\n",
              " <_PrefetchDataset element_spec=((TensorSpec(shape=(None,), dtype=tf.string, name=None), TensorSpec(shape=(None,), dtype=tf.string, name=None), TensorSpec(shape=(None, 15), dtype=tf.float32, name=None), TensorSpec(shape=(None, 20), dtype=tf.float32, name=None)), TensorSpec(shape=(None, 5), dtype=tf.float64, name=None))>)"
            ]
          },
          "metadata": {},
          "execution_count": 111
        }
      ]
    },
    {
      "cell_type": "markdown",
      "source": [
        "## Fit model 5 to the data"
      ],
      "metadata": {
        "id": "IdPn2wKwdDbN"
      }
    },
    {
      "cell_type": "code",
      "source": [
        "# fit\n",
        "model_5_history = model_5.fit(\n",
        "    train_tribrid_dataset,\n",
        "    steps_per_epoch=int(0.1 * len(train_tribrid_dataset)),\n",
        "    epochs=3,\n",
        "    validation_data=val_tribrid_dataset\n",
        ")"
      ],
      "metadata": {
        "colab": {
          "base_uri": "https://localhost:8080/"
        },
        "id": "rFka8IOrczlS",
        "outputId": "cf1a7e89-4d92-4c3a-9d61-32760205f009"
      },
      "execution_count": 112,
      "outputs": [
        {
          "output_type": "stream",
          "name": "stdout",
          "text": [
            "Epoch 1/3\n",
            "562/562 [==============================] - 595s 1s/step - loss: 1.1329 - accuracy: 0.7038 - val_loss: 1.0159 - val_accuracy: 0.7826\n",
            "Epoch 2/3\n",
            "562/562 [==============================] - 578s 1s/step - loss: 0.9894 - accuracy: 0.8045 - val_loss: 0.9693 - val_accuracy: 0.8137\n",
            "Epoch 3/3\n",
            "562/562 [==============================] - 563s 1s/step - loss: 0.9680 - accuracy: 0.8151 - val_loss: 0.9524 - val_accuracy: 0.8264\n"
          ]
        }
      ]
    },
    {
      "cell_type": "code",
      "source": [
        "model_5.evaluate(val_tribrid_dataset)"
      ],
      "metadata": {
        "colab": {
          "base_uri": "https://localhost:8080/"
        },
        "id": "ag3M_ItsdMif",
        "outputId": "1dee3b56-e390-4452-d2e2-435515416263"
      },
      "execution_count": 113,
      "outputs": [
        {
          "output_type": "stream",
          "name": "stdout",
          "text": [
            "945/945 [==============================] - 172s 182ms/step - loss: 0.9524 - accuracy: 0.8264\n"
          ]
        },
        {
          "output_type": "execute_result",
          "data": {
            "text/plain": [
              "[0.9523976445198059, 0.8263934850692749]"
            ]
          },
          "metadata": {},
          "execution_count": 113
        }
      ]
    },
    {
      "cell_type": "code",
      "source": [
        "model_5_pred = model_5.predict(val_tribrid_dataset)\n",
        "model_5_pred"
      ],
      "metadata": {
        "colab": {
          "base_uri": "https://localhost:8080/"
        },
        "id": "ZJTO680ekmnn",
        "outputId": "88b14343-cec1-4250-968d-b163ab7f60c9"
      },
      "execution_count": 114,
      "outputs": [
        {
          "output_type": "stream",
          "name": "stdout",
          "text": [
            "945/945 [==============================] - 172s 177ms/step\n"
          ]
        },
        {
          "output_type": "execute_result",
          "data": {
            "text/plain": [
              "array([[0.53154063, 0.10860974, 0.01268396, 0.32340297, 0.02376272],\n",
              "       [0.56000155, 0.10671785, 0.03291172, 0.2912161 , 0.00915282],\n",
              "       [0.28942397, 0.14343055, 0.10720347, 0.39537063, 0.06457128],\n",
              "       ...,\n",
              "       [0.03403063, 0.12007011, 0.04245291, 0.02694584, 0.7765005 ],\n",
              "       [0.02929389, 0.302326  , 0.08926666, 0.02460221, 0.5545112 ],\n",
              "       [0.13881102, 0.55957305, 0.17434779, 0.03757245, 0.08969571]],\n",
              "      dtype=float32)"
            ]
          },
          "metadata": {},
          "execution_count": 114
        }
      ]
    },
    {
      "cell_type": "code",
      "source": [
        "model_5_pred = tf.argmax(model_5_pred, axis=1)\n",
        "model_5_pred"
      ],
      "metadata": {
        "colab": {
          "base_uri": "https://localhost:8080/"
        },
        "id": "f8iFRlLmkrjB",
        "outputId": "1cadfc6b-2b0c-4dbc-eb63-a78fe15874f0"
      },
      "execution_count": 115,
      "outputs": [
        {
          "output_type": "execute_result",
          "data": {
            "text/plain": [
              "<tf.Tensor: shape=(30212,), dtype=int64, numpy=array([0, 0, 3, ..., 4, 4, 1])>"
            ]
          },
          "metadata": {},
          "execution_count": 115
        }
      ]
    },
    {
      "cell_type": "code",
      "source": [
        "model_5_results = calculate_results(val_labels, model_5_pred)\n",
        "model_5_results"
      ],
      "metadata": {
        "colab": {
          "base_uri": "https://localhost:8080/"
        },
        "id": "WIY7upFikvfy",
        "outputId": "d1aef61e-df10-4213-ed52-1220d5c66bb4"
      },
      "execution_count": 116,
      "outputs": [
        {
          "output_type": "execute_result",
          "data": {
            "text/plain": [
              "{'accuracy': 82.63934860320403,\n",
              " 'precision': 0.8247754791228208,\n",
              " 'recall': 0.8263934860320402,\n",
              " 'f1': 0.8251589989152435}"
            ]
          },
          "metadata": {},
          "execution_count": 116
        }
      ]
    },
    {
      "cell_type": "markdown",
      "source": [
        "# Comparing the 5 models"
      ],
      "metadata": {
        "id": "9LiQ1NhUl3zq"
      }
    },
    {
      "cell_type": "code",
      "source": [
        "# Combine model results in one dataframe\n",
        "all_models_results = pd.DataFrame({'base_model':model_0_pred_results,\n",
        "                                   'custom_token_embed_conv1d':model_1_results,\n",
        "                                   'pretrained_token_embed':model_2_results,\n",
        "                                   'custom_char_embed_conv1d':model_3_results,\n",
        "                                   'hybrid_char_token_embed':model_4_results,\n",
        "                                   'tribrid_pos_char_token_embed':model_5_results})\n",
        "all_models_results = all_models_results.transpose()\n",
        "# Reduce the accurcy to same scale as other metrics\n",
        "all_models_results['accuracy'] = all_models_results['accuracy'] / 100\n",
        "\n",
        "all_models_results"
      ],
      "metadata": {
        "colab": {
          "base_uri": "https://localhost:8080/",
          "height": 238
        },
        "id": "JBgG-VIKk0Zg",
        "outputId": "3d25e375-f9f8-4c18-bff7-a6c1fc2abd54"
      },
      "execution_count": 123,
      "outputs": [
        {
          "output_type": "execute_result",
          "data": {
            "text/plain": [
              "                              accuracy  precision    recall        f1\n",
              "base_model                    0.721832   0.718647  0.721832  0.698925\n",
              "custom_token_embed_conv1d     0.806203   0.804220  0.806203  0.805080\n",
              "pretrained_token_embed        0.673706   0.669371  0.673706  0.658068\n",
              "custom_char_embed_conv1d      0.404012   0.355960  0.404012  0.329798\n",
              "hybrid_char_token_embed       0.733516   0.734184  0.733516  0.731404\n",
              "tribrid_pos_char_token_embed  0.826393   0.824775  0.826393  0.825159"
            ],
            "text/html": [
              "\n",
              "  <div id=\"df-1c47ddbc-3422-482e-879c-3f11572259f4\" class=\"colab-df-container\">\n",
              "    <div>\n",
              "<style scoped>\n",
              "    .dataframe tbody tr th:only-of-type {\n",
              "        vertical-align: middle;\n",
              "    }\n",
              "\n",
              "    .dataframe tbody tr th {\n",
              "        vertical-align: top;\n",
              "    }\n",
              "\n",
              "    .dataframe thead th {\n",
              "        text-align: right;\n",
              "    }\n",
              "</style>\n",
              "<table border=\"1\" class=\"dataframe\">\n",
              "  <thead>\n",
              "    <tr style=\"text-align: right;\">\n",
              "      <th></th>\n",
              "      <th>accuracy</th>\n",
              "      <th>precision</th>\n",
              "      <th>recall</th>\n",
              "      <th>f1</th>\n",
              "    </tr>\n",
              "  </thead>\n",
              "  <tbody>\n",
              "    <tr>\n",
              "      <th>base_model</th>\n",
              "      <td>0.721832</td>\n",
              "      <td>0.718647</td>\n",
              "      <td>0.721832</td>\n",
              "      <td>0.698925</td>\n",
              "    </tr>\n",
              "    <tr>\n",
              "      <th>custom_token_embed_conv1d</th>\n",
              "      <td>0.806203</td>\n",
              "      <td>0.804220</td>\n",
              "      <td>0.806203</td>\n",
              "      <td>0.805080</td>\n",
              "    </tr>\n",
              "    <tr>\n",
              "      <th>pretrained_token_embed</th>\n",
              "      <td>0.673706</td>\n",
              "      <td>0.669371</td>\n",
              "      <td>0.673706</td>\n",
              "      <td>0.658068</td>\n",
              "    </tr>\n",
              "    <tr>\n",
              "      <th>custom_char_embed_conv1d</th>\n",
              "      <td>0.404012</td>\n",
              "      <td>0.355960</td>\n",
              "      <td>0.404012</td>\n",
              "      <td>0.329798</td>\n",
              "    </tr>\n",
              "    <tr>\n",
              "      <th>hybrid_char_token_embed</th>\n",
              "      <td>0.733516</td>\n",
              "      <td>0.734184</td>\n",
              "      <td>0.733516</td>\n",
              "      <td>0.731404</td>\n",
              "    </tr>\n",
              "    <tr>\n",
              "      <th>tribrid_pos_char_token_embed</th>\n",
              "      <td>0.826393</td>\n",
              "      <td>0.824775</td>\n",
              "      <td>0.826393</td>\n",
              "      <td>0.825159</td>\n",
              "    </tr>\n",
              "  </tbody>\n",
              "</table>\n",
              "</div>\n",
              "    <div class=\"colab-df-buttons\">\n",
              "\n",
              "  <div class=\"colab-df-container\">\n",
              "    <button class=\"colab-df-convert\" onclick=\"convertToInteractive('df-1c47ddbc-3422-482e-879c-3f11572259f4')\"\n",
              "            title=\"Convert this dataframe to an interactive table.\"\n",
              "            style=\"display:none;\">\n",
              "\n",
              "  <svg xmlns=\"http://www.w3.org/2000/svg\" height=\"24px\" viewBox=\"0 -960 960 960\">\n",
              "    <path d=\"M120-120v-720h720v720H120Zm60-500h600v-160H180v160Zm220 220h160v-160H400v160Zm0 220h160v-160H400v160ZM180-400h160v-160H180v160Zm440 0h160v-160H620v160ZM180-180h160v-160H180v160Zm440 0h160v-160H620v160Z\"/>\n",
              "  </svg>\n",
              "    </button>\n",
              "\n",
              "  <style>\n",
              "    .colab-df-container {\n",
              "      display:flex;\n",
              "      gap: 12px;\n",
              "    }\n",
              "\n",
              "    .colab-df-convert {\n",
              "      background-color: #E8F0FE;\n",
              "      border: none;\n",
              "      border-radius: 50%;\n",
              "      cursor: pointer;\n",
              "      display: none;\n",
              "      fill: #1967D2;\n",
              "      height: 32px;\n",
              "      padding: 0 0 0 0;\n",
              "      width: 32px;\n",
              "    }\n",
              "\n",
              "    .colab-df-convert:hover {\n",
              "      background-color: #E2EBFA;\n",
              "      box-shadow: 0px 1px 2px rgba(60, 64, 67, 0.3), 0px 1px 3px 1px rgba(60, 64, 67, 0.15);\n",
              "      fill: #174EA6;\n",
              "    }\n",
              "\n",
              "    .colab-df-buttons div {\n",
              "      margin-bottom: 4px;\n",
              "    }\n",
              "\n",
              "    [theme=dark] .colab-df-convert {\n",
              "      background-color: #3B4455;\n",
              "      fill: #D2E3FC;\n",
              "    }\n",
              "\n",
              "    [theme=dark] .colab-df-convert:hover {\n",
              "      background-color: #434B5C;\n",
              "      box-shadow: 0px 1px 3px 1px rgba(0, 0, 0, 0.15);\n",
              "      filter: drop-shadow(0px 1px 2px rgba(0, 0, 0, 0.3));\n",
              "      fill: #FFFFFF;\n",
              "    }\n",
              "  </style>\n",
              "\n",
              "    <script>\n",
              "      const buttonEl =\n",
              "        document.querySelector('#df-1c47ddbc-3422-482e-879c-3f11572259f4 button.colab-df-convert');\n",
              "      buttonEl.style.display =\n",
              "        google.colab.kernel.accessAllowed ? 'block' : 'none';\n",
              "\n",
              "      async function convertToInteractive(key) {\n",
              "        const element = document.querySelector('#df-1c47ddbc-3422-482e-879c-3f11572259f4');\n",
              "        const dataTable =\n",
              "          await google.colab.kernel.invokeFunction('convertToInteractive',\n",
              "                                                    [key], {});\n",
              "        if (!dataTable) return;\n",
              "\n",
              "        const docLinkHtml = 'Like what you see? Visit the ' +\n",
              "          '<a target=\"_blank\" href=https://colab.research.google.com/notebooks/data_table.ipynb>data table notebook</a>'\n",
              "          + ' to learn more about interactive tables.';\n",
              "        element.innerHTML = '';\n",
              "        dataTable['output_type'] = 'display_data';\n",
              "        await google.colab.output.renderOutput(dataTable, element);\n",
              "        const docLink = document.createElement('div');\n",
              "        docLink.innerHTML = docLinkHtml;\n",
              "        element.appendChild(docLink);\n",
              "      }\n",
              "    </script>\n",
              "  </div>\n",
              "\n",
              "\n",
              "<div id=\"df-e18793ce-f975-4393-a320-257e23a58e76\">\n",
              "  <button class=\"colab-df-quickchart\" onclick=\"quickchart('df-e18793ce-f975-4393-a320-257e23a58e76')\"\n",
              "            title=\"Suggest charts\"\n",
              "            style=\"display:none;\">\n",
              "\n",
              "<svg xmlns=\"http://www.w3.org/2000/svg\" height=\"24px\"viewBox=\"0 0 24 24\"\n",
              "     width=\"24px\">\n",
              "    <g>\n",
              "        <path d=\"M19 3H5c-1.1 0-2 .9-2 2v14c0 1.1.9 2 2 2h14c1.1 0 2-.9 2-2V5c0-1.1-.9-2-2-2zM9 17H7v-7h2v7zm4 0h-2V7h2v10zm4 0h-2v-4h2v4z\"/>\n",
              "    </g>\n",
              "</svg>\n",
              "  </button>\n",
              "\n",
              "<style>\n",
              "  .colab-df-quickchart {\n",
              "      --bg-color: #E8F0FE;\n",
              "      --fill-color: #1967D2;\n",
              "      --hover-bg-color: #E2EBFA;\n",
              "      --hover-fill-color: #174EA6;\n",
              "      --disabled-fill-color: #AAA;\n",
              "      --disabled-bg-color: #DDD;\n",
              "  }\n",
              "\n",
              "  [theme=dark] .colab-df-quickchart {\n",
              "      --bg-color: #3B4455;\n",
              "      --fill-color: #D2E3FC;\n",
              "      --hover-bg-color: #434B5C;\n",
              "      --hover-fill-color: #FFFFFF;\n",
              "      --disabled-bg-color: #3B4455;\n",
              "      --disabled-fill-color: #666;\n",
              "  }\n",
              "\n",
              "  .colab-df-quickchart {\n",
              "    background-color: var(--bg-color);\n",
              "    border: none;\n",
              "    border-radius: 50%;\n",
              "    cursor: pointer;\n",
              "    display: none;\n",
              "    fill: var(--fill-color);\n",
              "    height: 32px;\n",
              "    padding: 0;\n",
              "    width: 32px;\n",
              "  }\n",
              "\n",
              "  .colab-df-quickchart:hover {\n",
              "    background-color: var(--hover-bg-color);\n",
              "    box-shadow: 0 1px 2px rgba(60, 64, 67, 0.3), 0 1px 3px 1px rgba(60, 64, 67, 0.15);\n",
              "    fill: var(--button-hover-fill-color);\n",
              "  }\n",
              "\n",
              "  .colab-df-quickchart-complete:disabled,\n",
              "  .colab-df-quickchart-complete:disabled:hover {\n",
              "    background-color: var(--disabled-bg-color);\n",
              "    fill: var(--disabled-fill-color);\n",
              "    box-shadow: none;\n",
              "  }\n",
              "\n",
              "  .colab-df-spinner {\n",
              "    border: 2px solid var(--fill-color);\n",
              "    border-color: transparent;\n",
              "    border-bottom-color: var(--fill-color);\n",
              "    animation:\n",
              "      spin 1s steps(1) infinite;\n",
              "  }\n",
              "\n",
              "  @keyframes spin {\n",
              "    0% {\n",
              "      border-color: transparent;\n",
              "      border-bottom-color: var(--fill-color);\n",
              "      border-left-color: var(--fill-color);\n",
              "    }\n",
              "    20% {\n",
              "      border-color: transparent;\n",
              "      border-left-color: var(--fill-color);\n",
              "      border-top-color: var(--fill-color);\n",
              "    }\n",
              "    30% {\n",
              "      border-color: transparent;\n",
              "      border-left-color: var(--fill-color);\n",
              "      border-top-color: var(--fill-color);\n",
              "      border-right-color: var(--fill-color);\n",
              "    }\n",
              "    40% {\n",
              "      border-color: transparent;\n",
              "      border-right-color: var(--fill-color);\n",
              "      border-top-color: var(--fill-color);\n",
              "    }\n",
              "    60% {\n",
              "      border-color: transparent;\n",
              "      border-right-color: var(--fill-color);\n",
              "    }\n",
              "    80% {\n",
              "      border-color: transparent;\n",
              "      border-right-color: var(--fill-color);\n",
              "      border-bottom-color: var(--fill-color);\n",
              "    }\n",
              "    90% {\n",
              "      border-color: transparent;\n",
              "      border-bottom-color: var(--fill-color);\n",
              "    }\n",
              "  }\n",
              "</style>\n",
              "\n",
              "  <script>\n",
              "    async function quickchart(key) {\n",
              "      const quickchartButtonEl =\n",
              "        document.querySelector('#' + key + ' button');\n",
              "      quickchartButtonEl.disabled = true;  // To prevent multiple clicks.\n",
              "      quickchartButtonEl.classList.add('colab-df-spinner');\n",
              "      try {\n",
              "        const charts = await google.colab.kernel.invokeFunction(\n",
              "            'suggestCharts', [key], {});\n",
              "      } catch (error) {\n",
              "        console.error('Error during call to suggestCharts:', error);\n",
              "      }\n",
              "      quickchartButtonEl.classList.remove('colab-df-spinner');\n",
              "      quickchartButtonEl.classList.add('colab-df-quickchart-complete');\n",
              "    }\n",
              "    (() => {\n",
              "      let quickchartButtonEl =\n",
              "        document.querySelector('#df-e18793ce-f975-4393-a320-257e23a58e76 button');\n",
              "      quickchartButtonEl.style.display =\n",
              "        google.colab.kernel.accessAllowed ? 'block' : 'none';\n",
              "    })();\n",
              "  </script>\n",
              "</div>\n",
              "\n",
              "  <div id=\"id_de1b7f93-0b58-41ab-9f2c-f3951ccb5e34\">\n",
              "    <style>\n",
              "      .colab-df-generate {\n",
              "        background-color: #E8F0FE;\n",
              "        border: none;\n",
              "        border-radius: 50%;\n",
              "        cursor: pointer;\n",
              "        display: none;\n",
              "        fill: #1967D2;\n",
              "        height: 32px;\n",
              "        padding: 0 0 0 0;\n",
              "        width: 32px;\n",
              "      }\n",
              "\n",
              "      .colab-df-generate:hover {\n",
              "        background-color: #E2EBFA;\n",
              "        box-shadow: 0px 1px 2px rgba(60, 64, 67, 0.3), 0px 1px 3px 1px rgba(60, 64, 67, 0.15);\n",
              "        fill: #174EA6;\n",
              "      }\n",
              "\n",
              "      [theme=dark] .colab-df-generate {\n",
              "        background-color: #3B4455;\n",
              "        fill: #D2E3FC;\n",
              "      }\n",
              "\n",
              "      [theme=dark] .colab-df-generate:hover {\n",
              "        background-color: #434B5C;\n",
              "        box-shadow: 0px 1px 3px 1px rgba(0, 0, 0, 0.15);\n",
              "        filter: drop-shadow(0px 1px 2px rgba(0, 0, 0, 0.3));\n",
              "        fill: #FFFFFF;\n",
              "      }\n",
              "    </style>\n",
              "    <button class=\"colab-df-generate\" onclick=\"generateWithVariable('all_models_results')\"\n",
              "            title=\"Generate code using this dataframe.\"\n",
              "            style=\"display:none;\">\n",
              "\n",
              "  <svg xmlns=\"http://www.w3.org/2000/svg\" height=\"24px\"viewBox=\"0 0 24 24\"\n",
              "       width=\"24px\">\n",
              "    <path d=\"M7,19H8.4L18.45,9,17,7.55,7,17.6ZM5,21V16.75L18.45,3.32a2,2,0,0,1,2.83,0l1.4,1.43a1.91,1.91,0,0,1,.58,1.4,1.91,1.91,0,0,1-.58,1.4L9.25,21ZM18.45,9,17,7.55Zm-12,3A5.31,5.31,0,0,0,4.9,8.1,5.31,5.31,0,0,0,1,6.5,5.31,5.31,0,0,0,4.9,4.9,5.31,5.31,0,0,0,6.5,1,5.31,5.31,0,0,0,8.1,4.9,5.31,5.31,0,0,0,12,6.5,5.46,5.46,0,0,0,6.5,12Z\"/>\n",
              "  </svg>\n",
              "    </button>\n",
              "    <script>\n",
              "      (() => {\n",
              "      const buttonEl =\n",
              "        document.querySelector('#id_de1b7f93-0b58-41ab-9f2c-f3951ccb5e34 button.colab-df-generate');\n",
              "      buttonEl.style.display =\n",
              "        google.colab.kernel.accessAllowed ? 'block' : 'none';\n",
              "\n",
              "      buttonEl.onclick = () => {\n",
              "        google.colab.notebook.generateWithVariable('all_models_results');\n",
              "      }\n",
              "      })();\n",
              "    </script>\n",
              "  </div>\n",
              "\n",
              "    </div>\n",
              "  </div>\n"
            ],
            "application/vnd.google.colaboratory.intrinsic+json": {
              "type": "dataframe",
              "variable_name": "all_models_results",
              "summary": "{\n  \"name\": \"all_models_results\",\n  \"rows\": 6,\n  \"fields\": [\n    {\n      \"column\": \"accuracy\",\n      \"properties\": {\n        \"dtype\": \"number\",\n        \"std\": 0.15294334959049805,\n        \"min\": 0.4040116509996028,\n        \"max\": 0.8263934860320403,\n        \"num_unique_values\": 6,\n        \"samples\": [\n          0.7218323844829869,\n          0.8062028333112672,\n          0.8263934860320403\n        ],\n        \"semantic_type\": \"\",\n        \"description\": \"\"\n      }\n    },\n    {\n      \"column\": \"precision\",\n      \"properties\": {\n        \"dtype\": \"number\",\n        \"std\": 0.17077000669935516,\n        \"min\": 0.3559600888178865,\n        \"max\": 0.8247754791228208,\n        \"num_unique_values\": 6,\n        \"samples\": [\n          0.7186466952323352,\n          0.8042204047717288,\n          0.8247754791228208\n        ],\n        \"semantic_type\": \"\",\n        \"description\": \"\"\n      }\n    },\n    {\n      \"column\": \"recall\",\n      \"properties\": {\n        \"dtype\": \"number\",\n        \"std\": 0.152943349590498,\n        \"min\": 0.4040116509996028,\n        \"max\": 0.8263934860320402,\n        \"num_unique_values\": 6,\n        \"samples\": [\n          0.7218323844829869,\n          0.8062028333112671,\n          0.8263934860320402\n        ],\n        \"semantic_type\": \"\",\n        \"description\": \"\"\n      }\n    },\n    {\n      \"column\": \"f1\",\n      \"properties\": {\n        \"dtype\": \"number\",\n        \"std\": 0.18037342606191234,\n        \"min\": 0.3297981832112441,\n        \"max\": 0.8251589989152435,\n        \"num_unique_values\": 6,\n        \"samples\": [\n          0.6989250353450294,\n          0.8050798849688862,\n          0.8251589989152435\n        ],\n        \"semantic_type\": \"\",\n        \"description\": \"\"\n      }\n    }\n  ]\n}"
            }
          },
          "metadata": {},
          "execution_count": 123
        }
      ]
    },
    {
      "cell_type": "code",
      "source": [
        "# Plot all models\n",
        "all_models_results.plot(kind=\"bar\", figsize=(10, 7)).legend(bbox_to_anchor=(1.0, 1.0));\n"
      ],
      "metadata": {
        "colab": {
          "base_uri": "https://localhost:8080/",
          "height": 798
        },
        "id": "GW2UXeCEnEsK",
        "outputId": "0673b6a1-3f6e-4c9d-cfe6-b45978b9d2ac"
      },
      "execution_count": 126,
      "outputs": [
        {
          "output_type": "display_data",
          "data": {
            "text/plain": [
              "<Figure size 1000x700 with 1 Axes>"
            ],
            "image/png": "[encoded data removed]"
          },
          "metadata": {}
        }
      ]
    },
    {
      "cell_type": "code",
      "source": [
        "# Sort the models by F1-Score\n",
        "all_models_results.sort_values('f1',ascending=False)['f1'].plot(kind='bar',figsize=(10,7))"
      ],
      "metadata": {
        "colab": {
          "base_uri": "https://localhost:8080/",
          "height": 815
        },
        "id": "5VpHrt6qnnO_",
        "outputId": "9a88f9a3-b3ca-4903-db46-c9db65182ef9"
      },
      "execution_count": 130,
      "outputs": [
        {
          "output_type": "execute_result",
          "data": {
            "text/plain": [
              "<Axes: >"
            ]
          },
          "metadata": {},
          "execution_count": 130
        },
        {
          "output_type": "display_data",
          "data": {
            "text/plain": [
              "<Figure size 1000x700 with 1 Axes>"
            ],
            "image/png": "[encoded data removed]"
          },
          "metadata": {}
        }
      ]
    },
    {
      "cell_type": "markdown",
      "source": [
        "# Save and load Model 5"
      ],
      "metadata": {
        "id": "0xfKrN8ipY8K"
      }
    },
    {
      "cell_type": "code",
      "source": [
        "# Save model 5\n",
        "model_5.save('model_5_tribrid')"
      ],
      "metadata": {
        "colab": {
          "base_uri": "https://localhost:8080/"
        },
        "id": "VIs05HVtoLc5",
        "outputId": "594f0fea-6b11-41cc-8d30-fdbb079cf27e"
      },
      "execution_count": 131,
      "outputs": [
        {
          "output_type": "stream",
          "name": "stderr",
          "text": [
            "WARNING:absl:Found untraced functions such as _update_step_xla, lstm_cell_13_layer_call_fn, lstm_cell_13_layer_call_and_return_conditional_losses, lstm_cell_14_layer_call_fn, lstm_cell_14_layer_call_and_return_conditional_losses while saving (showing 5 of 5). These functions will not be directly callable after loading.\n"
          ]
        }
      ]
    },
    {
      "cell_type": "code",
      "source": [
        "#load our model\n",
        "model_5 = tf.keras.models.load_model('model_5_tribrid')"
      ],
      "metadata": {
        "id": "pEm0LRX4ohcg"
      },
      "execution_count": 132,
      "outputs": []
    },
    {
      "cell_type": "markdown",
      "source": [
        "# Final Test"
      ],
      "metadata": {
        "id": "O9bALlrmqOwZ"
      }
    },
    {
      "cell_type": "code",
      "source": [
        "import json\n",
        "# Download and open example abstracts (copy and pasted from PubMed)\n",
        "!wget https://raw.githubusercontent.com/mrdbourke/tensorflow-deep-learning/main/extras/skimlit_example_abstracts.json\n",
        "\n",
        "with open(\"skimlit_example_abstracts.json\", \"r\") as f:\n",
        "  example_abstracts = json.load(f)\n",
        "\n",
        "example_abstracts"
      ],
      "metadata": {
        "colab": {
          "base_uri": "https://localhost:8080/"
        },
        "id": "7awz-saVo3Mb",
        "outputId": "c34acebe-60cb-4bfb-a445-2fe84a3c70cc"
      },
      "execution_count": 133,
      "outputs": [
        {
          "output_type": "stream",
          "name": "stdout",
          "text": [
            "--2024-11-21 16:58:17--  https://raw.githubusercontent.com/mrdbourke/tensorflow-deep-learning/main/extras/skimlit_example_abstracts.json\n",
            "Resolving raw.githubusercontent.com (raw.githubusercontent.com)... 185.199.108.133, 185.199.109.133, 185.199.110.133, ...\n",
            "Connecting to raw.githubusercontent.com (raw.githubusercontent.com)|185.199.108.133|:443... connected.\n",
            "HTTP request sent, awaiting response... 200 OK\n",
            "Length: 6737 (6.6K) [text/plain]\n",
            "Saving to: ‘skimlit_example_abstracts.json’\n",
            "\n",
            "\r          skimlit_e   0%[                    ]       0  --.-KB/s               \rskimlit_example_abs 100%[===================>]   6.58K  --.-KB/s    in 0s      \n",
            "\n",
            "2024-11-21 16:58:18 (48.8 MB/s) - ‘skimlit_example_abstracts.json’ saved [6737/6737]\n",
            "\n"
          ]
        },
        {
          "output_type": "execute_result",
          "data": {
            "text/plain": [
              "[{'abstract': 'This RCT examined the efficacy of a manualized social intervention for children with HFASDs. Participants were randomly assigned to treatment or wait-list conditions. Treatment included instruction and therapeutic activities targeting social skills, face-emotion recognition, interest expansion, and interpretation of non-literal language. A response-cost program was applied to reduce problem behaviors and foster skills acquisition. Significant treatment effects were found for five of seven primary outcome measures (parent ratings and direct child measures). Secondary measures based on staff ratings (treatment group only) corroborated gains reported by parents. High levels of parent, child and staff satisfaction were reported, along with high levels of treatment fidelity. Standardized effect size estimates were primarily in the medium and large ranges and favored the treatment group.',\n",
              "  'source': 'https://pubmed.ncbi.nlm.nih.gov/20232240/',\n",
              "  'details': 'RCT of a manualized social treatment for high-functioning autism spectrum disorders'},\n",
              " {'abstract': \"Postpartum depression (PPD) is the most prevalent mood disorder associated with childbirth. No single cause of PPD has been identified, however the increased risk of nutritional deficiencies incurred through the high nutritional requirements of pregnancy may play a role in the pathology of depressive symptoms. Three nutritional interventions have drawn particular interest as possible non-invasive and cost-effective prevention and/or treatment strategies for PPD; omega-3 (n-3) long chain polyunsaturated fatty acids (LCPUFA), vitamin D and overall diet. We searched for meta-analyses of randomised controlled trials (RCT's) of nutritional interventions during the perinatal period with PPD as an outcome, and checked for any trials published subsequently to the meta-analyses. Fish oil: Eleven RCT's of prenatal fish oil supplementation RCT's show null and positive effects on PPD symptoms. Vitamin D: no relevant RCT's were identified, however seven observational studies of maternal vitamin D levels with PPD outcomes showed inconsistent associations. Diet: Two Australian RCT's with dietary advice interventions in pregnancy had a positive and null result on PPD. With the exception of fish oil, few RCT's with nutritional interventions during pregnancy assess PPD. Further research is needed to determine whether nutritional intervention strategies during pregnancy can protect against symptoms of PPD. Given the prevalence of PPD and ease of administering PPD measures, we recommend future prenatal nutritional RCT's include PPD as an outcome.\",\n",
              "  'source': 'https://pubmed.ncbi.nlm.nih.gov/28012571/',\n",
              "  'details': 'Formatting removed (can be used to compare model to actual example)'},\n",
              " {'abstract': 'Mental illness, including depression, anxiety and bipolar disorder, accounts for a significant proportion of global disability and poses a substantial social, economic and heath burden. Treatment is presently dominated by pharmacotherapy, such as antidepressants, and psychotherapy, such as cognitive behavioural therapy; however, such treatments avert less than half of the disease burden, suggesting that additional strategies are needed to prevent and treat mental disorders. There are now consistent mechanistic, observational and interventional data to suggest diet quality may be a modifiable risk factor for mental illness. This review provides an overview of the nutritional psychiatry field. It includes a discussion of the neurobiological mechanisms likely modulated by diet, the use of dietary and nutraceutical interventions in mental disorders, and recommendations for further research. Potential biological pathways related to mental disorders include inflammation, oxidative stress, the gut microbiome, epigenetic modifications and neuroplasticity. Consistent epidemiological evidence, particularly for depression, suggests an association between measures of diet quality and mental health, across multiple populations and age groups; these do not appear to be explained by other demographic, lifestyle factors or reverse causality. Our recently published intervention trial provides preliminary clinical evidence that dietary interventions in clinically diagnosed populations are feasible and can provide significant clinical benefit. Furthermore, nutraceuticals including n-3 fatty acids, folate, S-adenosylmethionine, N-acetyl cysteine and probiotics, among others, are promising avenues for future research. Continued research is now required to investigate the efficacy of intervention studies in large cohorts and within clinically relevant populations, particularly in patients with schizophrenia, bipolar and anxiety disorders.',\n",
              "  'source': 'https://pubmed.ncbi.nlm.nih.gov/28942748/',\n",
              "  'details': 'Effect of nutrition on mental health'},\n",
              " {'abstract': \"Hepatitis C virus (HCV) and alcoholic liver disease (ALD), either alone or in combination, count for more than two thirds of all liver diseases in the Western world. There is no safe level of drinking in HCV-infected patients and the most effective goal for these patients is total abstinence. Baclofen, a GABA(B) receptor agonist, represents a promising pharmacotherapy for alcohol dependence (AD). Previously, we performed a randomized clinical trial (RCT), which demonstrated the safety and efficacy of baclofen in patients affected by AD and cirrhosis. The goal of this post-hoc analysis was to explore baclofen's effect in a subgroup of alcohol-dependent HCV-infected cirrhotic patients. Any patient with HCV infection was selected for this analysis. Among the 84 subjects randomized in the main trial, 24 alcohol-dependent cirrhotic patients had a HCV infection; 12 received baclofen 10mg t.i.d. and 12 received placebo for 12-weeks. With respect to the placebo group (3/12, 25.0%), a significantly higher number of patients who achieved and maintained total alcohol abstinence was found in the baclofen group (10/12, 83.3%; p=0.0123). Furthermore, in the baclofen group, compared to placebo, there was a significantly higher increase in albumin values from baseline (p=0.0132) and a trend toward a significant reduction in INR levels from baseline (p=0.0716). In conclusion, baclofen was safe and significantly more effective than placebo in promoting alcohol abstinence, and improving some Liver Function Tests (LFTs) (i.e. albumin, INR) in alcohol-dependent HCV-infected cirrhotic patients. Baclofen may represent a clinically relevant alcohol pharmacotherapy for these patients.\",\n",
              "  'source': 'https://pubmed.ncbi.nlm.nih.gov/22244707/',\n",
              "  'details': 'Baclofen promotes alcohol abstinence in alcohol dependent cirrhotic patients with hepatitis C virus (HCV) infection'}]"
            ]
          },
          "metadata": {},
          "execution_count": 133
        }
      ]
    },
    {
      "cell_type": "code",
      "source": [
        "# See what our example abstracts look like\n",
        "abstracts = pd.DataFrame(example_abstracts)\n",
        "abstracts"
      ],
      "metadata": {
        "colab": {
          "base_uri": "https://localhost:8080/",
          "height": 175
        },
        "id": "p7o9GXm0qQap",
        "outputId": "bf86cf79-22e0-451f-af11-5ce2f5d01b85"
      },
      "execution_count": 134,
      "outputs": [
        {
          "output_type": "execute_result",
          "data": {
            "text/plain": [
              "                                            abstract  \\\n",
              "0  This RCT examined the efficacy of a manualized...   \n",
              "1  Postpartum depression (PPD) is the most preval...   \n",
              "2  Mental illness, including depression, anxiety ...   \n",
              "3  Hepatitis C virus (HCV) and alcoholic liver di...   \n",
              "\n",
              "                                      source  \\\n",
              "0  https://pubmed.ncbi.nlm.nih.gov/20232240/   \n",
              "1  https://pubmed.ncbi.nlm.nih.gov/28012571/   \n",
              "2  https://pubmed.ncbi.nlm.nih.gov/28942748/   \n",
              "3  https://pubmed.ncbi.nlm.nih.gov/22244707/   \n",
              "\n",
              "                                             details  \n",
              "0  RCT of a manualized social treatment for high-...  \n",
              "1  Formatting removed (can be used to compare mod...  \n",
              "2               Effect of nutrition on mental health  \n",
              "3  Baclofen promotes alcohol abstinence in alcoho...  "
            ],
            "text/html": [
              "\n",
              "  <div id=\"df-ce5fd772-4e6c-4ab4-bd5a-9c2cccde754d\" class=\"colab-df-container\">\n",
              "    <div>\n",
              "<style scoped>\n",
              "    .dataframe tbody tr th:only-of-type {\n",
              "        vertical-align: middle;\n",
              "    }\n",
              "\n",
              "    .dataframe tbody tr th {\n",
              "        vertical-align: top;\n",
              "    }\n",
              "\n",
              "    .dataframe thead th {\n",
              "        text-align: right;\n",
              "    }\n",
              "</style>\n",
              "<table border=\"1\" class=\"dataframe\">\n",
              "  <thead>\n",
              "    <tr style=\"text-align: right;\">\n",
              "      <th></th>\n",
              "      <th>abstract</th>\n",
              "      <th>source</th>\n",
              "      <th>details</th>\n",
              "    </tr>\n",
              "  </thead>\n",
              "  <tbody>\n",
              "    <tr>\n",
              "      <th>0</th>\n",
              "      <td>This RCT examined the efficacy of a manualized...</td>\n",
              "      <td>https://pubmed.ncbi.nlm.nih.gov/20232240/</td>\n",
              "      <td>RCT of a manualized social treatment for high-...</td>\n",
              "    </tr>\n",
              "    <tr>\n",
              "      <th>1</th>\n",
              "      <td>Postpartum depression (PPD) is the most preval...</td>\n",
              "      <td>https://pubmed.ncbi.nlm.nih.gov/28012571/</td>\n",
              "      <td>Formatting removed (can be used to compare mod...</td>\n",
              "    </tr>\n",
              "    <tr>\n",
              "      <th>2</th>\n",
              "      <td>Mental illness, including depression, anxiety ...</td>\n",
              "      <td>https://pubmed.ncbi.nlm.nih.gov/28942748/</td>\n",
              "      <td>Effect of nutrition on mental health</td>\n",
              "    </tr>\n",
              "    <tr>\n",
              "      <th>3</th>\n",
              "      <td>Hepatitis C virus (HCV) and alcoholic liver di...</td>\n",
              "      <td>https://pubmed.ncbi.nlm.nih.gov/22244707/</td>\n",
              "      <td>Baclofen promotes alcohol abstinence in alcoho...</td>\n",
              "    </tr>\n",
              "  </tbody>\n",
              "</table>\n",
              "</div>\n",
              "    <div class=\"colab-df-buttons\">\n",
              "\n",
              "  <div class=\"colab-df-container\">\n",
              "    <button class=\"colab-df-convert\" onclick=\"convertToInteractive('df-ce5fd772-4e6c-4ab4-bd5a-9c2cccde754d')\"\n",
              "            title=\"Convert this dataframe to an interactive table.\"\n",
              "            style=\"display:none;\">\n",
              "\n",
              "  <svg xmlns=\"http://www.w3.org/2000/svg\" height=\"24px\" viewBox=\"0 -960 960 960\">\n",
              "    <path d=\"M120-120v-720h720v720H120Zm60-500h600v-160H180v160Zm220 220h160v-160H400v160Zm0 220h160v-160H400v160ZM180-400h160v-160H180v160Zm440 0h160v-160H620v160ZM180-180h160v-160H180v160Zm440 0h160v-160H620v160Z\"/>\n",
              "  </svg>\n",
              "    </button>\n",
              "\n",
              "  <style>\n",
              "    .colab-df-container {\n",
              "      display:flex;\n",
              "      gap: 12px;\n",
              "    }\n",
              "\n",
              "    .colab-df-convert {\n",
              "      background-color: #E8F0FE;\n",
              "      border: none;\n",
              "      border-radius: 50%;\n",
              "      cursor: pointer;\n",
              "      display: none;\n",
              "      fill: #1967D2;\n",
              "      height: 32px;\n",
              "      padding: 0 0 0 0;\n",
              "      width: 32px;\n",
              "    }\n",
              "\n",
              "    .colab-df-convert:hover {\n",
              "      background-color: #E2EBFA;\n",
              "      box-shadow: 0px 1px 2px rgba(60, 64, 67, 0.3), 0px 1px 3px 1px rgba(60, 64, 67, 0.15);\n",
              "      fill: #174EA6;\n",
              "    }\n",
              "\n",
              "    .colab-df-buttons div {\n",
              "      margin-bottom: 4px;\n",
              "    }\n",
              "\n",
              "    [theme=dark] .colab-df-convert {\n",
              "      background-color: #3B4455;\n",
              "      fill: #D2E3FC;\n",
              "    }\n",
              "\n",
              "    [theme=dark] .colab-df-convert:hover {\n",
              "      background-color: #434B5C;\n",
              "      box-shadow: 0px 1px 3px 1px rgba(0, 0, 0, 0.15);\n",
              "      filter: drop-shadow(0px 1px 2px rgba(0, 0, 0, 0.3));\n",
              "      fill: #FFFFFF;\n",
              "    }\n",
              "  </style>\n",
              "\n",
              "    <script>\n",
              "      const buttonEl =\n",
              "        document.querySelector('#df-ce5fd772-4e6c-4ab4-bd5a-9c2cccde754d button.colab-df-convert');\n",
              "      buttonEl.style.display =\n",
              "        google.colab.kernel.accessAllowed ? 'block' : 'none';\n",
              "\n",
              "      async function convertToInteractive(key) {\n",
              "        const element = document.querySelector('#df-ce5fd772-4e6c-4ab4-bd5a-9c2cccde754d');\n",
              "        const dataTable =\n",
              "          await google.colab.kernel.invokeFunction('convertToInteractive',\n",
              "                                                    [key], {});\n",
              "        if (!dataTable) return;\n",
              "\n",
              "        const docLinkHtml = 'Like what you see? Visit the ' +\n",
              "          '<a target=\"_blank\" href=https://colab.research.google.com/notebooks/data_table.ipynb>data table notebook</a>'\n",
              "          + ' to learn more about interactive tables.';\n",
              "        element.innerHTML = '';\n",
              "        dataTable['output_type'] = 'display_data';\n",
              "        await google.colab.output.renderOutput(dataTable, element);\n",
              "        const docLink = document.createElement('div');\n",
              "        docLink.innerHTML = docLinkHtml;\n",
              "        element.appendChild(docLink);\n",
              "      }\n",
              "    </script>\n",
              "  </div>\n",
              "\n",
              "\n",
              "<div id=\"df-dd0a397e-2867-4e39-8dee-6b926c8eb3ed\">\n",
              "  <button class=\"colab-df-quickchart\" onclick=\"quickchart('df-dd0a397e-2867-4e39-8dee-6b926c8eb3ed')\"\n",
              "            title=\"Suggest charts\"\n",
              "            style=\"display:none;\">\n",
              "\n",
              "<svg xmlns=\"http://www.w3.org/2000/svg\" height=\"24px\"viewBox=\"0 0 24 24\"\n",
              "     width=\"24px\">\n",
              "    <g>\n",
              "        <path d=\"M19 3H5c-1.1 0-2 .9-2 2v14c0 1.1.9 2 2 2h14c1.1 0 2-.9 2-2V5c0-1.1-.9-2-2-2zM9 17H7v-7h2v7zm4 0h-2V7h2v10zm4 0h-2v-4h2v4z\"/>\n",
              "    </g>\n",
              "</svg>\n",
              "  </button>\n",
              "\n",
              "<style>\n",
              "  .colab-df-quickchart {\n",
              "      --bg-color: #E8F0FE;\n",
              "      --fill-color: #1967D2;\n",
              "      --hover-bg-color: #E2EBFA;\n",
              "      --hover-fill-color: #174EA6;\n",
              "      --disabled-fill-color: #AAA;\n",
              "      --disabled-bg-color: #DDD;\n",
              "  }\n",
              "\n",
              "  [theme=dark] .colab-df-quickchart {\n",
              "      --bg-color: #3B4455;\n",
              "      --fill-color: #D2E3FC;\n",
              "      --hover-bg-color: #434B5C;\n",
              "      --hover-fill-color: #FFFFFF;\n",
              "      --disabled-bg-color: #3B4455;\n",
              "      --disabled-fill-color: #666;\n",
              "  }\n",
              "\n",
              "  .colab-df-quickchart {\n",
              "    background-color: var(--bg-color);\n",
              "    border: none;\n",
              "    border-radius: 50%;\n",
              "    cursor: pointer;\n",
              "    display: none;\n",
              "    fill: var(--fill-color);\n",
              "    height: 32px;\n",
              "    padding: 0;\n",
              "    width: 32px;\n",
              "  }\n",
              "\n",
              "  .colab-df-quickchart:hover {\n",
              "    background-color: var(--hover-bg-color);\n",
              "    box-shadow: 0 1px 2px rgba(60, 64, 67, 0.3), 0 1px 3px 1px rgba(60, 64, 67, 0.15);\n",
              "    fill: var(--button-hover-fill-color);\n",
              "  }\n",
              "\n",
              "  .colab-df-quickchart-complete:disabled,\n",
              "  .colab-df-quickchart-complete:disabled:hover {\n",
              "    background-color: var(--disabled-bg-color);\n",
              "    fill: var(--disabled-fill-color);\n",
              "    box-shadow: none;\n",
              "  }\n",
              "\n",
              "  .colab-df-spinner {\n",
              "    border: 2px solid var(--fill-color);\n",
              "    border-color: transparent;\n",
              "    border-bottom-color: var(--fill-color);\n",
              "    animation:\n",
              "      spin 1s steps(1) infinite;\n",
              "  }\n",
              "\n",
              "  @keyframes spin {\n",
              "    0% {\n",
              "      border-color: transparent;\n",
              "      border-bottom-color: var(--fill-color);\n",
              "      border-left-color: var(--fill-color);\n",
              "    }\n",
              "    20% {\n",
              "      border-color: transparent;\n",
              "      border-left-color: var(--fill-color);\n",
              "      border-top-color: var(--fill-color);\n",
              "    }\n",
              "    30% {\n",
              "      border-color: transparent;\n",
              "      border-left-color: var(--fill-color);\n",
              "      border-top-color: var(--fill-color);\n",
              "      border-right-color: var(--fill-color);\n",
              "    }\n",
              "    40% {\n",
              "      border-color: transparent;\n",
              "      border-right-color: var(--fill-color);\n",
              "      border-top-color: var(--fill-color);\n",
              "    }\n",
              "    60% {\n",
              "      border-color: transparent;\n",
              "      border-right-color: var(--fill-color);\n",
              "    }\n",
              "    80% {\n",
              "      border-color: transparent;\n",
              "      border-right-color: var(--fill-color);\n",
              "      border-bottom-color: var(--fill-color);\n",
              "    }\n",
              "    90% {\n",
              "      border-color: transparent;\n",
              "      border-bottom-color: var(--fill-color);\n",
              "    }\n",
              "  }\n",
              "</style>\n",
              "\n",
              "  <script>\n",
              "    async function quickchart(key) {\n",
              "      const quickchartButtonEl =\n",
              "        document.querySelector('#' + key + ' button');\n",
              "      quickchartButtonEl.disabled = true;  // To prevent multiple clicks.\n",
              "      quickchartButtonEl.classList.add('colab-df-spinner');\n",
              "      try {\n",
              "        const charts = await google.colab.kernel.invokeFunction(\n",
              "            'suggestCharts', [key], {});\n",
              "      } catch (error) {\n",
              "        console.error('Error during call to suggestCharts:', error);\n",
              "      }\n",
              "      quickchartButtonEl.classList.remove('colab-df-spinner');\n",
              "      quickchartButtonEl.classList.add('colab-df-quickchart-complete');\n",
              "    }\n",
              "    (() => {\n",
              "      let quickchartButtonEl =\n",
              "        document.querySelector('#df-dd0a397e-2867-4e39-8dee-6b926c8eb3ed button');\n",
              "      quickchartButtonEl.style.display =\n",
              "        google.colab.kernel.accessAllowed ? 'block' : 'none';\n",
              "    })();\n",
              "  </script>\n",
              "</div>\n",
              "\n",
              "  <div id=\"id_649bb7dc-b7c7-4d4a-8c7b-c652e2347900\">\n",
              "    <style>\n",
              "      .colab-df-generate {\n",
              "        background-color: #E8F0FE;\n",
              "        border: none;\n",
              "        border-radius: 50%;\n",
              "        cursor: pointer;\n",
              "        display: none;\n",
              "        fill: #1967D2;\n",
              "        height: 32px;\n",
              "        padding: 0 0 0 0;\n",
              "        width: 32px;\n",
              "      }\n",
              "\n",
              "      .colab-df-generate:hover {\n",
              "        background-color: #E2EBFA;\n",
              "        box-shadow: 0px 1px 2px rgba(60, 64, 67, 0.3), 0px 1px 3px 1px rgba(60, 64, 67, 0.15);\n",
              "        fill: #174EA6;\n",
              "      }\n",
              "\n",
              "      [theme=dark] .colab-df-generate {\n",
              "        background-color: #3B4455;\n",
              "        fill: #D2E3FC;\n",
              "      }\n",
              "\n",
              "      [theme=dark] .colab-df-generate:hover {\n",
              "        background-color: #434B5C;\n",
              "        box-shadow: 0px 1px 3px 1px rgba(0, 0, 0, 0.15);\n",
              "        filter: drop-shadow(0px 1px 2px rgba(0, 0, 0, 0.3));\n",
              "        fill: #FFFFFF;\n",
              "      }\n",
              "    </style>\n",
              "    <button class=\"colab-df-generate\" onclick=\"generateWithVariable('abstracts')\"\n",
              "            title=\"Generate code using this dataframe.\"\n",
              "            style=\"display:none;\">\n",
              "\n",
              "  <svg xmlns=\"http://www.w3.org/2000/svg\" height=\"24px\"viewBox=\"0 0 24 24\"\n",
              "       width=\"24px\">\n",
              "    <path d=\"M7,19H8.4L18.45,9,17,7.55,7,17.6ZM5,21V16.75L18.45,3.32a2,2,0,0,1,2.83,0l1.4,1.43a1.91,1.91,0,0,1,.58,1.4,1.91,1.91,0,0,1-.58,1.4L9.25,21ZM18.45,9,17,7.55Zm-12,3A5.31,5.31,0,0,0,4.9,8.1,5.31,5.31,0,0,0,1,6.5,5.31,5.31,0,0,0,4.9,4.9,5.31,5.31,0,0,0,6.5,1,5.31,5.31,0,0,0,8.1,4.9,5.31,5.31,0,0,0,12,6.5,5.46,5.46,0,0,0,6.5,12Z\"/>\n",
              "  </svg>\n",
              "    </button>\n",
              "    <script>\n",
              "      (() => {\n",
              "      const buttonEl =\n",
              "        document.querySelector('#id_649bb7dc-b7c7-4d4a-8c7b-c652e2347900 button.colab-df-generate');\n",
              "      buttonEl.style.display =\n",
              "        google.colab.kernel.accessAllowed ? 'block' : 'none';\n",
              "\n",
              "      buttonEl.onclick = () => {\n",
              "        google.colab.notebook.generateWithVariable('abstracts');\n",
              "      }\n",
              "      })();\n",
              "    </script>\n",
              "  </div>\n",
              "\n",
              "    </div>\n",
              "  </div>\n"
            ],
            "application/vnd.google.colaboratory.intrinsic+json": {
              "type": "dataframe",
              "variable_name": "abstracts",
              "summary": "{\n  \"name\": \"abstracts\",\n  \"rows\": 4,\n  \"fields\": [\n    {\n      \"column\": \"abstract\",\n      \"properties\": {\n        \"dtype\": \"string\",\n        \"num_unique_values\": 4,\n        \"samples\": [\n          \"Postpartum depression (PPD) is the most prevalent mood disorder associated with childbirth. No single cause of PPD has been identified, however the increased risk of nutritional deficiencies incurred through the high nutritional requirements of pregnancy may play a role in the pathology of depressive symptoms. Three nutritional interventions have drawn particular interest as possible non-invasive and cost-effective prevention and/or treatment strategies for PPD; omega-3 (n-3) long chain polyunsaturated fatty acids (LCPUFA), vitamin D and overall diet. We searched for meta-analyses of randomised controlled trials (RCT's) of nutritional interventions during the perinatal period with PPD as an outcome, and checked for any trials published subsequently to the meta-analyses. Fish oil: Eleven RCT's of prenatal fish oil supplementation RCT's show null and positive effects on PPD symptoms. Vitamin D: no relevant RCT's were identified, however seven observational studies of maternal vitamin D levels with PPD outcomes showed inconsistent associations. Diet: Two Australian RCT's with dietary advice interventions in pregnancy had a positive and null result on PPD. With the exception of fish oil, few RCT's with nutritional interventions during pregnancy assess PPD. Further research is needed to determine whether nutritional intervention strategies during pregnancy can protect against symptoms of PPD. Given the prevalence of PPD and ease of administering PPD measures, we recommend future prenatal nutritional RCT's include PPD as an outcome.\",\n          \"Hepatitis C virus (HCV) and alcoholic liver disease (ALD), either alone or in combination, count for more than two thirds of all liver diseases in the Western world. There is no safe level of drinking in HCV-infected patients and the most effective goal for these patients is total abstinence. Baclofen, a GABA(B) receptor agonist, represents a promising pharmacotherapy for alcohol dependence (AD). Previously, we performed a randomized clinical trial (RCT), which demonstrated the safety and efficacy of baclofen in patients affected by AD and cirrhosis. The goal of this post-hoc analysis was to explore baclofen's effect in a subgroup of alcohol-dependent HCV-infected cirrhotic patients. Any patient with HCV infection was selected for this analysis. Among the 84 subjects randomized in the main trial, 24 alcohol-dependent cirrhotic patients had a HCV infection; 12 received baclofen 10mg t.i.d. and 12 received placebo for 12-weeks. With respect to the placebo group (3/12, 25.0%), a significantly higher number of patients who achieved and maintained total alcohol abstinence was found in the baclofen group (10/12, 83.3%; p=0.0123). Furthermore, in the baclofen group, compared to placebo, there was a significantly higher increase in albumin values from baseline (p=0.0132) and a trend toward a significant reduction in INR levels from baseline (p=0.0716). In conclusion, baclofen was safe and significantly more effective than placebo in promoting alcohol abstinence, and improving some Liver Function Tests (LFTs) (i.e. albumin, INR) in alcohol-dependent HCV-infected cirrhotic patients. Baclofen may represent a clinically relevant alcohol pharmacotherapy for these patients.\",\n          \"This RCT examined the efficacy of a manualized social intervention for children with HFASDs. Participants were randomly assigned to treatment or wait-list conditions. Treatment included instruction and therapeutic activities targeting social skills, face-emotion recognition, interest expansion, and interpretation of non-literal language. A response-cost program was applied to reduce problem behaviors and foster skills acquisition. Significant treatment effects were found for five of seven primary outcome measures (parent ratings and direct child measures). Secondary measures based on staff ratings (treatment group only) corroborated gains reported by parents. High levels of parent, child and staff satisfaction were reported, along with high levels of treatment fidelity. Standardized effect size estimates were primarily in the medium and large ranges and favored the treatment group.\"\n        ],\n        \"semantic_type\": \"\",\n        \"description\": \"\"\n      }\n    },\n    {\n      \"column\": \"source\",\n      \"properties\": {\n        \"dtype\": \"string\",\n        \"num_unique_values\": 4,\n        \"samples\": [\n          \"https://pubmed.ncbi.nlm.nih.gov/28012571/\",\n          \"https://pubmed.ncbi.nlm.nih.gov/22244707/\",\n          \"https://pubmed.ncbi.nlm.nih.gov/20232240/\"\n        ],\n        \"semantic_type\": \"\",\n        \"description\": \"\"\n      }\n    },\n    {\n      \"column\": \"details\",\n      \"properties\": {\n        \"dtype\": \"string\",\n        \"num_unique_values\": 4,\n        \"samples\": [\n          \"Formatting removed (can be used to compare model to actual example)\",\n          \"Baclofen promotes alcohol abstinence in alcohol dependent cirrhotic patients with hepatitis C virus (HCV) infection\",\n          \"RCT of a manualized social treatment for high-functioning autism spectrum disorders\"\n        ],\n        \"semantic_type\": \"\",\n        \"description\": \"\"\n      }\n    }\n  ]\n}"
            }
          },
          "metadata": {},
          "execution_count": 134
        }
      ]
    },
    {
      "cell_type": "code",
      "source": [
        "def perepare_data_for_prediction(example_abstracts):\n",
        "  from spacy.lang.en import English\n",
        "  nlp = English() # setup English sentence parser\n",
        "\n",
        "  # New version of spaCy\n",
        "  sentencizer = nlp.add_pipe(\"sentencizer\") # create sentence splitting pipeline object\n",
        "\n",
        "  # Old version of spaCy\n",
        "  # sentencizer = nlp.create_pipe(\"sentencizer\") # create sentence splitting pipeline object\n",
        "  # nlp.add_pipe(sentencizer) # add sentence splitting pipeline object to sentence parser\n",
        "\n",
        "  # Create \"doc\" of parsed sequences, change index for a different abstract\n",
        "  doc = nlp(example_abstracts[0][\"abstract\"])\n",
        "  abstract_lines = [str(sent) for sent in list(doc.sents)] # return detected sentences from doc in string type (not spaCy token type)\n",
        "  # Get total number of lines\n",
        "  total_lines_in_sample = len(abstract_lines)\n",
        "\n",
        "  # Go through each line in abstract and create a list of dictionaries containing features for each line\n",
        "  sample_lines = []\n",
        "  for i, line in enumerate(abstract_lines):\n",
        "    sample_dict = {}\n",
        "    sample_dict[\"text\"] = str(line)\n",
        "    sample_dict[\"line_number\"] = i\n",
        "    sample_dict[\"total_lines\"] = total_lines_in_sample - 1\n",
        "    sample_lines.append(sample_dict)\n",
        "  # Get all line_number values from sample abstract\n",
        "  test_abstract_line_numbers = [line[\"line_number\"] for line in sample_lines]\n",
        "  # One-hot encode to same depth as training data, so model accepts right input shape\n",
        "  test_abstract_line_numbers_one_hot = tf.one_hot(test_abstract_line_numbers, depth=15)\n",
        "  # Get all total_lines values from sample abstract\n",
        "  test_abstract_total_lines = [line[\"total_lines\"] for line in sample_lines]\n",
        "  # One-hot encode to same depth as training data, so model accepts right input shape\n",
        "  test_abstract_total_lines_one_hot = tf.one_hot(test_abstract_total_lines, depth=20)\n",
        "  # Split abstract lines into characters\n",
        "  abstract_chars = [split_sentences(sentence) for sentence in abstract_lines]\n",
        "  # Make predictions on sample abstract features\n",
        "  test_abstract_pred_probs = model_5.predict(x=(\n",
        "      tf.constant(abstract_lines),\n",
        "      tf.constant(abstract_chars),\n",
        "      test_abstract_line_numbers_one_hot,\n",
        "      test_abstract_total_lines_one_hot\n",
        "  ))\n",
        "  test_abstract_preds = tf.argmax(test_abstract_pred_probs, axis=1)\n",
        "  test_abstract_pred_classes = [label_encoder.classes_[i] for i in test_abstract_preds]\n",
        "\n",
        "  # Visualize abstract lines and predicted sequence labels\n",
        "  for i, line in enumerate(abstract_lines):\n",
        "    print(f\"{test_abstract_pred_classes[i]}: {line}\")\n"
      ],
      "metadata": {
        "id": "DBAmDVQ_vlTd"
      },
      "execution_count": 163,
      "outputs": []
    },
    {
      "cell_type": "code",
      "source": [
        "perepare_data_for_prediction(example_abstracts)"
      ],
      "metadata": {
        "colab": {
          "base_uri": "https://localhost:8080/"
        },
        "id": "XNJYFZ5nvPrE",
        "outputId": "a38e701c-c1eb-4ff4-e2f4-2db9cbb42330"
      },
      "execution_count": 164,
      "outputs": [
        {
          "output_type": "stream",
          "name": "stdout",
          "text": [
            "1/1 [==============================] - 0s 113ms/step\n",
            "OBJECTIVE: This RCT examined the efficacy of a manualized social intervention for children with HFASDs.\n",
            "METHODS: Participants were randomly assigned to treatment or wait-list conditions.\n",
            "METHODS: Treatment included instruction and therapeutic activities targeting social skills, face-emotion recognition, interest expansion, and interpretation of non-literal language.\n",
            "METHODS: A response-cost program was applied to reduce problem behaviors and foster skills acquisition.\n",
            "RESULTS: Significant treatment effects were found for five of seven primary outcome measures (parent ratings and direct child measures).\n",
            "METHODS: Secondary measures based on staff ratings (treatment group only) corroborated gains reported by parents.\n",
            "RESULTS: High levels of parent, child and staff satisfaction were reported, along with high levels of treatment fidelity.\n",
            "RESULTS: Standardized effect size estimates were primarily in the medium and large ranges and favored the treatment group.\n"
          ]
        }
      ]
    },
    {
      "cell_type": "code",
      "source": [],
      "metadata": {
        "id": "NQjuLdoMt4e7"
      },
      "execution_count": null,
      "outputs": []
    }
  ],
  "metadata": {
    "accelerator": "GPU",
    "colab": {
      "gpuType": "T4",
      "provenance": []
    },
    "kernelspec": {
      "display_name": "Python 3",
      "name": "python3"
    },
    "language_info": {
      "name": "python"
    }
  },
  "nbformat": 4,
  "nbformat_minor": 0
}